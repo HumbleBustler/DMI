{
  "nbformat": 4,
  "nbformat_minor": 0,
  "metadata": {
    "kernelspec": {
      "display_name": "Python 3",
      "language": "python",
      "name": "python3"
    },
    "language_info": {
      "codemirror_mode": {
        "name": "ipython",
        "version": 3
      },
      "file_extension": ".py",
      "mimetype": "text/x-python",
      "name": "python",
      "nbconvert_exporter": "python",
      "pygments_lexer": "ipython3",
      "version": "3.6.4"
    },
    "colab": {
      "name": "DMWA1.ipynb",
      "provenance": [],
      "collapsed_sections": []
    }
  },
  "cells": [
    {
      "cell_type": "code",
      "metadata": {
        "id": "gw1SdidJ4H4q"
      },
      "source": [
        "# libraries\n",
        "import pandas as pd\n",
        "import numpy as np\n",
        "from sklearn.svm import SVC\n",
        "from sklearn.model_selection import train_test_split\n",
        "from sklearn import metrics\n",
        "from sklearn.metrics import confusion_matrix\n",
        "from sklearn.model_selection import KFold\n",
        "from sklearn.model_selection import cross_val_score\n",
        "from sklearn.model_selection import GridSearchCV\n",
        "import matplotlib.pyplot as plt\n",
        "import seaborn as sns\n",
        "from sklearn.preprocessing import scale\n",
        "\n",
        "letters = pd.read_csv(\"letter-recognition.csv\")"
      ],
      "execution_count": 1,
      "outputs": []
    },
    {
      "cell_type": "code",
      "metadata": {
        "scrolled": true,
        "colab": {
          "base_uri": "https://localhost:8080/"
        },
        "id": "KxS82uhy4H4u",
        "outputId": "658e24cc-c2fc-4de6-e096-e52aa0863ba7"
      },
      "source": [
        "print(\"Dimensions: \", letters.shape, \"\\n\")"
      ],
      "execution_count": 2,
      "outputs": [
        {
          "output_type": "stream",
          "text": [
            "Dimensions:  (20000, 17) \n",
            "\n"
          ],
          "name": "stdout"
        }
      ]
    },
    {
      "cell_type": "code",
      "metadata": {
        "colab": {
          "base_uri": "https://localhost:8080/"
        },
        "id": "I05lF3fO4H4z",
        "outputId": "26ee8c4d-ac7f-459c-a934-bfa3b3669608"
      },
      "source": [
        "letters.columns = ['letter', 'xbox', 'ybox', 'width', 'height', 'onpix', 'xbar', 'ybar', 'x2bar', 'y2bar', 'xybar', 'x2ybar', 'xy2bar', 'xedge', 'xedgey', 'yedge', 'yedgex']\n",
        "print(letters.columns)"
      ],
      "execution_count": 3,
      "outputs": [
        {
          "output_type": "stream",
          "text": [
            "Index(['letter', 'xbox', 'ybox', 'width', 'height', 'onpix', 'xbar', 'ybar',\n",
            "       'x2bar', 'y2bar', 'xybar', 'x2ybar', 'xy2bar', 'xedge', 'xedgey',\n",
            "       'yedge', 'yedgex'],\n",
            "      dtype='object')\n"
          ],
          "name": "stdout"
        }
      ]
    },
    {
      "cell_type": "code",
      "metadata": {
        "colab": {
          "base_uri": "https://localhost:8080/"
        },
        "id": "bpvX5UB_4H40",
        "outputId": "419eeee8-d0e1-4996-ac0c-afa0cff04b9e"
      },
      "source": [
        "order = list(np.sort(letters['letter'].unique()))\n",
        "print(order)"
      ],
      "execution_count": 4,
      "outputs": [
        {
          "output_type": "stream",
          "text": [
            "['A', 'B', 'C', 'D', 'E', 'F', 'G', 'H', 'I', 'J', 'K', 'L', 'M', 'N', 'O', 'P', 'Q', 'R', 'S', 'T', 'U', 'V', 'W', 'X', 'Y', 'Z']\n"
          ],
          "name": "stdout"
        }
      ]
    },
    {
      "cell_type": "code",
      "metadata": {
        "colab": {
          "base_uri": "https://localhost:8080/"
        },
        "id": "__mRCQrz4H43",
        "outputId": "4bf80038-fb16-4283-dcb6-43d8b7b4acc1"
      },
      "source": [
        "round(letters.drop('letter', axis=1).mean(), 2)"
      ],
      "execution_count": 5,
      "outputs": [
        {
          "output_type": "execute_result",
          "data": {
            "text/plain": [
              "xbox      4.02\n",
              "ybox      7.04\n",
              "width     5.12\n",
              "height    5.37\n",
              "onpix     3.51\n",
              "xbar      6.90\n",
              "ybar      7.50\n",
              "x2bar     4.63\n",
              "y2bar     5.18\n",
              "xybar     8.28\n",
              "x2ybar    6.45\n",
              "xy2bar    7.93\n",
              "xedge     3.05\n",
              "xedgey    8.34\n",
              "yedge     3.69\n",
              "yedgex    7.80\n",
              "dtype: float64"
            ]
          },
          "metadata": {
            "tags": []
          },
          "execution_count": 5
        }
      ]
    },
    {
      "cell_type": "code",
      "metadata": {
        "id": "Ch5yyqph4H45"
      },
      "source": [
        "X = letters.drop(\"letter\", axis = 1)\n",
        "y = letters['letter']"
      ],
      "execution_count": 6,
      "outputs": []
    },
    {
      "cell_type": "code",
      "metadata": {
        "id": "uAyFsxxO4H45"
      },
      "source": [
        "X_scaled = scale(X)\n",
        "X_train, X_test, y_train, y_test = train_test_split(X_scaled, y, test_size = 0.3, random_state = 101)"
      ],
      "execution_count": 7,
      "outputs": []
    },
    {
      "cell_type": "code",
      "metadata": {
        "colab": {
          "base_uri": "https://localhost:8080/"
        },
        "id": "Q17Qt_ZLy9HB",
        "outputId": "210705ad-e02b-4df1-cf5c-f3a7e61e34ce"
      },
      "source": [
        "print(y_train)"
      ],
      "execution_count": 8,
      "outputs": [
        {
          "output_type": "stream",
          "text": [
            "10593    H\n",
            "18903    N\n",
            "6491     X\n",
            "17136    V\n",
            "19651    Z\n",
            "        ..\n",
            "5695     K\n",
            "8006     P\n",
            "17745    P\n",
            "17931    U\n",
            "13151    M\n",
            "Name: letter, Length: 14000, dtype: object\n"
          ],
          "name": "stdout"
        }
      ]
    },
    {
      "cell_type": "code",
      "metadata": {
        "colab": {
          "base_uri": "https://localhost:8080/"
        },
        "id": "4S8iYAu_9QeL",
        "outputId": "d2abde8d-57a2-4f2e-bace-ad081c01478c"
      },
      "source": [
        "import random\r\n",
        "print(type(X_train))\r\n",
        "print((y_train.to_numpy()))"
      ],
      "execution_count": 9,
      "outputs": [
        {
          "output_type": "stream",
          "text": [
            "<class 'numpy.ndarray'>\n",
            "['H' 'N' 'X' ... 'P' 'U' 'M']\n"
          ],
          "name": "stdout"
        }
      ]
    },
    {
      "cell_type": "code",
      "metadata": {
        "id": "7_LLXzdVvaGq"
      },
      "source": [
        "import math\r\n",
        "def markov_samp(X_train, Y_train, k = 10, q = 1.2):\r\n",
        "    samp = []\r\n",
        "    for ctr in range(k):\r\n",
        "        # Init_sampl = np.concatenate((X_train, np.array()), axis = 0)\r\n",
        "        Init_sampl = np.concatenate((np.vstack(X_train), np.vstack(Y_train.to_numpy())), axis = 1)\r\n",
        "        Dtr = random.sample(list(Init_sampl), int(2000))\r\n",
        "\r\n",
        "        m = len(Dtr)\r\n",
        "        print(\"M : \" , m)\r\n",
        "        # mplus =np.count_nonzero(np.array(Dtr[16]) == 'A')\r\n",
        "        # mplus = Dtr[16].count('A')\r\n",
        "        mneg = 0\r\n",
        "        mplus = 0\r\n",
        "\r\n",
        "        index = np.random.choice(len(Dtr), 1, replace=False)  \r\n",
        "        Dtra = np.array(Dtr)\r\n",
        "        print(type(Dtra))\r\n",
        "        zt = Dtra[index][0]\r\n",
        "\r\n",
        "        # print(\"zt : \", zt)\r\n",
        "        if m%2 == 0:\r\n",
        "            if zt[16] == 'A':\r\n",
        "                mplus += 1;\r\n",
        "            else:\r\n",
        "                mneg += 1\r\n",
        "        \r\n",
        "\r\n",
        "        model_linear = SVC(kernel='linear')#\r\n",
        "        model_linear.fit(X_train, Y_train)#\r\n",
        "        \r\n",
        "        yzt = model_linear.predict(np.array(zt)[0:16].reshape(1, -1))\r\n",
        "        fxy1 = 1\r\n",
        "        if not yzt==zt[16]:\r\n",
        "            fxy1 = 2 \r\n",
        "        lzt = math.exp(0-fxy1)\r\n",
        "\r\n",
        "        Pd = 0\r\n",
        "        Pdd = 0\r\n",
        "        \r\n",
        "        while(mplus + mneg < m ):\r\n",
        "            zstar = Dtra[np.random.choice(len(Dtr), 1, replace=False)][0]\r\n",
        "            ystar = model_linear.predict(np.array(zstar)[ 0:16].reshape(1, -1)) #\r\n",
        "            fxy = 1\r\n",
        "            if not ystar==zstar[16]:\r\n",
        "                fxy = 2 \r\n",
        "            lzstar = math.exp(0-fxy)\r\n",
        "            P = math.exp(lzt-lzstar)\r\n",
        "            # print(zt)\r\n",
        "            yt = zt[16]\r\n",
        "            zt = zstar\r\n",
        "\r\n",
        "            if P == 1:\r\n",
        "                if zt[16] == yt:\r\n",
        "                    r = random.uniform(0.001, 1.0)\r\n",
        "                    if r <= P:\r\n",
        "                        samp.append(zstar) #Pdash = e−y∗f0 /e−ytf0\r\n",
        "                else:\r\n",
        "                    ct = 1 if yt=='A' else -1\r\n",
        "                    cst = 1 if ystar=='A' else -1\r\n",
        "                    Pd = math.exp(ct*fxy1-cst*fxy)\r\n",
        "                    r = random.uniform(0.001, 1.0)\r\n",
        "                    if r <= Pd:\r\n",
        "                        samp.append(zstar) #P\r\n",
        "\r\n",
        "            if len(samp) == k:\r\n",
        "                Pdd = q*P\r\n",
        "                samp.append(zstar) #Pdd\r\n",
        "                \r\n",
        "            ztp1 = zstar\r\n",
        "            if yt == 'A':\r\n",
        "                mplus += 1\r\n",
        "            else:\r\n",
        "                mneg += 1\r\n",
        "\r\n",
        "            if P > 1 or Pd > 1 or Pdd > 1:\r\n",
        "                samp.append(zstar)\r\n",
        "    return samp\r\n"
      ],
      "execution_count": 10,
      "outputs": []
    },
    {
      "cell_type": "code",
      "metadata": {
        "colab": {
          "base_uri": "https://localhost:8080/"
        },
        "id": "q9xnR2e6S6R8",
        "outputId": "a40ef445-7e22-4ab5-ef53-f33b6d320cdb"
      },
      "source": [
        "nsamp = np.array(markov_samp(X_train, y_train))\r\n",
        "print(nsamp.shape)\r\n",
        "X_train = nsamp[:, 0:16]\r\n",
        "y_train = nsamp[:, 16]\r\n",
        "print(X_train.shape)\r\n",
        "print(y_train.shape)"
      ],
      "execution_count": 11,
      "outputs": [
        {
          "output_type": "stream",
          "text": [
            "M :  2000\n",
            "<class 'numpy.ndarray'>\n",
            "M :  2000\n",
            "<class 'numpy.ndarray'>\n",
            "M :  2000\n",
            "<class 'numpy.ndarray'>\n",
            "M :  2000\n",
            "<class 'numpy.ndarray'>\n",
            "M :  2000\n",
            "<class 'numpy.ndarray'>\n",
            "M :  2000\n",
            "<class 'numpy.ndarray'>\n",
            "M :  2000\n",
            "<class 'numpy.ndarray'>\n",
            "M :  2000\n",
            "<class 'numpy.ndarray'>\n",
            "M :  2000\n",
            "<class 'numpy.ndarray'>\n",
            "M :  2000\n",
            "<class 'numpy.ndarray'>\n",
            "(20009, 17)\n",
            "(20009, 16)\n",
            "(20009,)\n"
          ],
          "name": "stdout"
        }
      ]
    },
    {
      "cell_type": "code",
      "metadata": {
        "id": "Czgzdz3sWUFN"
      },
      "source": [
        "# print(y_train)\r\n",
        "Y_train = []\r\n",
        "for i in y_train:\r\n",
        "    # print(i)\r\n",
        "    Y_train.append(ord(i))\r\n",
        "# print(Y_train)"
      ],
      "execution_count": 12,
      "outputs": []
    },
    {
      "cell_type": "code",
      "metadata": {
        "colab": {
          "base_uri": "https://localhost:8080/"
        },
        "id": "TWGtELnRR6b2",
        "outputId": "46f0baed-6d9b-4c07-c37d-3946379e0a9b"
      },
      "source": [
        "print(X_test.shape)"
      ],
      "execution_count": 13,
      "outputs": [
        {
          "output_type": "stream",
          "text": [
            "(6000, 16)\n"
          ],
          "name": "stdout"
        }
      ]
    },
    {
      "cell_type": "code",
      "metadata": {
        "id": "ZGqTVqGr4H46"
      },
      "source": [
        "model_linear = SVC(kernel='linear')\n",
        "model_linear.fit(X_train, Y_train)\n",
        "y_pred = model_linear.predict(X_test)\n"
      ],
      "execution_count": 14,
      "outputs": []
    },
    {
      "cell_type": "code",
      "metadata": {
        "id": "MXAxhg-sScBh"
      },
      "source": [
        "# print(y_pred)\r\n",
        "Y_test = []\r\n",
        "for i in y_test:\r\n",
        "    Y_test.append(ord(i))\r\n",
        "# print(Y_test)"
      ],
      "execution_count": 15,
      "outputs": []
    },
    {
      "cell_type": "code",
      "metadata": {
        "colab": {
          "base_uri": "https://localhost:8080/"
        },
        "id": "s12I7fMO4H46",
        "outputId": "4d73aeea-3c42-4c6c-914e-7315980b5789"
      },
      "source": [
        "print(\"Accuracy linear kernel : \", metrics.accuracy_score(y_true=Y_test, y_pred=y_pred), \"\\n\")\n",
        "print(metrics.confusion_matrix(y_true=Y_test, y_pred=y_pred))"
      ],
      "execution_count": 16,
      "outputs": [
        {
          "output_type": "stream",
          "text": [
            "Accuracy linear kernel :  0.8363333333333334 \n",
            "\n",
            "[[184   0   0   0   0   0   1   1   0   0   1   2   1   2   0   0   1   3\n",
            "    4   1   2   0   0   0   3   3]\n",
            " [  0 187   0   3   1   0   4   7   0   0   0   0   0   1   0   1   0   8\n",
            "    3   0   0   1   0   1   1   0]\n",
            " [  2   0 202   0   5   0  12   1   0   0   3   0   1   0   3   0   0   0\n",
            "    0   0   1   0   0   0   0   0]\n",
            " [  1  17   0 207   0   1   4   2   1   0   0   0   1   3   2   0   1   6\n",
            "    0   1   0   0   0   0   0   1]\n",
            " [  0   1   4   0 201   2   4   3   0   0   2   5   0   0   0   0   2   1\n",
            "    1   5   0   0   0   1   0   2]\n",
            " [  4   0   2   2   0 192   1   2   1   1   0   0   0   1   0   3   0   0\n",
            "    2   8   0   0   0   1   5   0]\n",
            " [  0   1  12   3  10   2 154   0   0   0   4   2   2   0   2   0  13   1\n",
            "    8   0   0   2   3   0   0   0]\n",
            " [  3   2   3  12   0   4   3 140   1   1   5   1   2   1  17   0   2  11\n",
            "    0   0   4   1   0   2   2   0]\n",
            " [  0   0   1   3   0   7   1   0 185   9   0   1   0   0   1   0   0   0\n",
            "    0   0   0   0   0   4   0   3]\n",
            " [  1   0   0   2   0   1   0   2  17 185   0   0   0   1   2   0   0   0\n",
            "    2   0   1   0   0   0   0   6]\n",
            " [  2   1   6   5   1   0   1   2   0   0 194   2   3   0   0   0   1  13\n",
            "    0   0   1   0   0  13   0   0]\n",
            " [  2   0   3   2   3   0   9   2   0   0   2 203   0   0   0   0   8   1\n",
            "    1   1   0   0   0   0   0   0]\n",
            " [  0   1   0   1   0   0   0   4   0   0   0   0 217   3   1   0   0   1\n",
            "    0   0   1   0   5   0   0   0]\n",
            " [  1   0   0   6   0   0   0   4   0   0   0   0   4 231   2   2   0   0\n",
            "    0   0   0   0   1   0   0   0]\n",
            " [  2   0   6   8   0   0   6  22   0   1   0   0   5   0 154   3   4   2\n",
            "    0   1   0   0   7   0   0   0]\n",
            " [  0   1   1   1   0  19   3   2   0   1   1   0   0   2   1 220   1   0\n",
            "    1   0   0   1   1   0   9   0]\n",
            " [  4   1   1   0   5   0  14   0   0   3   0   2   0   0   6   0 184   0\n",
            "   11   0   0   0   2   0   1   1]\n",
            " [  9   9   0   2   0   1   4   7   0   0   8   0   2   4   4   0   2 189\n",
            "    0   2   0   0   0   0   0   0]\n",
            " [  2  10   0   0   8   6   9   0   6   1   0   1   0   0   0   0   3   1\n",
            "  162   3   0   0   0   5   0  11]\n",
            " [  0   0   0   1   3   4   1   2   0   0   0   0   0   0   0   1   0   1\n",
            "    6 211   0   0   0   1   4   4]\n",
            " [  1   0   2   0   0   0   0   2   0   0   0   0   3   3   3   0   0   0\n",
            "    0   1 209   0   0   0   0   0]\n",
            " [  0   3   0   0   0   2   1   3   0   0   0   0   1   2   0   1   0   2\n",
            "    0   0   1 186   6   0   3   0]\n",
            " [  0   0   0   0   0   0   1   1   0   0   0   0   6   2   1   0   0   0\n",
            "    0   0   0   2 209   0   0   0]\n",
            " [  0   2   0   6   1   0   2   0   2   1   9   4   0   0   1   0   0   2\n",
            "    2   2   1   0   0 208   0   1]\n",
            " [  2   0   0   0   0   1   0   1   0   1   0   0   1   0   0   0   1   0\n",
            "    0   4   1  10   0   2 213   0]\n",
            " [  0   0   0   0   3   0   0   0   0  13   0   0   0   0   0   0   2   0\n",
            "   18   2   0   0   0   0   0 191]]\n"
          ],
          "name": "stdout"
        }
      ]
    },
    {
      "cell_type": "code",
      "metadata": {
        "id": "Nwim2CnS4H47"
      },
      "source": [
        "non_linear_model = SVC(kernel='rbf')\n",
        "non_linear_model.fit(X_train, Y_train)\n",
        "y_pred = non_linear_model.predict(X_test)"
      ],
      "execution_count": 17,
      "outputs": []
    },
    {
      "cell_type": "code",
      "metadata": {
        "colab": {
          "base_uri": "https://localhost:8080/"
        },
        "id": "BV511QZK4H48",
        "outputId": "13e9b3cf-2c85-446c-a212-0696c7812f7e"
      },
      "source": [
        "print(\"Accuracy rbf kernel:\", metrics.accuracy_score(y_true=Y_test, y_pred=y_pred), \"\\n\")\n",
        "print(metrics.confusion_matrix(y_true=Y_test, y_pred=y_pred))"
      ],
      "execution_count": 18,
      "outputs": [
        {
          "output_type": "stream",
          "text": [
            "Accuracy rbf kernel: 0.935 \n",
            "\n",
            "[[195   0   0   1   0   0   1   0   0   0   0   1   1   0   0   0   0   0\n",
            "    0   0   2   1   0   0   3   4]\n",
            " [  0 207   0   1   1   0   2   1   0   0   0   0   0   0   0   0   0   4\n",
            "    1   0   0   0   0   1   0   0]\n",
            " [  0   0 215   0   3   0   7   1   0   0   0   0   0   0   4   0   0   0\n",
            "    0   0   0   0   0   0   0   0]\n",
            " [  0   8   0 231   0   0   1   3   0   0   0   0   0   0   1   0   0   1\n",
            "    1   0   1   0   0   0   0   1]\n",
            " [  0   0   3   0 223   1   4   0   0   0   0   0   0   0   0   0   0   1\n",
            "    1   0   0   0   0   0   0   1]\n",
            " [  0   1   0   1   0 209   0   4   1   0   0   0   0   1   0   4   0   0\n",
            "    1   3   0   0   0   0   0   0]\n",
            " [  0   0   4   4   2   1 202   0   0   0   0   1   1   0   0   0   0   1\n",
            "    0   0   0   1   2   0   0   0]\n",
            " [  0   2   2   8   0   1   4 176   0   0   1   0   1   1   4   1   3  11\n",
            "    0   0   2   0   0   0   0   0]\n",
            " [  0   0   1   0   0   2   0   0 194  13   0   0   0   0   0   3   0   0\n",
            "    1   0   0   0   0   1   0   0]\n",
            " [  0   0   0   1   0   0   0   0   8 205   0   0   0   1   1   0   1   0\n",
            "    1   0   2   0   0   0   0   0]\n",
            " [  0   0   0   4   0   0   0   4   0   0 219   0   2   0   0   0   0  12\n",
            "    0   1   1   0   0   2   0   0]\n",
            " [  0   1   2   0   3   0   6   0   0   0   1 221   0   0   0   0   0   1\n",
            "    0   1   0   0   0   1   0   0]\n",
            " [  0   1   0   0   0   0   0   0   0   0   0   0 231   0   0   0   0   0\n",
            "    0   0   0   0   2   0   0   0]\n",
            " [  0   1   0   2   0   0   0   1   0   0   0   0   3 232   7   0   0   5\n",
            "    0   0   0   0   0   0   0   0]\n",
            " [  0   0   0   3   0   0   1   0   0   0   0   0   1   0 203   0   3   1\n",
            "    0   0   1   0   8   0   0   0]\n",
            " [  0   1   0   2   2   8   1   1   0   0   0   0   0   0   1 242   1   1\n",
            "    0   0   0   0   0   0   5   0]\n",
            " [  0   0   0   1   2   0   1   0   0   0   0   0   0   0   2   0 226   0\n",
            "    1   0   0   0   1   0   1   0]\n",
            " [  0  11   0   2   0   0   0   2   0   0   3   0   0   2   0   0   0 222\n",
            "    0   1   0   0   0   0   0   0]\n",
            " [  0   1   0   0   1   7   0   0   0   0   0   1   0   0   0   0   0   0\n",
            "  216   0   0   0   0   1   0   1]\n",
            " [  0   0   0   1   1   2   0   2   0   0   0   0   0   0   0   1   0   0\n",
            "    2 227   0   0   0   2   1   0]\n",
            " [  0   0   0   0   0   0   0   1   0   0   0   0   0   0   1   0   0   0\n",
            "    0   0 222   0   0   0   0   0]\n",
            " [  0   3   0   0   0   0   1   2   0   0   0   0   2   1   0   1   0   4\n",
            "    0   0   0 193   1   0   3   0]\n",
            " [  0   0   0   0   0   0   1   0   0   0   0   0   3   1   0   0   0   0\n",
            "    0   0   0   0 217   0   0   0]\n",
            " [  0   2   0   5   1   0   0   0   0   0   3   1   0   0   0   0   0   1\n",
            "    0   0   0   0   0 231   0   0]\n",
            " [  0   0   0   0   0   0   0   1   0   0   0   0   2   0   0   0   2   0\n",
            "    0   1   1   2   0   0 228   0]\n",
            " [  0   0   0   0   1   1   0   0   0   0   0   0   0   0   0   0   3   0\n",
            "    1   0   0   0   0   0   0 223]]\n"
          ],
          "name": "stdout"
        }
      ]
    },
    {
      "cell_type": "code",
      "metadata": {
        "id": "3gOHknJUWUiN"
      },
      "source": [
        "non_linear_model = SVC(kernel='poly')\n",
        "non_linear_model.fit(X_train, Y_train)\n",
        "y_pred = non_linear_model.predict(X_test)"
      ],
      "execution_count": 19,
      "outputs": []
    },
    {
      "cell_type": "code",
      "metadata": {
        "colab": {
          "base_uri": "https://localhost:8080/"
        },
        "id": "YDo9UJ70WUil",
        "outputId": "c6b29934-97d7-477d-d82e-f610d9bb3819"
      },
      "source": [
        "print(\"Accuracy polynomial kernel:\", metrics.accuracy_score(y_true=Y_test, y_pred=y_pred), \"\\n\")\n",
        "print(metrics.confusion_matrix(y_true=Y_test, y_pred=y_pred))"
      ],
      "execution_count": 20,
      "outputs": [
        {
          "output_type": "stream",
          "text": [
            "Accuracy polynomial kernel: 0.8911666666666667 \n",
            "\n",
            "[[191   0   0   1   0   0   0   0   0   1   0   1   0   2   2   0   0   1\n",
            "    0   0   1   0   0   2   2   5]\n",
            " [  0 184   0   3   1   0   2   5   0   0   0   0   1   0  14   0   0   2\n",
            "    1   0   0   2   0   3   0   0]\n",
            " [  0   0 204   0   4   0   7   0   0   0   1   0   0   0  12   0   0   0\n",
            "    0   0   0   0   0   2   0   0]\n",
            " [  0   4   0 222   0   0   1   4   1   0   0   0   0   1  13   0   0   2\n",
            "    0   0   0   0   0   0   0   0]\n",
            " [  0   0   1   0 206   0   6   1   0   0   0   0   0   0   2   0   3   0\n",
            "    0   0   0   0   0  15   0   0]\n",
            " [  0   0   0   3   0 202   0   1   3   0   0   0   0   1   2   5   0   0\n",
            "    1   2   0   0   0   5   0   0]\n",
            " [  0   0   1   3   1   0 186   0   0   0   2   1   2   0  20   0   1   0\n",
            "    0   0   0   0   1   0   1   0]\n",
            " [  1   1   1   7   0   0   4 136   0   3   1   0   0   1  38   0   1   4\n",
            "    0   0   0   0   0  18   1   0]\n",
            " [  0   0   1   0   0   2   0   0 195   5   0   0   0   0   0   2   0   0\n",
            "    2   0   0   0   0   8   0   0]\n",
            " [  0   0   0   2   0   0   0   0   5 194   0   0   0   1   8   0   0   0\n",
            "    4   0   1   0   0   5   0   0]\n",
            " [  0   0   1   2   2   0   0  10   0   0 199   0   2   0   1   0   0   8\n",
            "    0   0   1   0   0  19   0   0]\n",
            " [  0   0   1   0   3   0   4   0   0   0   1 220   0   0   1   0   0   0\n",
            "    2   0   1   0   0   4   0   0]\n",
            " [  1   0   0   0   0   0   0   2   0   0   0   0 227   1   1   0   0   0\n",
            "    0   0   0   0   2   0   0   0]\n",
            " [  1   0   0   1   0   0   0   1   0   0   0   0   1 230  14   1   0   1\n",
            "    0   0   0   0   1   0   0   0]\n",
            " [  0   0   1   1   0   0   0   0   0   0   0   0   1   0 214   0   1   0\n",
            "    0   0   0   0   3   0   0   0]\n",
            " [  0   1   0   3   1   5   4   2   0   0   0   0   0   0   4 240   0   0\n",
            "    0   0   1   1   0   0   3   0]\n",
            " [  0   2   0   0   3   0   2   0   0   0   0   0   0   0  24   0 199   0\n",
            "    2   0   0   1   1   0   1   0]\n",
            " [  0   8   0   2   0   0   3   3   0   0   1   1   0   3  17   0   0 202\n",
            "    0   1   0   0   0   2   0   0]\n",
            " [  1   2   0   0   1   3   0   0   0   1   0   1   0   0   2   0   0   1\n",
            "  198   0   0   0   0  17   1   0]\n",
            " [  0   0   0   1   1   2   0   3   0   0   0   0   0   0   1   1   0   0\n",
            "    4 218   0   0   0   7   1   0]\n",
            " [  2   0   0   0   0   0   0   1   0   0   0   0   0   0  13   0   0   0\n",
            "    0   0 208   0   0   0   0   0]\n",
            " [  1   1   0   0   0   0   2   1   0   0   0   0   1   4   2   1   0   1\n",
            "    0   0   2 194   0   1   0   0]\n",
            " [  0   0   0   0   0   0   0   0   0   0   0   0   0   0   6   0   0   0\n",
            "    0   0   0   0 216   0   0   0]\n",
            " [  0   2   0   5   2   0   0   0   0   0   4   1   0   0   8   0   0   0\n",
            "    0   0   1   0   0 221   0   0]\n",
            " [  1   0   0   0   0   0   0   1   0   1   0   0   0   0   1   0   0   0\n",
            "    0   2   2   3   1   0 225   0]\n",
            " [  0   0   0   0   2   1   0   0   0   2   0   0   0   0   0   0   1   0\n",
            "    4   1   0   0   0   2   0 216]]\n"
          ],
          "name": "stdout"
        }
      ]
    }
  ]
}