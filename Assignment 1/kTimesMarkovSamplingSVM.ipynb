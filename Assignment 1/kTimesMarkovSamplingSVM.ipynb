{
  "nbformat": 4,
  "nbformat_minor": 0,
  "metadata": {
    "kernelspec": {
      "display_name": "Python 3",
      "language": "python",
      "name": "python3"
    },
    "language_info": {
      "codemirror_mode": {
        "name": "ipython",
        "version": 3
      },
      "file_extension": ".py",
      "mimetype": "text/x-python",
      "name": "python",
      "nbconvert_exporter": "python",
      "pygments_lexer": "ipython3",
      "version": "3.6.4"
    },
    "colab": {
      "name": "DMWA1onAnBAll5Kernel.ipynb",
      "provenance": [],
      "collapsed_sections": []
    }
  },
  "cells": [
    {
      "cell_type": "code",
      "metadata": {
        "id": "gw1SdidJ4H4q"
      },
      "source": [
        "import pandas as pd\n",
        "import numpy as np\n",
        "from sklearn.svm import SVC\n",
        "from sklearn.model_selection import train_test_split\n",
        "from sklearn import metrics\n",
        "from sklearn.metrics import confusion_matrix\n",
        "from sklearn.model_selection import KFold\n",
        "from sklearn.model_selection import cross_val_score\n",
        "from sklearn.model_selection import GridSearchCV\n",
        "import matplotlib.pyplot as plt\n",
        "import seaborn as sns\n",
        "from sklearn.preprocessing import scale\n",
        "\n",
        "letters = pd.read_csv(\"letter-recognition.csv\")"
      ],
      "execution_count": 41,
      "outputs": []
    },
    {
      "cell_type": "code",
      "metadata": {
        "id": "dHQUf5v52hsK"
      },
      "source": [
        "def hellinger_kernel(X, Y):\n",
        "    # X /= (X.sum(axis=1, keepdims=True))\n",
        "    # X = np.sqrt(X)\n",
        "    # X /= np.linalg.norm(X, axis=1, ord=2)\n",
        "    return np.sqrt(np.dot(X, Y.T))"
      ],
      "execution_count": 42,
      "outputs": []
    },
    {
      "cell_type": "code",
      "metadata": {
        "id": "DzRQ9d12A8rQ"
      },
      "source": [
        "def chi_sq_kernel(X, Y):\n",
        "    sx = (X.sum(axis=1, keepdims=True))\n",
        "    sy = ((Y).sum(axis=1, keepdims=True))\n",
        "    print(sx.shape)\n",
        "    print(sy.shape)\n",
        "    return 2*np.dot(X, Y.T)/(sx+sy)"
      ],
      "execution_count": 43,
      "outputs": []
    },
    {
      "cell_type": "code",
      "metadata": {
        "id": "w7o5gc-QA8yl"
      },
      "source": [
        "def intersection_kernel(X, Y):\n",
        "    return np.inner(X, Y)"
      ],
      "execution_count": 44,
      "outputs": []
    },
    {
      "cell_type": "code",
      "metadata": {
        "scrolled": true,
        "colab": {
          "base_uri": "https://localhost:8080/",
          "height": 630
        },
        "id": "KxS82uhy4H4u",
        "outputId": "573b50df-b0ed-46f9-a186-3e04e487114f"
      },
      "source": [
        "print(\"Dimensions: \", letters.shape, \"\\n\")\n",
        "print(letters.info())\n",
        "letters.head()"
      ],
      "execution_count": 45,
      "outputs": [
        {
          "output_type": "stream",
          "text": [
            "Dimensions:  (20000, 17) \n",
            "\n",
            "<class 'pandas.core.frame.DataFrame'>\n",
            "RangeIndex: 20000 entries, 0 to 19999\n",
            "Data columns (total 17 columns):\n",
            " #   Column  Non-Null Count  Dtype \n",
            "---  ------  --------------  ----- \n",
            " 0   letter  20000 non-null  object\n",
            " 1   xbox    20000 non-null  int64 \n",
            " 2   ybox    20000 non-null  int64 \n",
            " 3   width   20000 non-null  int64 \n",
            " 4   height  20000 non-null  int64 \n",
            " 5   onpix   20000 non-null  int64 \n",
            " 6   xbar    20000 non-null  int64 \n",
            " 7   ybar    20000 non-null  int64 \n",
            " 8   x2bar   20000 non-null  int64 \n",
            " 9   y2bar   20000 non-null  int64 \n",
            " 10  xybar   20000 non-null  int64 \n",
            " 11  x2ybar  20000 non-null  int64 \n",
            " 12  xy2bar  20000 non-null  int64 \n",
            " 13  xedge   20000 non-null  int64 \n",
            " 14  xedgey  20000 non-null  int64 \n",
            " 15  yedge   20000 non-null  int64 \n",
            " 16  yedgex  20000 non-null  int64 \n",
            "dtypes: int64(16), object(1)\n",
            "memory usage: 2.6+ MB\n",
            "None\n"
          ],
          "name": "stdout"
        },
        {
          "output_type": "execute_result",
          "data": {
            "text/html": [
              "<div>\n",
              "<style scoped>\n",
              "    .dataframe tbody tr th:only-of-type {\n",
              "        vertical-align: middle;\n",
              "    }\n",
              "\n",
              "    .dataframe tbody tr th {\n",
              "        vertical-align: top;\n",
              "    }\n",
              "\n",
              "    .dataframe thead th {\n",
              "        text-align: right;\n",
              "    }\n",
              "</style>\n",
              "<table border=\"1\" class=\"dataframe\">\n",
              "  <thead>\n",
              "    <tr style=\"text-align: right;\">\n",
              "      <th></th>\n",
              "      <th>letter</th>\n",
              "      <th>xbox</th>\n",
              "      <th>ybox</th>\n",
              "      <th>width</th>\n",
              "      <th>height</th>\n",
              "      <th>onpix</th>\n",
              "      <th>xbar</th>\n",
              "      <th>ybar</th>\n",
              "      <th>x2bar</th>\n",
              "      <th>y2bar</th>\n",
              "      <th>xybar</th>\n",
              "      <th>x2ybar</th>\n",
              "      <th>xy2bar</th>\n",
              "      <th>xedge</th>\n",
              "      <th>xedgey</th>\n",
              "      <th>yedge</th>\n",
              "      <th>yedgex</th>\n",
              "    </tr>\n",
              "  </thead>\n",
              "  <tbody>\n",
              "    <tr>\n",
              "      <th>0</th>\n",
              "      <td>T</td>\n",
              "      <td>2</td>\n",
              "      <td>8</td>\n",
              "      <td>3</td>\n",
              "      <td>5</td>\n",
              "      <td>1</td>\n",
              "      <td>8</td>\n",
              "      <td>13</td>\n",
              "      <td>0</td>\n",
              "      <td>6</td>\n",
              "      <td>6</td>\n",
              "      <td>10</td>\n",
              "      <td>8</td>\n",
              "      <td>0</td>\n",
              "      <td>8</td>\n",
              "      <td>0</td>\n",
              "      <td>8</td>\n",
              "    </tr>\n",
              "    <tr>\n",
              "      <th>1</th>\n",
              "      <td>I</td>\n",
              "      <td>5</td>\n",
              "      <td>12</td>\n",
              "      <td>3</td>\n",
              "      <td>7</td>\n",
              "      <td>2</td>\n",
              "      <td>10</td>\n",
              "      <td>5</td>\n",
              "      <td>5</td>\n",
              "      <td>4</td>\n",
              "      <td>13</td>\n",
              "      <td>3</td>\n",
              "      <td>9</td>\n",
              "      <td>2</td>\n",
              "      <td>8</td>\n",
              "      <td>4</td>\n",
              "      <td>10</td>\n",
              "    </tr>\n",
              "    <tr>\n",
              "      <th>2</th>\n",
              "      <td>D</td>\n",
              "      <td>4</td>\n",
              "      <td>11</td>\n",
              "      <td>6</td>\n",
              "      <td>8</td>\n",
              "      <td>6</td>\n",
              "      <td>10</td>\n",
              "      <td>6</td>\n",
              "      <td>2</td>\n",
              "      <td>6</td>\n",
              "      <td>10</td>\n",
              "      <td>3</td>\n",
              "      <td>7</td>\n",
              "      <td>3</td>\n",
              "      <td>7</td>\n",
              "      <td>3</td>\n",
              "      <td>9</td>\n",
              "    </tr>\n",
              "    <tr>\n",
              "      <th>3</th>\n",
              "      <td>N</td>\n",
              "      <td>7</td>\n",
              "      <td>11</td>\n",
              "      <td>6</td>\n",
              "      <td>6</td>\n",
              "      <td>3</td>\n",
              "      <td>5</td>\n",
              "      <td>9</td>\n",
              "      <td>4</td>\n",
              "      <td>6</td>\n",
              "      <td>4</td>\n",
              "      <td>4</td>\n",
              "      <td>10</td>\n",
              "      <td>6</td>\n",
              "      <td>10</td>\n",
              "      <td>2</td>\n",
              "      <td>8</td>\n",
              "    </tr>\n",
              "    <tr>\n",
              "      <th>4</th>\n",
              "      <td>G</td>\n",
              "      <td>2</td>\n",
              "      <td>1</td>\n",
              "      <td>3</td>\n",
              "      <td>1</td>\n",
              "      <td>1</td>\n",
              "      <td>8</td>\n",
              "      <td>6</td>\n",
              "      <td>6</td>\n",
              "      <td>6</td>\n",
              "      <td>6</td>\n",
              "      <td>5</td>\n",
              "      <td>9</td>\n",
              "      <td>1</td>\n",
              "      <td>7</td>\n",
              "      <td>5</td>\n",
              "      <td>10</td>\n",
              "    </tr>\n",
              "  </tbody>\n",
              "</table>\n",
              "</div>"
            ],
            "text/plain": [
              "  letter  xbox   ybox   width   height  ...  xy2bar  xedge   xedgey  yedge   yedgex\n",
              "0      T      2      8       3       5  ...       8       0       8       0       8\n",
              "1      I      5     12       3       7  ...       9       2       8       4      10\n",
              "2      D      4     11       6       8  ...       7       3       7       3       9\n",
              "3      N      7     11       6       6  ...      10       6      10       2       8\n",
              "4      G      2      1       3       1  ...       9       1       7       5      10\n",
              "\n",
              "[5 rows x 17 columns]"
            ]
          },
          "metadata": {
            "tags": []
          },
          "execution_count": 45
        }
      ]
    },
    {
      "cell_type": "code",
      "metadata": {
        "colab": {
          "base_uri": "https://localhost:8080/"
        },
        "id": "I05lF3fO4H4z",
        "outputId": "07a87df8-6125-41ae-9548-c784622529ce"
      },
      "source": [
        "letters.columns = ['letter', 'xbox', 'ybox', 'width', 'height', 'onpix', 'xbar', 'ybar', 'x2bar', 'y2bar', 'xybar', 'x2ybar', 'xy2bar', 'xedge', 'xedgey', 'yedge', 'yedgex']\n",
        "print(letters.columns)"
      ],
      "execution_count": 46,
      "outputs": [
        {
          "output_type": "stream",
          "text": [
            "Index(['letter', 'xbox', 'ybox', 'width', 'height', 'onpix', 'xbar', 'ybar',\n",
            "       'x2bar', 'y2bar', 'xybar', 'x2ybar', 'xy2bar', 'xedge', 'xedgey',\n",
            "       'yedge', 'yedgex'],\n",
            "      dtype='object')\n"
          ],
          "name": "stdout"
        }
      ]
    },
    {
      "cell_type": "code",
      "metadata": {
        "id": "TJRXG-w6uH2z"
      },
      "source": [
        "letters = letters[letters['letter'].isin(['A', 'B']) == True] \n",
        "# letters = letters[(letters['letter'].any('A', 'B'))] "
      ],
      "execution_count": 47,
      "outputs": []
    },
    {
      "cell_type": "code",
      "metadata": {
        "colab": {
          "base_uri": "https://localhost:8080/"
        },
        "id": "bpvX5UB_4H40",
        "outputId": "bf74f4e5-4ab9-4382-f1b3-9c12bd6debfa"
      },
      "source": [
        "order = list(np.sort(letters['letter'].unique()))\n",
        "print(order)"
      ],
      "execution_count": 48,
      "outputs": [
        {
          "output_type": "stream",
          "text": [
            "['A', 'B']\n"
          ],
          "name": "stdout"
        }
      ]
    },
    {
      "cell_type": "code",
      "metadata": {
        "colab": {
          "base_uri": "https://localhost:8080/",
          "height": 133
        },
        "id": "61nf6tgl4H41",
        "outputId": "90d7ed7e-f27b-4c03-f6ad-62bdf904fffd"
      },
      "source": [
        "letter_means = letters.groupby('letter').mean()\n",
        "letter_means.head()"
      ],
      "execution_count": 49,
      "outputs": [
        {
          "output_type": "execute_result",
          "data": {
            "text/html": [
              "<div>\n",
              "<style scoped>\n",
              "    .dataframe tbody tr th:only-of-type {\n",
              "        vertical-align: middle;\n",
              "    }\n",
              "\n",
              "    .dataframe tbody tr th {\n",
              "        vertical-align: top;\n",
              "    }\n",
              "\n",
              "    .dataframe thead th {\n",
              "        text-align: right;\n",
              "    }\n",
              "</style>\n",
              "<table border=\"1\" class=\"dataframe\">\n",
              "  <thead>\n",
              "    <tr style=\"text-align: right;\">\n",
              "      <th></th>\n",
              "      <th>xbox</th>\n",
              "      <th>ybox</th>\n",
              "      <th>width</th>\n",
              "      <th>height</th>\n",
              "      <th>onpix</th>\n",
              "      <th>xbar</th>\n",
              "      <th>ybar</th>\n",
              "      <th>x2bar</th>\n",
              "      <th>y2bar</th>\n",
              "      <th>xybar</th>\n",
              "      <th>x2ybar</th>\n",
              "      <th>xy2bar</th>\n",
              "      <th>xedge</th>\n",
              "      <th>xedgey</th>\n",
              "      <th>yedge</th>\n",
              "      <th>yedgex</th>\n",
              "    </tr>\n",
              "    <tr>\n",
              "      <th>letter</th>\n",
              "      <th></th>\n",
              "      <th></th>\n",
              "      <th></th>\n",
              "      <th></th>\n",
              "      <th></th>\n",
              "      <th></th>\n",
              "      <th></th>\n",
              "      <th></th>\n",
              "      <th></th>\n",
              "      <th></th>\n",
              "      <th></th>\n",
              "      <th></th>\n",
              "      <th></th>\n",
              "      <th></th>\n",
              "      <th></th>\n",
              "      <th></th>\n",
              "    </tr>\n",
              "  </thead>\n",
              "  <tbody>\n",
              "    <tr>\n",
              "      <th>A</th>\n",
              "      <td>3.337136</td>\n",
              "      <td>6.975919</td>\n",
              "      <td>5.128010</td>\n",
              "      <td>5.178707</td>\n",
              "      <td>2.991128</td>\n",
              "      <td>8.851711</td>\n",
              "      <td>3.631179</td>\n",
              "      <td>2.755387</td>\n",
              "      <td>2.043093</td>\n",
              "      <td>7.802281</td>\n",
              "      <td>2.338403</td>\n",
              "      <td>8.465146</td>\n",
              "      <td>2.771863</td>\n",
              "      <td>6.321926</td>\n",
              "      <td>2.875792</td>\n",
              "      <td>7.468948</td>\n",
              "    </tr>\n",
              "    <tr>\n",
              "      <th>B</th>\n",
              "      <td>3.985640</td>\n",
              "      <td>6.962141</td>\n",
              "      <td>5.088773</td>\n",
              "      <td>5.169713</td>\n",
              "      <td>4.596606</td>\n",
              "      <td>7.671018</td>\n",
              "      <td>7.062663</td>\n",
              "      <td>5.366841</td>\n",
              "      <td>5.571802</td>\n",
              "      <td>7.954308</td>\n",
              "      <td>5.506527</td>\n",
              "      <td>6.652742</td>\n",
              "      <td>3.117493</td>\n",
              "      <td>7.919060</td>\n",
              "      <td>6.612272</td>\n",
              "      <td>9.100522</td>\n",
              "    </tr>\n",
              "  </tbody>\n",
              "</table>\n",
              "</div>"
            ],
            "text/plain": [
              "            xbox      ybox     width  ...    xedgey     yedge    yedgex\n",
              "letter                                ...                              \n",
              "A       3.337136  6.975919  5.128010  ...  6.321926  2.875792  7.468948\n",
              "B       3.985640  6.962141  5.088773  ...  7.919060  6.612272  9.100522\n",
              "\n",
              "[2 rows x 16 columns]"
            ]
          },
          "metadata": {
            "tags": []
          },
          "execution_count": 49
        }
      ]
    },
    {
      "cell_type": "code",
      "metadata": {
        "colab": {
          "base_uri": "https://localhost:8080/"
        },
        "id": "__mRCQrz4H43",
        "outputId": "e622e34f-4508-4178-8f4a-70310ecb69cc"
      },
      "source": [
        "round(letters.drop('letter', axis=1).mean(), 2)"
      ],
      "execution_count": 50,
      "outputs": [
        {
          "output_type": "execute_result",
          "data": {
            "text/plain": [
              "xbox      3.66\n",
              "ybox      6.97\n",
              "width     5.11\n",
              "height    5.17\n",
              "onpix     3.78\n",
              "xbar      8.27\n",
              "ybar      5.32\n",
              "x2bar     4.04\n",
              "y2bar     3.78\n",
              "xybar     7.88\n",
              "x2ybar    3.90\n",
              "xy2bar    7.57\n",
              "xedge     2.94\n",
              "xedgey    7.11\n",
              "yedge     4.72\n",
              "yedgex    8.27\n",
              "dtype: float64"
            ]
          },
          "metadata": {
            "tags": []
          },
          "execution_count": 50
        }
      ]
    },
    {
      "cell_type": "code",
      "metadata": {
        "id": "Ch5yyqph4H45"
      },
      "source": [
        "X = letters.drop(\"letter\", axis = 1)\n",
        "y = letters['letter']"
      ],
      "execution_count": 51,
      "outputs": []
    },
    {
      "cell_type": "code",
      "metadata": {
        "id": "uAyFsxxO4H45"
      },
      "source": [
        "X_scaled = scale(X, with_mean=False)\n",
        "X_train, X_test, y_train, y_test = train_test_split(X_scaled, y, test_size = 0.3, random_state = 101)"
      ],
      "execution_count": 52,
      "outputs": []
    },
    {
      "cell_type": "code",
      "metadata": {
        "colab": {
          "base_uri": "https://localhost:8080/"
        },
        "id": "4S8iYAu_9QeL",
        "outputId": "c74ad486-cdb1-4de1-d702-7b57e339e6e7"
      },
      "source": [
        "import random\n",
        "print(\"Number of training samples = \", len(X_train))\n",
        "print(\"Number of testing samples = \", len(X_test))"
      ],
      "execution_count": 53,
      "outputs": [
        {
          "output_type": "stream",
          "text": [
            "Number of training samples =  1088\n",
            "Number of testing samples =  467\n"
          ],
          "name": "stdout"
        }
      ]
    },
    {
      "cell_type": "code",
      "metadata": {
        "id": "Byr6aKkDyirp"
      },
      "source": [
        "# Linear SVM model\n",
        "\n",
        "model_linear = SVC(kernel='linear')\n",
        "model_linear.fit(X_train, y_train)\n",
        "y_pred = model_linear.predict(X_test)"
      ],
      "execution_count": 54,
      "outputs": []
    },
    {
      "cell_type": "code",
      "metadata": {
        "colab": {
          "base_uri": "https://localhost:8080/"
        },
        "id": "ipIZlDJ8yir2",
        "outputId": "d6cfc4b8-6b02-4c93-8158-8707388295bd"
      },
      "source": [
        "print(\"Accuracy linear kernel without Markov Sampling : \", metrics.accuracy_score(y_true=y_test, y_pred=y_pred), \"\\n\")\n",
        "print(metrics.confusion_matrix(y_true=y_test, y_pred=y_pred))"
      ],
      "execution_count": 55,
      "outputs": [
        {
          "output_type": "stream",
          "text": [
            "Accuracy linear kernel without Markov Sampling :  0.9914346895074947 \n",
            "\n",
            "[[225   1]\n",
            " [  3 238]]\n"
          ],
          "name": "stdout"
        }
      ]
    },
    {
      "cell_type": "code",
      "metadata": {
        "id": "MZD6oKjTyir4"
      },
      "source": [
        "# RBF SVM model\n",
        "non_linear_model = SVC(kernel='rbf')\n",
        "non_linear_model.fit(X_train, y_train)\n",
        "y_pred = non_linear_model.predict(X_test)"
      ],
      "execution_count": 56,
      "outputs": []
    },
    {
      "cell_type": "code",
      "metadata": {
        "colab": {
          "base_uri": "https://localhost:8080/"
        },
        "id": "goAaPxYwyir6",
        "outputId": "07f92181-1a68-4750-a19d-9989df485e6d"
      },
      "source": [
        "print(\"Accuracy rbf kernel without Markov Sampling : \", metrics.accuracy_score(y_true=y_test, y_pred=y_pred), \"\\n\")\n",
        "print(metrics.confusion_matrix(y_true=y_test, y_pred=y_pred))"
      ],
      "execution_count": 57,
      "outputs": [
        {
          "output_type": "stream",
          "text": [
            "Accuracy rbf kernel without Markov Sampling :  0.9978586723768736 \n",
            "\n",
            "[[225   1]\n",
            " [  0 241]]\n"
          ],
          "name": "stdout"
        }
      ]
    },
    {
      "cell_type": "code",
      "metadata": {
        "id": "cuQluDnEyir8"
      },
      "source": [
        "# Polynomial SVM model\n",
        "non_linear_model = SVC(kernel='poly')\n",
        "non_linear_model.fit(X_train, y_train)\n",
        "y_pred = non_linear_model.predict(X_test)"
      ],
      "execution_count": 58,
      "outputs": []
    },
    {
      "cell_type": "code",
      "metadata": {
        "colab": {
          "base_uri": "https://localhost:8080/"
        },
        "id": "LQt9X9Vnyir-",
        "outputId": "02a72379-6f18-4479-de31-3c22d0849d75"
      },
      "source": [
        "print(\"Accuracy polynomial kernel without Markov Sampling : \", metrics.accuracy_score(y_true=y_test, y_pred=y_pred), \"\\n\")\n",
        "print(metrics.confusion_matrix(y_true=y_test, y_pred=y_pred))"
      ],
      "execution_count": 59,
      "outputs": [
        {
          "output_type": "stream",
          "text": [
            "Accuracy polynomial kernel without Markov Sampling :  0.9978586723768736 \n",
            "\n",
            "[[225   1]\n",
            " [  0 241]]\n"
          ],
          "name": "stdout"
        }
      ]
    },
    {
      "cell_type": "code",
      "metadata": {
        "id": "ubcBoMg63juC"
      },
      "source": [
        "# Hellinger SVM model\n",
        "\n",
        "model_hell = SVC(kernel=hellinger_kernel)\n",
        "model_hell.fit(X_train, y_train)\n",
        "y_pred = model_hell.predict(X_test)\n"
      ],
      "execution_count": 60,
      "outputs": []
    },
    {
      "cell_type": "code",
      "metadata": {
        "colab": {
          "base_uri": "https://localhost:8080/"
        },
        "id": "vxt6nT0Z3juE",
        "outputId": "feab5c60-82cb-4ef1-ab92-e5ed86d04a88"
      },
      "source": [
        "print(\"Accuracy Hellinger kernel without Markov Sampling : \", metrics.accuracy_score(y_true=y_test, y_pred=y_pred), \"\\n\")\n",
        "print(metrics.confusion_matrix(y_true=y_test, y_pred=y_pred))"
      ],
      "execution_count": 61,
      "outputs": [
        {
          "output_type": "stream",
          "text": [
            "Accuracy Hellinger kernel without Markov Sampling :  0.987152034261242 \n",
            "\n",
            "[[222   4]\n",
            " [  2 239]]\n"
          ],
          "name": "stdout"
        }
      ]
    },
    {
      "cell_type": "code",
      "metadata": {
        "colab": {
          "base_uri": "https://localhost:8080/"
        },
        "id": "OsbEn2UaBT0v",
        "outputId": "c108df0a-1366-4f74-cd2b-a518ad15fc32"
      },
      "source": [
        "# Chi Squred SVM model\n",
        "\n",
        "from sklearn.linear_model import SGDClassifier\n",
        "from sklearn.kernel_approximation import AdditiveChi2Sampler\n",
        "\n",
        "chi2sampler = AdditiveChi2Sampler(sample_steps=2)\n",
        "X_transformed = chi2sampler.fit_transform(X_train, y_train)\n",
        "clf = SGDClassifier(max_iter=100, random_state=0, tol=1e-3)\n",
        "clf.fit(X_transformed, y_train)\n",
        "\n",
        "print(\"Accuracy Chi Squared kernel without Markov Sampling : \", end = '')\n",
        "clf.score(X_transformed, y_train)"
      ],
      "execution_count": 62,
      "outputs": [
        {
          "output_type": "stream",
          "text": [
            "Accuracy Chi Squared kernel without Markov Sampling : "
          ],
          "name": "stdout"
        },
        {
          "output_type": "execute_result",
          "data": {
            "text/plain": [
              "0.9944852941176471"
            ]
          },
          "metadata": {
            "tags": []
          },
          "execution_count": 62
        }
      ]
    },
    {
      "cell_type": "code",
      "metadata": {
        "id": "f-0tTNacC0zh"
      },
      "source": [
        "# Intersection SVM model\n",
        "\n",
        "model_hell = SVC(kernel=intersection_kernel)\n",
        "model_hell.fit(X_train, y_train)\n",
        "y_pred = model_hell.predict(X_test)\n"
      ],
      "execution_count": 63,
      "outputs": []
    },
    {
      "cell_type": "code",
      "metadata": {
        "id": "wV0XrOp2C0zo",
        "colab": {
          "base_uri": "https://localhost:8080/"
        },
        "outputId": "2932e14b-02d3-449c-b23f-7a42d1e89fbe"
      },
      "source": [
        "# accuracy\n",
        "print(\"Accuracy Intersection kernel without Markov Sampling : \", metrics.accuracy_score(y_true=y_test, y_pred=y_pred), \"\\n\")\n",
        "print(metrics.confusion_matrix(y_true=y_test, y_pred=y_pred))"
      ],
      "execution_count": 64,
      "outputs": [
        {
          "output_type": "stream",
          "text": [
            "Accuracy Intersection kernel without Markov Sampling :  0.9914346895074947 \n",
            "\n",
            "[[225   1]\n",
            " [  3 238]]\n"
          ],
          "name": "stdout"
        }
      ]
    },
    {
      "cell_type": "code",
      "metadata": {
        "id": "7_LLXzdVvaGq"
      },
      "source": [
        "import math\n",
        "def markov_samp(X_train, Y_train, K = 20, k = 5, q = 1.2):\n",
        "    #Initializing empty sample holder\n",
        "    samp = []\n",
        "    print(\"Starting Markov sampling with K = \", K, end = \" ...\\n\")\n",
        "    for ctr in range(K):\n",
        "    #Taking N1 as 700\n",
        "        # Init_sampl = np.concatenate((X_train, np.array()), axis = 0)\n",
        "        Init_sampl = np.concatenate((np.vstack(X_train), np.vstack(Y_train.to_numpy())), axis = 1)\n",
        "        Dtr = random.sample(list(Init_sampl), 500)\n",
        "\n",
        "        m = len(Dtr)\n",
        "        print(\"Iteration : \", ctr)\n",
        "        # print(\"M : \" , m)\n",
        "        # mplus =np.count_nonzero(np.array(Dtr[16]) == 'A')\n",
        "        # mplus = Dtr[16].count('A')\n",
        "    #Initializing mneg and mpos as 0\n",
        "        mneg = 0\n",
        "        mplus = 0\n",
        "\n",
        "    #Choosing first zt random sample from chosen training samples\n",
        "        index = np.random.choice(len(Dtr), 1, replace=False)  \n",
        "        Dtra = np.array(Dtr)\n",
        "        # print(type(Dtra))\n",
        "        zt = Dtra[index][0]\n",
        "\n",
        "        # print(\"zt : \", zt)\n",
        "        if m%2 == 0:\n",
        "            if zt[16] == 'A':\n",
        "                mplus += 1;\n",
        "            else:\n",
        "                mneg += 1\n",
        "\n",
        "    #Training SVM for choosing Markov CHain Samples\n",
        "        model_linear = SVC(kernel='linear')#\n",
        "        model_linear.fit(X_train, Y_train)#\n",
        "        \n",
        "        yzt = model_linear.predict(np.array(zt)[0:16].reshape(1, -1))\n",
        "    #Calculating loss for zt sample\n",
        "        fxy1 = 1\n",
        "        if not yzt==zt[16]:\n",
        "            fxy1 = 2 \n",
        "        lzt = math.exp(0-fxy1)\n",
        "\n",
        "        Pd = 0\n",
        "        Pdd = 0\n",
        "\n",
        "    #Loop for Markov sampling    \n",
        "        while(mplus + mneg < m  ):\n",
        "        #Choosing zstar sample \n",
        "            zstar = Dtra[np.random.choice(len(Dtr), 1, replace=False)][0]\n",
        "            ystar = model_linear.predict(np.array(zstar)[ 0:16].reshape(1, -1)) #\n",
        "        #Calculating loss for zstar and P ratio\n",
        "            fxy = 1\n",
        "            if not ystar==zstar[16]:\n",
        "                fxy = 2 \n",
        "            lzstar = math.exp(0-fxy)\n",
        "            P = math.exp(lzt-lzstar)\n",
        "            # print(zt)\n",
        "            yt = zt[16]\n",
        "            zt = zstar\n",
        "\n",
        "        #Accept/Reject\n",
        "            if P == 1:\n",
        "                if zt[16] == yt:\n",
        "                    r = random.uniform(0.001, 1.0)\n",
        "                    if r <= P:\n",
        "                        samp.append(zstar) #Pdash = e−y∗f0 /e−ytf0\n",
        "                else:\n",
        "                    ct = 1 if yt=='A' else -1\n",
        "                    cst = 1 if ystar=='A' else -1\n",
        "                    Pd = math.exp(ct*fxy1-cst*fxy)\n",
        "                    r = random.uniform(0.001, 1.0)\n",
        "                    if r <= Pd:\n",
        "                        samp.append(zstar) #P\n",
        "\n",
        "            if len(samp) == k:\n",
        "                Pdd = q*P\n",
        "                samp.append(zstar) #Pdd\n",
        "\n",
        "        #Updating zt and mplus and mneg            \n",
        "            ztp1 = zstar\n",
        "            if yt == 'A':\n",
        "                mplus += 1\n",
        "            else:\n",
        "                mneg += 1\n",
        "\n",
        "            if P > 1 or Pd > 1 or Pdd > 1:\n",
        "                samp.append(zstar)\n",
        "    return samp\n"
      ],
      "execution_count": 65,
      "outputs": []
    },
    {
      "cell_type": "code",
      "metadata": {
        "id": "q9xnR2e6S6R8",
        "colab": {
          "base_uri": "https://localhost:8080/"
        },
        "outputId": "74a68463-a72a-4cbf-acd1-68d5457ad29d"
      },
      "source": [
        "nsamp = np.array(markov_samp(X_train, y_train))\n",
        "\n",
        "X_train = nsamp[:, 0:16]\n",
        "y_train = nsamp[:, 16]\n",
        "print(\"Shape of Markov Sample features : \", X_train.shape)\n",
        "print(\"Shape of Markov Sample labels : \", y_train.shape)"
      ],
      "execution_count": 66,
      "outputs": [
        {
          "output_type": "stream",
          "text": [
            "Starting Markov sampling with K =  20 ...\n",
            "Iteration :  0\n",
            "Iteration :  1\n",
            "Iteration :  2\n",
            "Iteration :  3\n",
            "Iteration :  4\n",
            "Iteration :  5\n",
            "Iteration :  6\n",
            "Iteration :  7\n",
            "Iteration :  8\n",
            "Iteration :  9\n",
            "Iteration :  10\n",
            "Iteration :  11\n",
            "Iteration :  12\n",
            "Iteration :  13\n",
            "Iteration :  14\n",
            "Iteration :  15\n",
            "Iteration :  16\n",
            "Iteration :  17\n",
            "Iteration :  18\n",
            "Iteration :  19\n",
            "Shape of Markov Sample features :  (12762, 16)\n",
            "Shape of Markov Sample labels :  (12762,)\n"
          ],
          "name": "stdout"
        }
      ]
    },
    {
      "cell_type": "code",
      "metadata": {
        "id": "Czgzdz3sWUFN"
      },
      "source": [
        "# print(y_train)\n",
        "#Converting label to ASCII in list for sklearn as sampling returned ndarray\n",
        "Y_train = []\n",
        "for i in y_train:\n",
        "    Y_train.append(ord(i))\n",
        "# print(Y_train)"
      ],
      "execution_count": 67,
      "outputs": []
    },
    {
      "cell_type": "code",
      "metadata": {
        "id": "TWGtELnRR6b2",
        "colab": {
          "base_uri": "https://localhost:8080/"
        },
        "outputId": "3a2d64dc-c534-483d-c3b1-5f89981db3b3"
      },
      "source": [
        "print(\"\", X_test.shape)"
      ],
      "execution_count": 68,
      "outputs": [
        {
          "output_type": "stream",
          "text": [
            " (467, 16)\n"
          ],
          "name": "stdout"
        }
      ]
    },
    {
      "cell_type": "code",
      "metadata": {
        "id": "MXAxhg-sScBh"
      },
      "source": [
        "# print(y_pred)\n",
        "#Converting label to ASCII in list for sklearn as training is done on ASCII\n",
        "Y_test = []\n",
        "for i in y_test:\n",
        "    Y_test.append(ord(i))\n",
        "# print(Y_test)"
      ],
      "execution_count": 69,
      "outputs": []
    },
    {
      "cell_type": "code",
      "metadata": {
        "id": "ZGqTVqGr4H46"
      },
      "source": [
        "# Linear SVM model\n",
        "\n",
        "model_linear = SVC(kernel='linear')\n",
        "model_linear.fit(X_train, Y_train)\n",
        "y_pred = model_linear.predict(X_test)\n"
      ],
      "execution_count": 70,
      "outputs": []
    },
    {
      "cell_type": "code",
      "metadata": {
        "id": "s12I7fMO4H46",
        "colab": {
          "base_uri": "https://localhost:8080/"
        },
        "outputId": "6686d0bd-f714-449b-b681-de609d0e4cfe"
      },
      "source": [
        "# accuracy\n",
        "print(\"Accuracy Linear kernel with Markov Sampling : \", metrics.accuracy_score(y_true=Y_test, y_pred=y_pred), \"\\n\")\n",
        "print(metrics.confusion_matrix(y_true=Y_test, y_pred=y_pred))"
      ],
      "execution_count": 71,
      "outputs": [
        {
          "output_type": "stream",
          "text": [
            "Accuracy Linear kernel with Markov Sampling :  0.9978586723768736 \n",
            "\n",
            "[[225   1]\n",
            " [  0 241]]\n"
          ],
          "name": "stdout"
        }
      ]
    },
    {
      "cell_type": "code",
      "metadata": {
        "id": "Nwim2CnS4H47"
      },
      "source": [
        "# RBF SVM model\n",
        "non_linear_model = SVC(kernel='rbf')\n",
        "non_linear_model.fit(X_train, Y_train)\n",
        "y_pred = non_linear_model.predict(X_test)"
      ],
      "execution_count": 72,
      "outputs": []
    },
    {
      "cell_type": "code",
      "metadata": {
        "id": "BV511QZK4H48",
        "colab": {
          "base_uri": "https://localhost:8080/"
        },
        "outputId": "44eeb29d-ac26-4b50-f5ce-6679f93c59ec"
      },
      "source": [
        "print(\"Accuracy rbf kernel with Markov Sampling : \", metrics.accuracy_score(y_true=Y_test, y_pred=y_pred), \"\\n\")\n",
        "print(metrics.confusion_matrix(y_true=Y_test, y_pred=y_pred))"
      ],
      "execution_count": 73,
      "outputs": [
        {
          "output_type": "stream",
          "text": [
            "Accuracy rbf kernel with Markov Sampling :  1.0 \n",
            "\n",
            "[[226   0]\n",
            " [  0 241]]\n"
          ],
          "name": "stdout"
        }
      ]
    },
    {
      "cell_type": "code",
      "metadata": {
        "id": "3gOHknJUWUiN"
      },
      "source": [
        "#Polynomial SVM model\n",
        "non_linear_model = SVC(kernel='poly')\n",
        "non_linear_model.fit(X_train, Y_train)\n",
        "y_pred = non_linear_model.predict(X_test)"
      ],
      "execution_count": 74,
      "outputs": []
    },
    {
      "cell_type": "code",
      "metadata": {
        "id": "YDo9UJ70WUil",
        "colab": {
          "base_uri": "https://localhost:8080/"
        },
        "outputId": "86d1f1f3-2127-470f-ea85-8235051c6af4"
      },
      "source": [
        "print(\"Accuracy polynomial kernel with Markov Sampling : \", metrics.accuracy_score(y_true=Y_test, y_pred=y_pred), \"\\n\")\n",
        "print(metrics.confusion_matrix(y_true=Y_test, y_pred=y_pred))"
      ],
      "execution_count": 75,
      "outputs": [
        {
          "output_type": "stream",
          "text": [
            "Accuracy polynomial kernel with Markov Sampling :  0.9978586723768736 \n",
            "\n",
            "[[225   1]\n",
            " [  0 241]]\n"
          ],
          "name": "stdout"
        }
      ]
    },
    {
      "cell_type": "code",
      "metadata": {
        "id": "XpT6k0GnAG_a"
      },
      "source": [
        "# Hellinger SVM model\n",
        "\n",
        "model_hell = SVC(kernel=hellinger_kernel)\n",
        "model_hell.fit(X_train, Y_train)\n",
        "y_pred = model_hell.predict(X_test)\n"
      ],
      "execution_count": 76,
      "outputs": []
    },
    {
      "cell_type": "code",
      "metadata": {
        "id": "tzDeYBewAG_k",
        "colab": {
          "base_uri": "https://localhost:8080/"
        },
        "outputId": "cb6f59f5-3a10-4e1b-800a-24821b8b9223"
      },
      "source": [
        "print(\"Accuracy Hellinger kernel with Markov Sampling : \", metrics.accuracy_score(y_true=Y_test, y_pred=y_pred), \"\\n\")\n",
        "print(metrics.confusion_matrix(y_true=Y_test, y_pred=y_pred))"
      ],
      "execution_count": 77,
      "outputs": [
        {
          "output_type": "stream",
          "text": [
            "Accuracy Hellinger kernel with Markov Sampling :  0.9957173447537473 \n",
            "\n",
            "[[225   1]\n",
            " [  1 240]]\n"
          ],
          "name": "stdout"
        }
      ]
    },
    {
      "cell_type": "code",
      "metadata": {
        "colab": {
          "base_uri": "https://localhost:8080/"
        },
        "id": "pUXQc-WLLmTv",
        "outputId": "6f0cf371-b02e-4da8-9e8c-61ca8368e55c"
      },
      "source": [
        "# Chi Squared SVM model\n",
        "chi2sampler = AdditiveChi2Sampler(sample_steps=2)\n",
        "X_transformed = chi2sampler.fit_transform(X_train.astype(np.float), pd.Series(y_train))\n",
        "clf = SGDClassifier(max_iter=100, random_state=0, tol=1e-3)\n",
        "clf.fit(X_transformed, pd.Series(y_train))\n",
        "\n",
        "print(\"Accuracy Chi Squared kernel without Markov Sampling : \", end = '')\n",
        "clf.score(X_transformed, pd.Series(y_train))"
      ],
      "execution_count": 78,
      "outputs": [
        {
          "output_type": "stream",
          "text": [
            "Accuracy Chi Squared kernel without Markov Sampling : "
          ],
          "name": "stdout"
        },
        {
          "output_type": "execute_result",
          "data": {
            "text/plain": [
              "0.9980410593950791"
            ]
          },
          "metadata": {
            "tags": []
          },
          "execution_count": 78
        }
      ]
    },
    {
      "cell_type": "code",
      "metadata": {
        "id": "dj02GdnWLmT9"
      },
      "source": [
        "# Intersection SVM model\n",
        "\n",
        "model_hell = SVC(kernel=intersection_kernel)\n",
        "model_hell.fit(X_train, Y_train)\n",
        "y_pred = model_hell.predict(X_test)"
      ],
      "execution_count": 79,
      "outputs": []
    },
    {
      "cell_type": "code",
      "metadata": {
        "colab": {
          "base_uri": "https://localhost:8080/"
        },
        "id": "IEuAMYE6LmT-",
        "outputId": "cd107704-93ea-4b83-ee1e-599e744ca6da"
      },
      "source": [
        "print(\"Accuracy Intersection kernel with Markov Sampling : \", metrics.accuracy_score(y_true=Y_test, y_pred=y_pred), \"\\n\")\n",
        "print(metrics.confusion_matrix(y_true=Y_test, y_pred=y_pred))"
      ],
      "execution_count": 80,
      "outputs": [
        {
          "output_type": "stream",
          "text": [
            "Accuracy Intersection kernel with Markov Sampling :  0.9978586723768736 \n",
            "\n",
            "[[225   1]\n",
            " [  0 241]]\n"
          ],
          "name": "stdout"
        }
      ]
    }
  ]
}