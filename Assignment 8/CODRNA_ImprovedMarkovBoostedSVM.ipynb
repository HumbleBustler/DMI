{
  "nbformat": 4,
  "nbformat_minor": 0,
  "metadata": {
    "kernelspec": {
      "display_name": "Python 3",
      "language": "python",
      "name": "python3"
    },
    "language_info": {
      "codemirror_mode": {
        "name": "ipython",
        "version": 3
      },
      "file_extension": ".py",
      "mimetype": "text/x-python",
      "name": "python",
      "nbconvert_exporter": "python",
      "pygments_lexer": "ipython3",
      "version": "3.6.4"
    },
    "colab": {
      "name": "CODRNA ImprovedMarkovBoostedSVM.ipynb",
      "provenance": [],
      "collapsed_sections": []
    }
  },
  "cells": [
    {
      "cell_type": "code",
      "metadata": {
        "id": "gw1SdidJ4H4q"
      },
      "source": [
        "import pandas as pd\n",
        "import numpy as np\n",
        "from sklearn.svm import SVC\n",
        "from sklearn.model_selection import train_test_split\n",
        "from sklearn import metrics\n",
        "from sklearn.metrics import confusion_matrix\n",
        "from sklearn.model_selection import KFold\n",
        "from sklearn.model_selection import cross_val_score\n",
        "from sklearn.model_selection import GridSearchCV\n",
        "import matplotlib.pyplot as plt\n",
        "import seaborn as sns\n",
        "from sklearn.preprocessing import scale\n",
        "\n",
        "codrna = pd.read_csv(\"/content/codrna.csv\")"
      ],
      "execution_count": null,
      "outputs": []
    },
    {
      "cell_type": "code",
      "metadata": {
        "scrolled": true,
        "colab": {
          "base_uri": "https://localhost:8080/",
          "height": 483
        },
        "id": "KxS82uhy4H4u",
        "outputId": "ed735085-0828-4a18-b706-555e34b065a4"
      },
      "source": [
        "print(\"Dimensions: \", codrna.shape, \"\\n\")\n",
        "print(codrna.info())\n",
        "codrna.head()"
      ],
      "execution_count": null,
      "outputs": [
        {
          "output_type": "stream",
          "text": [
            "Dimensions:  (10000, 8) \n",
            "\n",
            "<class 'pandas.core.frame.DataFrame'>\n",
            "RangeIndex: 10000 entries, 0 to 9999\n",
            "Data columns (total 8 columns):\n",
            " #   Column  Non-Null Count  Dtype  \n",
            "---  ------  --------------  -----  \n",
            " 0   Y       10000 non-null  int64  \n",
            " 1   X1      10000 non-null  float64\n",
            " 2   X2      10000 non-null  float64\n",
            " 3   X3      10000 non-null  float64\n",
            " 4   X4      10000 non-null  float64\n",
            " 5   X5      10000 non-null  float64\n",
            " 6   X6      10000 non-null  float64\n",
            " 7   X7      10000 non-null  float64\n",
            "dtypes: float64(7), int64(1)\n",
            "memory usage: 625.1 KB\n",
            "None\n"
          ],
          "name": "stdout"
        },
        {
          "output_type": "execute_result",
          "data": {
            "text/html": [
              "<div>\n",
              "<style scoped>\n",
              "    .dataframe tbody tr th:only-of-type {\n",
              "        vertical-align: middle;\n",
              "    }\n",
              "\n",
              "    .dataframe tbody tr th {\n",
              "        vertical-align: top;\n",
              "    }\n",
              "\n",
              "    .dataframe thead th {\n",
              "        text-align: right;\n",
              "    }\n",
              "</style>\n",
              "<table border=\"1\" class=\"dataframe\">\n",
              "  <thead>\n",
              "    <tr style=\"text-align: right;\">\n",
              "      <th></th>\n",
              "      <th>Y</th>\n",
              "      <th>X1</th>\n",
              "      <th>X2</th>\n",
              "      <th>X3</th>\n",
              "      <th>X4</th>\n",
              "      <th>X5</th>\n",
              "      <th>X6</th>\n",
              "      <th>X7</th>\n",
              "    </tr>\n",
              "  </thead>\n",
              "  <tbody>\n",
              "    <tr>\n",
              "      <th>0</th>\n",
              "      <td>-1</td>\n",
              "      <td>-4.400806</td>\n",
              "      <td>6.497719</td>\n",
              "      <td>2.487098</td>\n",
              "      <td>6.342305</td>\n",
              "      <td>5.268171</td>\n",
              "      <td>2.817185</td>\n",
              "      <td>6.600208</td>\n",
              "    </tr>\n",
              "    <tr>\n",
              "      <th>1</th>\n",
              "      <td>-1</td>\n",
              "      <td>-4.170999</td>\n",
              "      <td>6.650009</td>\n",
              "      <td>2.295134</td>\n",
              "      <td>6.832640</td>\n",
              "      <td>5.147534</td>\n",
              "      <td>2.599744</td>\n",
              "      <td>7.110482</td>\n",
              "    </tr>\n",
              "    <tr>\n",
              "      <th>2</th>\n",
              "      <td>-1</td>\n",
              "      <td>-3.722875</td>\n",
              "      <td>6.243902</td>\n",
              "      <td>2.588192</td>\n",
              "      <td>6.938571</td>\n",
              "      <td>4.751345</td>\n",
              "      <td>2.931696</td>\n",
              "      <td>7.220721</td>\n",
              "    </tr>\n",
              "    <tr>\n",
              "      <th>3</th>\n",
              "      <td>-1</td>\n",
              "      <td>-4.389316</td>\n",
              "      <td>6.294665</td>\n",
              "      <td>2.424702</td>\n",
              "      <td>6.714761</td>\n",
              "      <td>5.256843</td>\n",
              "      <td>2.746508</td>\n",
              "      <td>6.987810</td>\n",
              "    </tr>\n",
              "    <tr>\n",
              "      <th>4</th>\n",
              "      <td>-1</td>\n",
              "      <td>-3.355184</td>\n",
              "      <td>6.599246</td>\n",
              "      <td>2.720926</td>\n",
              "      <td>8.166179</td>\n",
              "      <td>4.149689</td>\n",
              "      <td>3.082046</td>\n",
              "      <td>8.498249</td>\n",
              "    </tr>\n",
              "  </tbody>\n",
              "</table>\n",
              "</div>"
            ],
            "text/plain": [
              "   Y        X1        X2        X3        X4        X5        X6        X7\n",
              "0 -1 -4.400806  6.497719  2.487098  6.342305  5.268171  2.817185  6.600208\n",
              "1 -1 -4.170999  6.650009  2.295134  6.832640  5.147534  2.599744  7.110482\n",
              "2 -1 -3.722875  6.243902  2.588192  6.938571  4.751345  2.931696  7.220721\n",
              "3 -1 -4.389316  6.294665  2.424702  6.714761  5.256843  2.746508  6.987810\n",
              "4 -1 -3.355184  6.599246  2.720926  8.166179  4.149689  3.082046  8.498249"
            ]
          },
          "metadata": {
            "tags": []
          },
          "execution_count": 63
        }
      ]
    },
    {
      "cell_type": "code",
      "metadata": {
        "colab": {
          "base_uri": "https://localhost:8080/"
        },
        "id": "bpvX5UB_4H40",
        "outputId": "9ade306d-6a7b-4aca-f653-bea0f958c821"
      },
      "source": [
        "order = list(np.sort(codrna['Y'].unique()))\n",
        "print(order)"
      ],
      "execution_count": null,
      "outputs": [
        {
          "output_type": "stream",
          "text": [
            "[-1, 1]\n"
          ],
          "name": "stdout"
        }
      ]
    },
    {
      "cell_type": "code",
      "metadata": {
        "id": "61nf6tgl4H41",
        "colab": {
          "base_uri": "https://localhost:8080/",
          "height": 133
        },
        "outputId": "e1d420d2-4338-4b68-cda1-ec8c867faa8c"
      },
      "source": [
        "letter_means = codrna.groupby('Y').mean()\n",
        "letter_means.head()"
      ],
      "execution_count": null,
      "outputs": [
        {
          "output_type": "execute_result",
          "data": {
            "text/html": [
              "<div>\n",
              "<style scoped>\n",
              "    .dataframe tbody tr th:only-of-type {\n",
              "        vertical-align: middle;\n",
              "    }\n",
              "\n",
              "    .dataframe tbody tr th {\n",
              "        vertical-align: top;\n",
              "    }\n",
              "\n",
              "    .dataframe thead th {\n",
              "        text-align: right;\n",
              "    }\n",
              "</style>\n",
              "<table border=\"1\" class=\"dataframe\">\n",
              "  <thead>\n",
              "    <tr style=\"text-align: right;\">\n",
              "      <th></th>\n",
              "      <th>X1</th>\n",
              "      <th>X2</th>\n",
              "      <th>X3</th>\n",
              "      <th>X4</th>\n",
              "      <th>X5</th>\n",
              "      <th>X6</th>\n",
              "      <th>X7</th>\n",
              "    </tr>\n",
              "    <tr>\n",
              "      <th>Y</th>\n",
              "      <th></th>\n",
              "      <th></th>\n",
              "      <th></th>\n",
              "      <th></th>\n",
              "      <th></th>\n",
              "      <th></th>\n",
              "      <th></th>\n",
              "    </tr>\n",
              "  </thead>\n",
              "  <tbody>\n",
              "    <tr>\n",
              "      <th>-1</th>\n",
              "      <td>-2.859452</td>\n",
              "      <td>5.550946</td>\n",
              "      <td>3.952890</td>\n",
              "      <td>4.555901</td>\n",
              "      <td>5.888012</td>\n",
              "      <td>4.484921</td>\n",
              "      <td>4.674731</td>\n",
              "    </tr>\n",
              "    <tr>\n",
              "      <th>1</th>\n",
              "      <td>-2.731633</td>\n",
              "      <td>3.964168</td>\n",
              "      <td>3.923074</td>\n",
              "      <td>4.769563</td>\n",
              "      <td>5.876570</td>\n",
              "      <td>4.567878</td>\n",
              "      <td>4.723979</td>\n",
              "    </tr>\n",
              "  </tbody>\n",
              "</table>\n",
              "</div>"
            ],
            "text/plain": [
              "          X1        X2        X3        X4        X5        X6        X7\n",
              "Y                                                                       \n",
              "-1 -2.859452  5.550946  3.952890  4.555901  5.888012  4.484921  4.674731\n",
              " 1 -2.731633  3.964168  3.923074  4.769563  5.876570  4.567878  4.723979"
            ]
          },
          "metadata": {
            "tags": []
          },
          "execution_count": 65
        }
      ]
    },
    {
      "cell_type": "code",
      "metadata": {
        "colab": {
          "base_uri": "https://localhost:8080/"
        },
        "id": "__mRCQrz4H43",
        "outputId": "f93c56b5-97fb-4a22-89a7-c0905dcebf25"
      },
      "source": [
        "round(codrna.drop('Y', axis=1).mean(), 2)"
      ],
      "execution_count": null,
      "outputs": [
        {
          "output_type": "execute_result",
          "data": {
            "text/plain": [
              "X1   -2.79\n",
              "X2    4.63\n",
              "X3    3.94\n",
              "X4    4.68\n",
              "X5    5.88\n",
              "X6    4.53\n",
              "X7    4.70\n",
              "dtype: float64"
            ]
          },
          "metadata": {
            "tags": []
          },
          "execution_count": 66
        }
      ]
    },
    {
      "cell_type": "code",
      "metadata": {
        "id": "Ch5yyqph4H45"
      },
      "source": [
        "X = codrna.drop(\"Y\", axis = 1)\n",
        "y = codrna['Y']"
      ],
      "execution_count": null,
      "outputs": []
    },
    {
      "cell_type": "code",
      "metadata": {
        "id": "uAyFsxxO4H45"
      },
      "source": [
        "X_scaled = scale(X, with_mean=False)\n",
        "X_train, X_test, y_train, y_test = train_test_split(X_scaled, y, test_size = 0.3, random_state = 101)"
      ],
      "execution_count": null,
      "outputs": []
    },
    {
      "cell_type": "code",
      "metadata": {
        "colab": {
          "base_uri": "https://localhost:8080/"
        },
        "id": "4S8iYAu_9QeL",
        "outputId": "0ef0c462-0b91-4ea8-b4bf-89491908983a"
      },
      "source": [
        "import random\n",
        "print(\"Number of training samples = \", len(X_train))\n",
        "print(\"Number of testing samples = \", len(X_test))"
      ],
      "execution_count": null,
      "outputs": [
        {
          "output_type": "stream",
          "text": [
            "Number of training samples =  7000\n",
            "Number of testing samples =  3000\n"
          ],
          "name": "stdout"
        }
      ]
    },
    {
      "cell_type": "code",
      "metadata": {
        "id": "Byr6aKkDyirp"
      },
      "source": [
        "# Linear SVM model\n",
        "\n",
        "model_linear = SVC(kernel='linear')\n",
        "model_linear.fit(X_train, y_train)\n",
        "y_pred = model_linear.predict(X_test)"
      ],
      "execution_count": null,
      "outputs": []
    },
    {
      "cell_type": "code",
      "metadata": {
        "colab": {
          "base_uri": "https://localhost:8080/"
        },
        "id": "ipIZlDJ8yir2",
        "outputId": "922ad050-5602-4958-ab12-fedfeb3651a3"
      },
      "source": [
        "print(\"Accuracy linear kernel without Markov Sampling : \", metrics.accuracy_score(y_true=y_test, y_pred=y_pred), \"\\n\")\n",
        "print(metrics.confusion_matrix(y_true=y_test, y_pred=y_pred))"
      ],
      "execution_count": null,
      "outputs": [
        {
          "output_type": "stream",
          "text": [
            "Accuracy linear kernel without Markov Sampling :  0.9 \n",
            "\n",
            "[[1007  249]\n",
            " [  51 1693]]\n"
          ],
          "name": "stdout"
        }
      ]
    },
    {
      "cell_type": "code",
      "metadata": {
        "id": "7_LLXzdVvaGq"
      },
      "source": [
        "import math\n",
        "def markov_samp(X_train, Y_train, k = 5, q = 1.2, n2 = 10, T = 10):\n",
        "\n",
        "#Taking N1 as 5000                                                                                                                                                              Akhil Singh\n",
        "    # Dtrain = np.concatenate((X_train, np.array()), axis = 0)\n",
        "    Dtrain = np.concatenate((np.vstack(X_train), np.vstack(Y_train.to_numpy())), axis = 1)\n",
        "    Do = random.sample(list(Dtrain), 5000)\n",
        "\n",
        "    N = len(Do)\n",
        "    print(\"N : \" , N)\n",
        "\n",
        "#Initializing mneg and mpos as 0\n",
        "    t = 1\n",
        "\n",
        "#Choosing first zt random sample from chosen training samples\n",
        "    index = np.random.choice(len(Do), 1, replace=False)  \n",
        "    zsample = np.array(Do)\n",
        "    # print(type(zsample))\n",
        "    z = zsample[index][0]\n",
        "\n",
        "    # print(\"z : \", z)\n",
        "\n",
        "#Initializing empty sample holder\n",
        "    samp = []\n",
        "\n",
        "#Training SVM for choosing Markov CHain Samples\n",
        "    model_linear = SVC(kernel='linear')#\n",
        "    model_linear.fit(X_train, Y_train)#\n",
        "    \n",
        "    yzt = model_linear.predict(np.array(z)[0:7].reshape(1, -1))\n",
        "#Calculating loss for zt sample\n",
        "    fxy1 = 1\n",
        "    if not yzt==z[7]:\n",
        "        fxy1 = 2 \n",
        "    lzt = math.exp(0-fxy1)\n",
        "\n",
        "    Pd = 0\n",
        "    Pdd = 0\n",
        "    zi = z\n",
        "#Loop for Markov sampling    \n",
        "    while(t <= T):\n",
        "        i = 1\n",
        "        n1 = 0\n",
        "        samp = []\n",
        "        # print(str(t) + \" samp \" + str(len(samp)) + \" N \"+ str(N))\n",
        "        while(i <= N):\n",
        "            # print(\"i \", i)\n",
        "        #Choosing zstar sample \n",
        "            zstar = Dtrain[np.random.choice(len(Dtrain), 1, replace=False)][0]\n",
        "            ystar = model_linear.predict(np.array(zstar)[ 0:7].reshape(1, -1)) #\n",
        "        #Calculating loss for zstar and P ratio\n",
        "            fxy = 1\n",
        "            if not ystar==zstar[7]:\n",
        "                fxy = 2 \n",
        "            lzstar = math.exp(0-fxy)\n",
        "\n",
        "            yzt = model_linear.predict(np.array(zi)[0:7].reshape(1, -1))\n",
        "            #Calculating loss for zi sample\n",
        "            fxy1 = 1\n",
        "            if not yzt==zi[7]:\n",
        "                fxy1 = 2 \n",
        "            lzt = math.exp(0-fxy1)\n",
        "\n",
        "            P = min(1.0, math.exp(lzt-lzstar))\n",
        "\n",
        "            # print(zt)\n",
        "            yt = zi[7]\n",
        "            zi = zstar\n",
        "\n",
        "            if n1 > n2:\n",
        "                P = min(1.0, q*P)\n",
        "                zi = zstar\n",
        "                Dt = zi\n",
        "                i = i+1\n",
        "                n1 = 0\n",
        "\n",
        "        #Accept/Reject\n",
        "            rejected = 0\n",
        "            if P == 1:\n",
        "                if zi[7] == yt:\n",
        "                    r = random.uniform(0.001, 1.0)\n",
        "                    if r <= P:\n",
        "                        samp.append(zstar) #Pdash = e−y∗f0 /e−ytf0\n",
        "                        i += 1\n",
        "                    else:\n",
        "                        rejected = 1\n",
        "                else:\n",
        "                    ct = 1 if yt==1 else -1\n",
        "                    cst = 1 if ystar==1 else -1\n",
        "                    Pd = math.exp(ct*fxy1-cst*fxy)\n",
        "                    r = random.uniform(0.001, 1.0)\n",
        "                    if r <= Pd:\n",
        "                        samp.append(zstar) #P\n",
        "                        i += 1\n",
        "                    else:\n",
        "                        rejected = 1\n",
        "\n",
        "        #Updating zi          \n",
        "            zi = zstar\n",
        "            \n",
        "        #Checking accept criteria final time and updating n1 if rejection\n",
        "            if P > 1 or Pd > 1 or Pdd > 1:\n",
        "                samp.append(zstar)\n",
        "                i += 1\n",
        "            if rejected == 1:\n",
        "                n1 = n1 + 1\n",
        "            \n",
        "            # print(len(samp))    \n",
        "        zi = zstar\n",
        "        t = t+1\n",
        "\n",
        "        dtx = np.array(samp)[:, 0:7]\n",
        "        dty = np.array(samp)[:, 7]\n",
        "\n",
        "        model_linear = SVC(kernel='linear')#\n",
        "        model_linear.fit(dtx, dty)#\n",
        "        \n",
        "        decision_function = model_linear.decision_function(dtx)\n",
        "        support_vector_indices = np.where(np.abs(decision_function) <= 1 + 1e-15)[0]\n",
        "        support_vectors = dtx[support_vector_indices]\n",
        "        print(\"Support vectors for Dt -> \")\n",
        "        print(support_vectors)\n",
        "\n",
        "        y_pred = model_linear.predict(dtx)\n",
        "        et = 1.0 - metrics.accuracy_score(y_true=dty, y_pred=y_pred)\n",
        "        if et != 0:\n",
        "            alpha = 0.5*math.log((1-et)/et)\n",
        "            if alpha < 0:\n",
        "                t = t-1\n",
        "\n",
        "    return samp\n"
      ],
      "execution_count": null,
      "outputs": []
    },
    {
      "cell_type": "code",
      "metadata": {
        "id": "q9xnR2e6S6R8",
        "colab": {
          "base_uri": "https://localhost:8080/"
        },
        "outputId": "9322af90-e824-4d1b-ed06-31efbfa906f3"
      },
      "source": [
        "nsamp = np.array(markov_samp(X_train, y_train))\n",
        "\n",
        "X_train = nsamp[:, 0:7]\n",
        "y_train = nsamp[:, 7]\n",
        "print(\"Shape of Markov Sample features : \", X_train.shape)\n",
        "print(\"Shape of Markov Sample labels : \", y_train.shape)"
      ],
      "execution_count": null,
      "outputs": [
        {
          "output_type": "stream",
          "text": [
            "N :  5000\n",
            "Support vectors for Dt -> \n",
            "[[-2.93670135  3.67247843  3.82973369 ...  6.35000674  4.41961436\n",
            "   4.47086381]\n",
            " [-3.35623083  3.62415674  4.98035406 ...  6.82978406  5.00543064\n",
            "   3.99747872]\n",
            " [-3.17846368  3.67247843  3.46929946 ...  6.02629803  4.1249921\n",
            "   4.75029544]\n",
            " ...\n",
            " [-2.74471457  3.67247843  3.46929946 ...  6.02629803  4.71425785\n",
            "   5.02972706]\n",
            " [-2.00520547  3.47919074  4.34333267 ...  5.4147366   6.22021607\n",
            "   5.89907076]\n",
            " [-6.12938715  5.7986506   4.58716733 ...  5.82084521  5.22496965\n",
            "   4.9552083 ]]\n",
            "Support vectors for Dt -> \n",
            "[[-2.7020507   3.67247843  4.65615267 ...  6.4335699   5.30354595\n",
            "   4.75029544]\n",
            " [-5.50365002  5.70200628  5.16473846 ...  5.91949658  5.88284672\n",
            "   4.13933906]\n",
            " [-5.63164162  5.7986506   4.42334703 ...  6.40292942  5.03837038\n",
            "   4.7782434 ]\n",
            " ...\n",
            " [-5.98717467  5.70200628  4.33171451 ...  6.70878005  4.93399806\n",
            "   4.13933906]\n",
            " [-5.98717467  5.70200628  4.33171451 ...  6.70878005  4.93399806\n",
            "   4.13933906]\n",
            " [-2.65227516  3.67247843  3.62146269 ...  5.82084521  4.07140705\n",
            "   6.0676046 ]]\n",
            "Support vectors for Dt -> \n",
            "[[-2.95092347  3.67247843  4.39747517 ...  6.4335699   4.07140705\n",
            "   6.0676046 ]\n",
            " [-5.74541234  5.7986506   4.0956842  ...  6.20890929  4.6651506\n",
            "   4.7782434 ]\n",
            " [-5.74541234  5.7986506   4.0956842  ...  6.20890929  4.6651506\n",
            "   4.7782434 ]\n",
            " ...\n",
            " [-2.64516472  3.67247843  3.62146269 ...  6.12720755  4.1249921\n",
            "   5.02972706]\n",
            " [-2.64516472  3.67247843  3.62146269 ...  6.12720755  4.1249921\n",
            "   5.02972706]\n",
            " [-2.95803391  3.72080106  3.70057224 ...  6.30020301  4.94385125\n",
            "   4.68860365]]\n",
            "Support vectors for Dt -> \n",
            "[[-3.05047208  3.67247843  4.39747517 ...  6.73993328  4.71425785\n",
            "   5.02972706]\n",
            " [-2.92248048  3.67247843  4.16315558 ...  5.47843938  4.71425785\n",
            "   5.02972706]\n",
            " [-3.89664022  4.10737739  3.88613601 ...  5.9562144   3.68822229\n",
            "   4.49717655]\n",
            " ...\n",
            " [-3.37756214  3.67247843  4.13879768 ...  6.73993328  4.41961436\n",
            "   4.47086381]\n",
            " [-3.79709161  4.25234434  3.79782598 ...  7.40835259  4.32587767\n",
            "   3.86120248]\n",
            " [-3.79709161  4.25234434  3.79782598 ...  7.40835259  4.32587767\n",
            "   3.86120248]]\n",
            "Support vectors for Dt -> \n",
            "[[-5.9445108   5.6536846   4.20070451 ...  6.96510664  4.78477274\n",
            "   3.44868078]\n",
            " [-5.9445108   5.6536846   4.20070451 ...  6.96510664  4.78477274\n",
            "   3.44868078]\n",
            " [-0.5119674   3.47919074  6.28005082 ...  4.85069588  7.15323256\n",
            "   6.78391583]\n",
            " ...\n",
            " [-3.39889469  3.72080106  3.70057224 ...  6.30020301  3.78059194\n",
            "   3.86120248]\n",
            " [-5.53209177  5.7986506   4.75100875 ...  6.20890929  5.41159128\n",
            "   4.60127851]\n",
            " [-5.53209177  5.7986506   4.75100875 ...  6.20890929  5.41159128\n",
            "   4.60127851]]\n",
            "Support vectors for Dt -> \n",
            "[[-2.73049246  3.67247843  3.88012018 ...  6.73993328  4.41961436\n",
            "   4.47086381]\n",
            " [-2.73049246  3.67247843  3.88012018 ...  6.73993328  4.41961436\n",
            "   4.47086381]\n",
            " [-2.85848406  3.76912275  4.53676083 ...  6.56710045  5.1675551\n",
            "   4.08397546]\n",
            " ...\n",
            " [-6.30004262  5.70200628  5.16473846 ...  7.4980397   5.88284672\n",
            "   2.87953949]\n",
            " [-3.47000155  4.10737739  3.70057224 ...  5.20451057  4.94723252\n",
            "   5.18568883]\n",
            " [-3.6548779   4.10737739  3.93186391 ...  6.02629803  4.47855133\n",
            "   5.49655162]]\n",
            "Support vectors for Dt -> \n",
            "[[-5.31877243  5.6536846   4.53676083 ...  5.17407933  5.1675551\n",
            "   5.26377608]\n",
            " [-5.31877243  5.6536846   4.53676083 ...  5.17407933  5.1675551\n",
            "   5.26377608]\n",
            " [-3.76153818  3.72080106  4.08504867 ...  7.86191251  4.47855133\n",
            "   3.74765088]\n",
            " ...\n",
            " [-6.17205102  5.75032892  4.29530494 ...  6.06541384  4.89252634\n",
            "   4.81840169]\n",
            " [-3.21401711  3.72080106  3.70057224 ...  5.47843938  4.07140705\n",
            "   3.86120248]\n",
            " [-3.21401711  3.72080106  3.70057224 ...  5.47843938  4.07140705\n",
            "   3.86120248]]\n",
            "Support vectors for Dt -> \n",
            "[[-2.75182501  3.67247843  3.70057224 ...  5.20451057  4.1249921\n",
            "   5.30915868]\n",
            " [-2.96514434  3.62415674  3.46929946 ...  6.02629803  4.77711486\n",
            "   2.83154424]\n",
            " [-4.00330051  4.10737739  3.46929946 ...  5.75236818  3.68822229\n",
            "   4.74700438]\n",
            " ...\n",
            " [-2.33229554  3.72080106  4.08504867 ...  6.35000674  4.65303614\n",
            "   4.68860365]\n",
            " [-2.33229554  3.72080106  4.08504867 ...  6.35000674  4.65303614\n",
            "   4.68860365]\n",
            " [-1.46479608  3.38254642  7.58287443 ...  4.98930211  4.85625004\n",
            "   5.88484188]]\n",
            "Support vectors for Dt -> \n",
            "[[-2.9864769   4.10737739  5.08830336 ...  5.20451057  5.79578315\n",
            "   5.24670221]\n",
            " [-2.9864769   4.10737739  5.08830336 ...  5.20451057  5.79578315\n",
            "   5.24670221]\n",
            " [-3.2424601   3.67247843  3.62146269 ...  5.82084521  4.07140705\n",
            "   3.86120248]\n",
            " ...\n",
            " [-3.67621045  3.72080106  3.04251544 ...  6.9295759   3.78059194\n",
            "   4.68860365]\n",
            " [-1.80610701  3.62415674  5.50460858 ...  4.96711314  6.26997275\n",
            "   6.22940635]\n",
            " [-1.22303325  3.47919074  7.91834051 ...  5.49746175  6.22021607\n",
            "   5.89907076]]\n",
            "Support vectors for Dt -> \n",
            "[[-6.84045325  5.7986506   4.25952562 ...  6.40292942  4.85177223\n",
            "   4.42429204]\n",
            " [-2.82293187  3.67247843  3.88613601 ...  5.9562144   4.71425785\n",
            "   5.02972706]\n",
            " [-2.9864769   3.72080106  3.23800779 ...  6.57413181  5.23466524\n",
            "   5.24020344]\n",
            " ...\n",
            " [-2.21141437  3.47919074  5.18787807 ...  3.88057141  4.21510049\n",
            "   5.49655162]\n",
            " [-3.28512397  3.62415674  3.88012018 ...  7.35263518  4.47855133\n",
            "   4.53047529]\n",
            " [-2.87270617  3.67247843  3.93186391 ...  6.02629803  4.1249921\n",
            "   4.75029544]]\n",
            "Shape of Markov Sample features :  (4922, 7)\n",
            "Shape of Markov Sample labels :  (4922,)\n"
          ],
          "name": "stdout"
        }
      ]
    },
    {
      "cell_type": "code",
      "metadata": {
        "id": "Czgzdz3sWUFN"
      },
      "source": [
        "# print(y_train) Akhil Singh\n",
        "#Converting label to ASCII in list for sklearn as sampling returned ndarray\n",
        "Y_train = []\n",
        "for i in y_train:\n",
        "    Y_train.append(i)\n",
        "# print(Y_train)"
      ],
      "execution_count": null,
      "outputs": []
    },
    {
      "cell_type": "code",
      "metadata": {
        "id": "TWGtELnRR6b2",
        "colab": {
          "base_uri": "https://localhost:8080/"
        },
        "outputId": "8f800f59-5ad0-41fb-ae83-409288b8fd54"
      },
      "source": [
        "print(\"\", X_test.shape)"
      ],
      "execution_count": null,
      "outputs": [
        {
          "output_type": "stream",
          "text": [
            " (3000, 7)\n"
          ],
          "name": "stdout"
        }
      ]
    },
    {
      "cell_type": "code",
      "metadata": {
        "id": "MXAxhg-sScBh"
      },
      "source": [
        "# print(y_pred)\n",
        "#Converting label to ASCII in list for sklearn as training is done on ASCII\n",
        "Y_test = []\n",
        "for i in y_test:\n",
        "    Y_test.append(i)\n",
        "# print(Y_test)"
      ],
      "execution_count": null,
      "outputs": []
    },
    {
      "cell_type": "code",
      "metadata": {
        "id": "ZGqTVqGr4H46"
      },
      "source": [
        "# Linear SVM model\n",
        "\n",
        "model_linear = SVC(kernel='linear')\n",
        "model_linear.fit(X_train, Y_train)\n",
        "y_pred = model_linear.predict(X_test)\n"
      ],
      "execution_count": null,
      "outputs": []
    },
    {
      "cell_type": "code",
      "metadata": {
        "id": "s12I7fMO4H46",
        "colab": {
          "base_uri": "https://localhost:8080/"
        },
        "outputId": "962d7fb9-a5e2-4d99-8bac-bf456a3e0526"
      },
      "source": [
        "# accuracy\n",
        "print(\"Accuracy Linear kernel with Improved Markov Boosting : \", metrics.accuracy_score(y_true=Y_test, y_pred=y_pred), \"\\n\")\n",
        "print(metrics.confusion_matrix(y_true=Y_test, y_pred=y_pred))"
      ],
      "execution_count": null,
      "outputs": [
        {
          "output_type": "stream",
          "text": [
            "Accuracy Linear kernel with Improved Markov Boosting :  0.908 \n",
            "\n",
            "[[1047  209]\n",
            " [  67 1677]]\n"
          ],
          "name": "stdout"
        }
      ]
    }
  ]
}