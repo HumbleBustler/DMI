{
  "nbformat": 4,
  "nbformat_minor": 0,
  "metadata": {
    "kernelspec": {
      "display_name": "Python 3",
      "language": "python",
      "name": "python3"
    },
    "language_info": {
      "codemirror_mode": {
        "name": "ipython",
        "version": 3
      },
      "file_extension": ".py",
      "mimetype": "text/x-python",
      "name": "python",
      "nbconvert_exporter": "python",
      "pygments_lexer": "ipython3",
      "version": "3.6.4"
    },
    "colab": {
      "name": "MarkovBoostedSVM.ipynb",
      "provenance": [],
      "collapsed_sections": []
    }
  },
  "cells": [
    {
      "cell_type": "code",
      "metadata": {
        "id": "gw1SdidJ4H4q"
      },
      "source": [
        "import pandas as pd\n",
        "import numpy as np\n",
        "from sklearn.svm import SVC\n",
        "from sklearn.model_selection import train_test_split\n",
        "from sklearn import metrics\n",
        "from sklearn.metrics import confusion_matrix\n",
        "from sklearn.model_selection import KFold\n",
        "from sklearn.model_selection import cross_val_score\n",
        "from sklearn.model_selection import GridSearchCV\n",
        "import matplotlib.pyplot as plt\n",
        "import seaborn as sns\n",
        "from sklearn.preprocessing import scale\n",
        "\n",
        "letters = pd.read_csv(\"letter-recognition.csv\")"
      ],
      "execution_count": null,
      "outputs": []
    },
    {
      "cell_type": "code",
      "metadata": {
        "scrolled": true,
        "colab": {
          "base_uri": "https://localhost:8080/"
        },
        "id": "KxS82uhy4H4u",
        "outputId": "0baf24d5-3bd9-4dad-9b6f-06af8d48264f"
      },
      "source": [
        "print(\"Dimensions: \", letters.shape, \"\\n\")\n",
        "# print(letters.info())\n",
        "# letters.head()"
      ],
      "execution_count": null,
      "outputs": [
        {
          "output_type": "stream",
          "text": [
            "Dimensions:  (20000, 17) \n",
            "\n"
          ],
          "name": "stdout"
        }
      ]
    },
    {
      "cell_type": "code",
      "metadata": {
        "id": "I05lF3fO4H4z"
      },
      "source": [
        "letters.columns = ['letter', 'xbox', 'ybox', 'width', 'height', 'onpix', 'xbar', 'ybar', 'x2bar', 'y2bar', 'xybar', 'x2ybar', 'xy2bar', 'xedge', 'xedgey', 'yedge', 'yedgex']\n",
        "# print(letters.columns)"
      ],
      "execution_count": null,
      "outputs": []
    },
    {
      "cell_type": "code",
      "metadata": {
        "id": "TJRXG-w6uH2z"
      },
      "source": [
        "letters = letters[letters['letter'].isin(['A', 'B']) == True] \n",
        "# letters = letters[(letters['letter'].any('A', 'B'))] "
      ],
      "execution_count": null,
      "outputs": []
    },
    {
      "cell_type": "code",
      "metadata": {
        "colab": {
          "base_uri": "https://localhost:8080/"
        },
        "id": "bpvX5UB_4H40",
        "outputId": "39d992f4-8ab4-4986-8560-b2782f96fb7d"
      },
      "source": [
        "order = list(np.sort(letters['letter'].unique()))\n",
        "print(order)"
      ],
      "execution_count": null,
      "outputs": [
        {
          "output_type": "stream",
          "text": [
            "['A', 'B']\n"
          ],
          "name": "stdout"
        }
      ]
    },
    {
      "cell_type": "code",
      "metadata": {
        "colab": {
          "base_uri": "https://localhost:8080/",
          "height": 133
        },
        "id": "61nf6tgl4H41",
        "outputId": "f145e90b-9590-46da-aa95-c6411218d2ea"
      },
      "source": [
        "letter_means = letters.groupby('letter').mean()\n",
        "letter_means.head()"
      ],
      "execution_count": null,
      "outputs": [
        {
          "output_type": "execute_result",
          "data": {
            "text/html": [
              "<div>\n",
              "<style scoped>\n",
              "    .dataframe tbody tr th:only-of-type {\n",
              "        vertical-align: middle;\n",
              "    }\n",
              "\n",
              "    .dataframe tbody tr th {\n",
              "        vertical-align: top;\n",
              "    }\n",
              "\n",
              "    .dataframe thead th {\n",
              "        text-align: right;\n",
              "    }\n",
              "</style>\n",
              "<table border=\"1\" class=\"dataframe\">\n",
              "  <thead>\n",
              "    <tr style=\"text-align: right;\">\n",
              "      <th></th>\n",
              "      <th>xbox</th>\n",
              "      <th>ybox</th>\n",
              "      <th>width</th>\n",
              "      <th>height</th>\n",
              "      <th>onpix</th>\n",
              "      <th>xbar</th>\n",
              "      <th>ybar</th>\n",
              "      <th>x2bar</th>\n",
              "      <th>y2bar</th>\n",
              "      <th>xybar</th>\n",
              "      <th>x2ybar</th>\n",
              "      <th>xy2bar</th>\n",
              "      <th>xedge</th>\n",
              "      <th>xedgey</th>\n",
              "      <th>yedge</th>\n",
              "      <th>yedgex</th>\n",
              "    </tr>\n",
              "    <tr>\n",
              "      <th>letter</th>\n",
              "      <th></th>\n",
              "      <th></th>\n",
              "      <th></th>\n",
              "      <th></th>\n",
              "      <th></th>\n",
              "      <th></th>\n",
              "      <th></th>\n",
              "      <th></th>\n",
              "      <th></th>\n",
              "      <th></th>\n",
              "      <th></th>\n",
              "      <th></th>\n",
              "      <th></th>\n",
              "      <th></th>\n",
              "      <th></th>\n",
              "      <th></th>\n",
              "    </tr>\n",
              "  </thead>\n",
              "  <tbody>\n",
              "    <tr>\n",
              "      <th>A</th>\n",
              "      <td>3.337136</td>\n",
              "      <td>6.975919</td>\n",
              "      <td>5.128010</td>\n",
              "      <td>5.178707</td>\n",
              "      <td>2.991128</td>\n",
              "      <td>8.851711</td>\n",
              "      <td>3.631179</td>\n",
              "      <td>2.755387</td>\n",
              "      <td>2.043093</td>\n",
              "      <td>7.802281</td>\n",
              "      <td>2.338403</td>\n",
              "      <td>8.465146</td>\n",
              "      <td>2.771863</td>\n",
              "      <td>6.321926</td>\n",
              "      <td>2.875792</td>\n",
              "      <td>7.468948</td>\n",
              "    </tr>\n",
              "    <tr>\n",
              "      <th>B</th>\n",
              "      <td>3.985640</td>\n",
              "      <td>6.962141</td>\n",
              "      <td>5.088773</td>\n",
              "      <td>5.169713</td>\n",
              "      <td>4.596606</td>\n",
              "      <td>7.671018</td>\n",
              "      <td>7.062663</td>\n",
              "      <td>5.366841</td>\n",
              "      <td>5.571802</td>\n",
              "      <td>7.954308</td>\n",
              "      <td>5.506527</td>\n",
              "      <td>6.652742</td>\n",
              "      <td>3.117493</td>\n",
              "      <td>7.919060</td>\n",
              "      <td>6.612272</td>\n",
              "      <td>9.100522</td>\n",
              "    </tr>\n",
              "  </tbody>\n",
              "</table>\n",
              "</div>"
            ],
            "text/plain": [
              "            xbox      ybox     width  ...    xedgey     yedge    yedgex\n",
              "letter                                ...                              \n",
              "A       3.337136  6.975919  5.128010  ...  6.321926  2.875792  7.468948\n",
              "B       3.985640  6.962141  5.088773  ...  7.919060  6.612272  9.100522\n",
              "\n",
              "[2 rows x 16 columns]"
            ]
          },
          "metadata": {
            "tags": []
          },
          "execution_count": 7
        }
      ]
    },
    {
      "cell_type": "code",
      "metadata": {
        "colab": {
          "base_uri": "https://localhost:8080/"
        },
        "id": "__mRCQrz4H43",
        "outputId": "381dd7f3-e192-429a-d11f-0f6c183f189e"
      },
      "source": [
        "round(letters.drop('letter', axis=1).mean(), 2)"
      ],
      "execution_count": null,
      "outputs": [
        {
          "output_type": "execute_result",
          "data": {
            "text/plain": [
              "xbox      3.66\n",
              "ybox      6.97\n",
              "width     5.11\n",
              "height    5.17\n",
              "onpix     3.78\n",
              "xbar      8.27\n",
              "ybar      5.32\n",
              "x2bar     4.04\n",
              "y2bar     3.78\n",
              "xybar     7.88\n",
              "x2ybar    3.90\n",
              "xy2bar    7.57\n",
              "xedge     2.94\n",
              "xedgey    7.11\n",
              "yedge     4.72\n",
              "yedgex    8.27\n",
              "dtype: float64"
            ]
          },
          "metadata": {
            "tags": []
          },
          "execution_count": 8
        }
      ]
    },
    {
      "cell_type": "code",
      "metadata": {
        "id": "Ch5yyqph4H45"
      },
      "source": [
        "X = letters.drop(\"letter\", axis = 1)\n",
        "y = letters['letter']"
      ],
      "execution_count": null,
      "outputs": []
    },
    {
      "cell_type": "code",
      "metadata": {
        "id": "uAyFsxxO4H45"
      },
      "source": [
        "X_scaled = scale(X, with_mean=False)\n",
        "X_train, X_test, y_train, y_test = train_test_split(X_scaled, y, test_size = 0.3, random_state = 101)"
      ],
      "execution_count": null,
      "outputs": []
    },
    {
      "cell_type": "code",
      "metadata": {
        "colab": {
          "base_uri": "https://localhost:8080/"
        },
        "id": "4S8iYAu_9QeL",
        "outputId": "36128d48-a5a1-4620-f519-aa64b92d0848"
      },
      "source": [
        "import random\n",
        "print(\"Number of training samples = \", len(X_train))\n",
        "print(\"Number of testing samples = \", len(X_test))"
      ],
      "execution_count": null,
      "outputs": [
        {
          "output_type": "stream",
          "text": [
            "Number of training samples =  1088\n",
            "Number of testing samples =  467\n"
          ],
          "name": "stdout"
        }
      ]
    },
    {
      "cell_type": "code",
      "metadata": {
        "id": "Byr6aKkDyirp"
      },
      "source": [
        "# Linear SVM model\n",
        "\n",
        "model_linear = SVC(kernel='linear')\n",
        "model_linear.fit(X_train, y_train)\n",
        "y_pred = model_linear.predict(X_test)"
      ],
      "execution_count": null,
      "outputs": []
    },
    {
      "cell_type": "code",
      "metadata": {
        "colab": {
          "base_uri": "https://localhost:8080/"
        },
        "id": "ipIZlDJ8yir2",
        "outputId": "70350bc2-3d12-4d24-c5ec-c080b3045b3d"
      },
      "source": [
        "print(\"Accuracy linear kernel without Markov Boosting : \", metrics.accuracy_score(y_true=y_test, y_pred=y_pred), \"\\n\")\n",
        "print(metrics.confusion_matrix(y_true=y_test, y_pred=y_pred))"
      ],
      "execution_count": null,
      "outputs": [
        {
          "output_type": "stream",
          "text": [
            "Accuracy linear kernel without Markov Boosting :  0.9914346895074947 \n",
            "\n",
            "[[225   1]\n",
            " [  3 238]]\n"
          ],
          "name": "stdout"
        }
      ]
    },
    {
      "cell_type": "code",
      "metadata": {
        "id": "7_LLXzdVvaGq"
      },
      "source": [
        "import math\n",
        "def markov_samp(X_train, Y_train, k = 5, q = 1.2, n2 = 10, T = 10):\n",
        "\n",
        "#Taking N1 as 1000\n",
        "    # Dtrain = np.concatenate((X_train, np.array()), axis = 0)\n",
        "    Dtrain = np.concatenate((np.vstack(X_train), np.vstack(Y_train.to_numpy())), axis = 1)\n",
        "    Do = random.sample(list(Dtrain), 1000)\n",
        "\n",
        "    N = len(Do)\n",
        "    print(\"N : \" , N)\n",
        "\n",
        "#Initializing mneg and mpos as 0\n",
        "    t = 1\n",
        "\n",
        "#Choosing first zt random sample from chosen training samples\n",
        "    index = np.random.choice(len(Do), 1, replace=False)  \n",
        "    zsample = np.array(Do)\n",
        "    # print(type(zsample))\n",
        "    z = zsample[index][0]\n",
        "\n",
        "    # print(\"z : \", z)\n",
        "\n",
        "#Initializing empty sample holder\n",
        "    samp = []\n",
        "\n",
        "#Training SVM for choosing Markov CHain Samples\n",
        "    model_linear = SVC(kernel='linear')#\n",
        "    model_linear.fit(X_train, Y_train)#\n",
        "    \n",
        "    yzt = model_linear.predict(np.array(z)[0:16].reshape(1, -1))\n",
        "#Calculating loss for zt sample\n",
        "    fxy1 = 1\n",
        "    if not yzt==z[16]:\n",
        "        fxy1 = 2 \n",
        "    lzt = math.exp(0-fxy1)\n",
        "\n",
        "    Pd = 0\n",
        "    Pdd = 0\n",
        "    zi = z\n",
        "#Loop for Markov sampling    \n",
        "    while(t <= T):\n",
        "        i = 1\n",
        "        n1 = 0\n",
        "        samp = []\n",
        "        # print(str(t) + \" samp \" + str(len(samp)) + \" N \"+ str(N))\n",
        "        while(i <= N):\n",
        "            # print(\"i \", i)\n",
        "        #Choosing zstar sample \n",
        "            zstar = Dtrain[np.random.choice(len(Dtrain), 1, replace=False)][0]\n",
        "            ystar = model_linear.predict(np.array(zstar)[ 0:16].reshape(1, -1)) #\n",
        "        #Calculating loss for zstar and P ratio\n",
        "            fxy = 1\n",
        "            if not ystar==zstar[16]:\n",
        "                fxy = 2 \n",
        "            lzstar = math.exp(0-fxy)\n",
        "\n",
        "            yzt = model_linear.predict(np.array(zi)[0:16].reshape(1, -1))\n",
        "            #Calculating loss for zi sample\n",
        "            fxy1 = 1\n",
        "            if not yzt==zi[16]:\n",
        "                fxy1 = 2 \n",
        "            lzt = math.exp(0-fxy1)\n",
        "\n",
        "            P = min(1.0, math.exp(lzt-lzstar))\n",
        "\n",
        "            # print(zt)\n",
        "            yt = zi[16]\n",
        "            zi = zstar\n",
        "\n",
        "            if n1 > n2:\n",
        "                P = min(1.0, q*P)\n",
        "                zi = zstar\n",
        "                Dt = zi\n",
        "                i = i+1\n",
        "                n1 = 0\n",
        "\n",
        "        #Accept/Reject\n",
        "            rejected = 0\n",
        "            if P == 1:\n",
        "                if zi[16] == yt:\n",
        "                    r = random.uniform(0.001, 1.0)\n",
        "                    if r <= P:\n",
        "                        samp.append(zstar) #Pdash = e−y∗f0 /e−ytf0\n",
        "                        i += 1\n",
        "                    else:\n",
        "                        rejected = 1\n",
        "                else:\n",
        "                    ct = 1 if yt=='A' else -1\n",
        "                    cst = 1 if ystar=='A' else -1\n",
        "                    Pd = math.exp(ct*fxy1-cst*fxy)\n",
        "                    r = random.uniform(0.001, 1.0)\n",
        "                    if r <= Pd:\n",
        "                        samp.append(zstar) #P\n",
        "                        i += 1\n",
        "                    else:\n",
        "                        rejected = 1\n",
        "\n",
        "        #Updating zi          \n",
        "            zi = zstar\n",
        "            \n",
        "        #Checking accept criteria final time and updating n1 if rejection\n",
        "            if P > 1 or Pd > 1 or Pdd > 1:\n",
        "                samp.append(zstar)\n",
        "                i += 1\n",
        "            if rejected == 1:\n",
        "                n1 = n1 + 1\n",
        "            \n",
        "            # print(len(samp))    \n",
        "        zi = zstar\n",
        "        t = t+1\n",
        "\n",
        "        dtx = np.array(samp)[:, 0:16]\n",
        "        dty = np.array(samp)[:, 16]\n",
        "        dtY = []\n",
        "        for i in dty:\n",
        "            dtY.append(ord(i))\n",
        "        model_linear = SVC(kernel='linear')#\n",
        "        model_linear.fit(dtx, dty)#\n",
        "        y_pred = model_linear.predict(dtx)\n",
        "        et = 1.0 - metrics.accuracy_score(y_true=dty, y_pred=y_pred)\n",
        "        if et != 0:\n",
        "            alpha = 0.5*math.log((1-et)/et)\n",
        "            if alpha < 0:\n",
        "                t = t-1\n",
        "        \n",
        "    return samp\n"
      ],
      "execution_count": null,
      "outputs": []
    },
    {
      "cell_type": "code",
      "metadata": {
        "id": "q9xnR2e6S6R8",
        "colab": {
          "base_uri": "https://localhost:8080/"
        },
        "outputId": "963c118c-576c-4524-8009-c1598a4cce48"
      },
      "source": [
        "nsamp = np.array(markov_samp(X_train, y_train))\n",
        "\n",
        "X_train = nsamp[:, 0:16]\n",
        "y_train = nsamp[:, 16]\n",
        "print(\"Shape of Markov Sample features : \", X_train.shape)\n",
        "print(\"Shape of Markov Sample labels : \", y_train.shape)"
      ],
      "execution_count": null,
      "outputs": [
        {
          "output_type": "stream",
          "text": [
            "N :  1000\n",
            "Shape of Markov Sample features :  (987, 16)\n",
            "Shape of Markov Sample labels :  (987,)\n"
          ],
          "name": "stdout"
        }
      ]
    },
    {
      "cell_type": "code",
      "metadata": {
        "id": "Czgzdz3sWUFN"
      },
      "source": [
        "# print(y_train)\n",
        "#Converting label to ASCII in list for sklearn as sampling returned ndarray                                                                                                         Akhil Singh\n",
        "Y_train = []\n",
        "for i in y_train:\n",
        "    Y_train.append(ord(i))\n",
        "# print(Y_train)"
      ],
      "execution_count": null,
      "outputs": []
    },
    {
      "cell_type": "code",
      "metadata": {
        "id": "TWGtELnRR6b2",
        "colab": {
          "base_uri": "https://localhost:8080/"
        },
        "outputId": "fe8c642f-7073-4b9d-dd52-f0ec259b7640"
      },
      "source": [
        "print(\"\", X_test.shape)"
      ],
      "execution_count": null,
      "outputs": [
        {
          "output_type": "stream",
          "text": [
            " (467, 16)\n"
          ],
          "name": "stdout"
        }
      ]
    },
    {
      "cell_type": "code",
      "metadata": {
        "id": "MXAxhg-sScBh"
      },
      "source": [
        "# print(y_pred)\n",
        "#Converting label to ASCII in list for sklearn as training is done on ASCII\n",
        "Y_test = []\n",
        "for i in y_test:\n",
        "    Y_test.append(ord(i))\n",
        "# print(Y_test)"
      ],
      "execution_count": null,
      "outputs": []
    },
    {
      "cell_type": "code",
      "metadata": {
        "id": "ZGqTVqGr4H46"
      },
      "source": [
        "# Linear SVM model\n",
        "\n",
        "model_linear = SVC(kernel='linear')\n",
        "model_linear.fit(X_train, Y_train)\n",
        "y_pred = model_linear.predict(X_test)\n"
      ],
      "execution_count": null,
      "outputs": []
    },
    {
      "cell_type": "code",
      "metadata": {
        "id": "s12I7fMO4H46",
        "colab": {
          "base_uri": "https://localhost:8080/"
        },
        "outputId": "bc738ac9-4b37-42c4-a98d-33ede7cde25f"
      },
      "source": [
        "# accuracy\n",
        "print(\"Accuracy Linear kernel with Markov Boosting : \", metrics.accuracy_score(y_true=Y_test, y_pred=y_pred), \"\\n\")\n",
        "print(metrics.confusion_matrix(y_true=Y_test, y_pred=y_pred))"
      ],
      "execution_count": null,
      "outputs": [
        {
          "output_type": "stream",
          "text": [
            "Accuracy Linear kernel with Markov Boosting :  0.9914346895074947 \n",
            "\n",
            "[[223   3]\n",
            " [  1 240]]\n"
          ],
          "name": "stdout"
        }
      ]
    }
  ]
}