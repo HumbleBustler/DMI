{
  "nbformat": 4,
  "nbformat_minor": 0,
  "metadata": {
    "kernelspec": {
      "display_name": "Python 3",
      "language": "python",
      "name": "python3"
    },
    "language_info": {
      "codemirror_mode": {
        "name": "ipython",
        "version": 3
      },
      "file_extension": ".py",
      "mimetype": "text/x-python",
      "name": "python",
      "nbconvert_exporter": "python",
      "pygments_lexer": "ipython3",
      "version": "3.6.4"
    },
    "colab": {
      "name": "CODRNA AdaXGBoostSVM.ipynb",
      "provenance": [],
      "collapsed_sections": []
    }
  },
  "cells": [
    {
      "cell_type": "code",
      "metadata": {
        "id": "gw1SdidJ4H4q"
      },
      "source": [
        "import pandas as pd\n",
        "import numpy as np\n",
        "from sklearn.svm import SVC\n",
        "from sklearn.model_selection import train_test_split\n",
        "from sklearn import metrics\n",
        "from sklearn.metrics import confusion_matrix\n",
        "from sklearn.model_selection import KFold\n",
        "from sklearn.model_selection import cross_val_score\n",
        "from sklearn.model_selection import GridSearchCV\n",
        "import matplotlib.pyplot as plt\n",
        "import seaborn as sns\n",
        "from sklearn.preprocessing import scale\n",
        "\n",
        "codrna = pd.read_csv(\"/content/codrna.csv\")"
      ],
      "execution_count": null,
      "outputs": []
    },
    {
      "cell_type": "code",
      "metadata": {
        "scrolled": true,
        "colab": {
          "base_uri": "https://localhost:8080/",
          "height": 483
        },
        "id": "KxS82uhy4H4u",
        "outputId": "9495d621-8de0-45b1-8ef5-773553964335"
      },
      "source": [
        "print(\"Dimensions: \", codrna.shape, \"\\n\")\n",
        "print(codrna.info())\n",
        "codrna.head()"
      ],
      "execution_count": null,
      "outputs": [
        {
          "output_type": "stream",
          "text": [
            "Dimensions:  (10000, 8) \n",
            "\n",
            "<class 'pandas.core.frame.DataFrame'>\n",
            "RangeIndex: 10000 entries, 0 to 9999\n",
            "Data columns (total 8 columns):\n",
            " #   Column  Non-Null Count  Dtype  \n",
            "---  ------  --------------  -----  \n",
            " 0   Y       10000 non-null  int64  \n",
            " 1   X1      10000 non-null  float64\n",
            " 2   X2      10000 non-null  float64\n",
            " 3   X3      10000 non-null  float64\n",
            " 4   X4      10000 non-null  float64\n",
            " 5   X5      10000 non-null  float64\n",
            " 6   X6      10000 non-null  float64\n",
            " 7   X7      10000 non-null  float64\n",
            "dtypes: float64(7), int64(1)\n",
            "memory usage: 625.1 KB\n",
            "None\n"
          ],
          "name": "stdout"
        },
        {
          "output_type": "execute_result",
          "data": {
            "text/html": [
              "<div>\n",
              "<style scoped>\n",
              "    .dataframe tbody tr th:only-of-type {\n",
              "        vertical-align: middle;\n",
              "    }\n",
              "\n",
              "    .dataframe tbody tr th {\n",
              "        vertical-align: top;\n",
              "    }\n",
              "\n",
              "    .dataframe thead th {\n",
              "        text-align: right;\n",
              "    }\n",
              "</style>\n",
              "<table border=\"1\" class=\"dataframe\">\n",
              "  <thead>\n",
              "    <tr style=\"text-align: right;\">\n",
              "      <th></th>\n",
              "      <th>Y</th>\n",
              "      <th>X1</th>\n",
              "      <th>X2</th>\n",
              "      <th>X3</th>\n",
              "      <th>X4</th>\n",
              "      <th>X5</th>\n",
              "      <th>X6</th>\n",
              "      <th>X7</th>\n",
              "    </tr>\n",
              "  </thead>\n",
              "  <tbody>\n",
              "    <tr>\n",
              "      <th>0</th>\n",
              "      <td>-1</td>\n",
              "      <td>-4.400806</td>\n",
              "      <td>6.497719</td>\n",
              "      <td>2.487098</td>\n",
              "      <td>6.342305</td>\n",
              "      <td>5.268171</td>\n",
              "      <td>2.817185</td>\n",
              "      <td>6.600208</td>\n",
              "    </tr>\n",
              "    <tr>\n",
              "      <th>1</th>\n",
              "      <td>-1</td>\n",
              "      <td>-4.170999</td>\n",
              "      <td>6.650009</td>\n",
              "      <td>2.295134</td>\n",
              "      <td>6.832640</td>\n",
              "      <td>5.147534</td>\n",
              "      <td>2.599744</td>\n",
              "      <td>7.110482</td>\n",
              "    </tr>\n",
              "    <tr>\n",
              "      <th>2</th>\n",
              "      <td>-1</td>\n",
              "      <td>-3.722875</td>\n",
              "      <td>6.243902</td>\n",
              "      <td>2.588192</td>\n",
              "      <td>6.938571</td>\n",
              "      <td>4.751345</td>\n",
              "      <td>2.931696</td>\n",
              "      <td>7.220721</td>\n",
              "    </tr>\n",
              "    <tr>\n",
              "      <th>3</th>\n",
              "      <td>-1</td>\n",
              "      <td>-4.389316</td>\n",
              "      <td>6.294665</td>\n",
              "      <td>2.424702</td>\n",
              "      <td>6.714761</td>\n",
              "      <td>5.256843</td>\n",
              "      <td>2.746508</td>\n",
              "      <td>6.987810</td>\n",
              "    </tr>\n",
              "    <tr>\n",
              "      <th>4</th>\n",
              "      <td>-1</td>\n",
              "      <td>-3.355184</td>\n",
              "      <td>6.599246</td>\n",
              "      <td>2.720926</td>\n",
              "      <td>8.166179</td>\n",
              "      <td>4.149689</td>\n",
              "      <td>3.082046</td>\n",
              "      <td>8.498249</td>\n",
              "    </tr>\n",
              "  </tbody>\n",
              "</table>\n",
              "</div>"
            ],
            "text/plain": [
              "   Y        X1        X2        X3        X4        X5        X6        X7\n",
              "0 -1 -4.400806  6.497719  2.487098  6.342305  5.268171  2.817185  6.600208\n",
              "1 -1 -4.170999  6.650009  2.295134  6.832640  5.147534  2.599744  7.110482\n",
              "2 -1 -3.722875  6.243902  2.588192  6.938571  4.751345  2.931696  7.220721\n",
              "3 -1 -4.389316  6.294665  2.424702  6.714761  5.256843  2.746508  6.987810\n",
              "4 -1 -3.355184  6.599246  2.720926  8.166179  4.149689  3.082046  8.498249"
            ]
          },
          "metadata": {
            "tags": []
          },
          "execution_count": 15
        }
      ]
    },
    {
      "cell_type": "code",
      "metadata": {
        "colab": {
          "base_uri": "https://localhost:8080/"
        },
        "id": "bpvX5UB_4H40",
        "outputId": "40f8959c-b800-4117-e9bb-efff66a3ff24"
      },
      "source": [
        "order = list(np.sort(codrna['Y'].unique()))\n",
        "print(order)"
      ],
      "execution_count": null,
      "outputs": [
        {
          "output_type": "stream",
          "text": [
            "[-1, 1]\n"
          ],
          "name": "stdout"
        }
      ]
    },
    {
      "cell_type": "code",
      "metadata": {
        "id": "61nf6tgl4H41",
        "colab": {
          "base_uri": "https://localhost:8080/",
          "height": 133
        },
        "outputId": "4a608be6-4869-4e43-d6d0-83aab03304db"
      },
      "source": [
        "letter_means = codrna.groupby('Y').mean()\n",
        "letter_means.head()"
      ],
      "execution_count": null,
      "outputs": [
        {
          "output_type": "execute_result",
          "data": {
            "text/html": [
              "<div>\n",
              "<style scoped>\n",
              "    .dataframe tbody tr th:only-of-type {\n",
              "        vertical-align: middle;\n",
              "    }\n",
              "\n",
              "    .dataframe tbody tr th {\n",
              "        vertical-align: top;\n",
              "    }\n",
              "\n",
              "    .dataframe thead th {\n",
              "        text-align: right;\n",
              "    }\n",
              "</style>\n",
              "<table border=\"1\" class=\"dataframe\">\n",
              "  <thead>\n",
              "    <tr style=\"text-align: right;\">\n",
              "      <th></th>\n",
              "      <th>X1</th>\n",
              "      <th>X2</th>\n",
              "      <th>X3</th>\n",
              "      <th>X4</th>\n",
              "      <th>X5</th>\n",
              "      <th>X6</th>\n",
              "      <th>X7</th>\n",
              "    </tr>\n",
              "    <tr>\n",
              "      <th>Y</th>\n",
              "      <th></th>\n",
              "      <th></th>\n",
              "      <th></th>\n",
              "      <th></th>\n",
              "      <th></th>\n",
              "      <th></th>\n",
              "      <th></th>\n",
              "    </tr>\n",
              "  </thead>\n",
              "  <tbody>\n",
              "    <tr>\n",
              "      <th>-1</th>\n",
              "      <td>-2.859452</td>\n",
              "      <td>5.550946</td>\n",
              "      <td>3.952890</td>\n",
              "      <td>4.555901</td>\n",
              "      <td>5.888012</td>\n",
              "      <td>4.484921</td>\n",
              "      <td>4.674731</td>\n",
              "    </tr>\n",
              "    <tr>\n",
              "      <th>1</th>\n",
              "      <td>-2.731633</td>\n",
              "      <td>3.964168</td>\n",
              "      <td>3.923074</td>\n",
              "      <td>4.769563</td>\n",
              "      <td>5.876570</td>\n",
              "      <td>4.567878</td>\n",
              "      <td>4.723979</td>\n",
              "    </tr>\n",
              "  </tbody>\n",
              "</table>\n",
              "</div>"
            ],
            "text/plain": [
              "          X1        X2        X3        X4        X5        X6        X7\n",
              "Y                                                                       \n",
              "-1 -2.859452  5.550946  3.952890  4.555901  5.888012  4.484921  4.674731\n",
              " 1 -2.731633  3.964168  3.923074  4.769563  5.876570  4.567878  4.723979"
            ]
          },
          "metadata": {
            "tags": []
          },
          "execution_count": 17
        }
      ]
    },
    {
      "cell_type": "code",
      "metadata": {
        "colab": {
          "base_uri": "https://localhost:8080/"
        },
        "id": "__mRCQrz4H43",
        "outputId": "2e6f8c03-9daf-4119-95fd-fd9c053fd9c9"
      },
      "source": [
        "round(codrna.drop('Y', axis=1).mean(), 2)"
      ],
      "execution_count": null,
      "outputs": [
        {
          "output_type": "execute_result",
          "data": {
            "text/plain": [
              "X1   -2.79\n",
              "X2    4.63\n",
              "X3    3.94\n",
              "X4    4.68\n",
              "X5    5.88\n",
              "X6    4.53\n",
              "X7    4.70\n",
              "dtype: float64"
            ]
          },
          "metadata": {
            "tags": []
          },
          "execution_count": 18
        }
      ]
    },
    {
      "cell_type": "code",
      "metadata": {
        "id": "Ch5yyqph4H45"
      },
      "source": [
        "X = codrna.drop(\"Y\", axis = 1)\n",
        "y = codrna['Y']"
      ],
      "execution_count": null,
      "outputs": []
    },
    {
      "cell_type": "code",
      "metadata": {
        "id": "uAyFsxxO4H45"
      },
      "source": [
        "X_scaled = scale(X, with_mean=False)\n",
        "X_train, X_test, y_train, y_test = train_test_split(X_scaled, y, test_size = 0.3, random_state = 101)"
      ],
      "execution_count": null,
      "outputs": []
    },
    {
      "cell_type": "code",
      "metadata": {
        "colab": {
          "base_uri": "https://localhost:8080/"
        },
        "id": "4S8iYAu_9QeL",
        "outputId": "700f0f22-1f80-4537-ba61-2030c48276a1"
      },
      "source": [
        "import random\n",
        "print(\"Number of training samples = \", len(X_train))\n",
        "print(\"Number of testing samples = \", len(X_test))"
      ],
      "execution_count": null,
      "outputs": [
        {
          "output_type": "stream",
          "text": [
            "Number of training samples =  7000\n",
            "Number of testing samples =  3000\n"
          ],
          "name": "stdout"
        }
      ]
    },
    {
      "cell_type": "code",
      "metadata": {
        "id": "Byr6aKkDyirp"
      },
      "source": [
        "# AdaBoost SVM model\n",
        "from sklearn.svm import SVC\n",
        "from sklearn.ensemble import AdaBoostClassifier\n",
        "\n",
        "model_linear = AdaBoostClassifier(SVC(probability=True, kernel='linear'), n_estimators=10,  learning_rate=1.0, algorithm='SAMME.R')\n",
        "model_linear.fit(X_train, y_train)\n",
        "y_pred = model_linear.predict(X_test)"
      ],
      "execution_count": null,
      "outputs": []
    },
    {
      "cell_type": "code",
      "metadata": {
        "colab": {
          "base_uri": "https://localhost:8080/"
        },
        "id": "ipIZlDJ8yir2",
        "outputId": "10b9a282-09bf-441c-e907-83780f60911b"
      },
      "source": [
        "print(\"Accuracy linear kernel with Ada Boost Classifier : \", metrics.accuracy_score(y_true=y_test, y_pred=y_pred), \"\\n\")\n",
        "print(metrics.confusion_matrix(y_true=y_test, y_pred=y_pred))"
      ],
      "execution_count": null,
      "outputs": [
        {
          "output_type": "stream",
          "text": [
            "Accuracy linear kernel with Ada Boost Classifier :  0.7643333333333333 \n",
            "\n",
            "[[ 658  598]\n",
            " [ 109 1635]]\n"
          ],
          "name": "stdout"
        }
      ]
    },
    {
      "cell_type": "code",
      "metadata": {
        "id": "SKg3pyXEOGch"
      },
      "source": [
        "# XGBoost SVM model                                                                                                                                                                     AS\n",
        "import xgboost as xgb\n",
        "\n",
        "xgb_model = xgb.XGBClassifier(objective=\"binary:logistic\", random_state=69)\n",
        "xgb_model.fit(X_train, y_train)\n",
        "y_pred = xgb_model.predict(X_test)"
      ],
      "execution_count": null,
      "outputs": []
    },
    {
      "cell_type": "code",
      "metadata": {
        "colab": {
          "base_uri": "https://localhost:8080/"
        },
        "id": "jK6UrbkrOGci",
        "outputId": "cae9d37b-fbec-4e2a-872f-4abccc7fc26a"
      },
      "source": [
        "print(\"Accuracy linear kernel with XG Boost Classifier : \", metrics.accuracy_score(y_true=y_test, y_pred=y_pred), \"\\n\")\n",
        "print(metrics.confusion_matrix(y_true=y_test, y_pred=y_pred))"
      ],
      "execution_count": null,
      "outputs": [
        {
          "output_type": "stream",
          "text": [
            "Accuracy linear kernel with XG Boost Classifier :  0.9246666666666666 \n",
            "\n",
            "[[1121  135]\n",
            " [  91 1653]]\n"
          ],
          "name": "stdout"
        }
      ]
    }
  ]
}