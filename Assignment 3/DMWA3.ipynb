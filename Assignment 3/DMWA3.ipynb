{
  "nbformat": 4,
  "nbformat_minor": 0,
  "metadata": {
    "kernelspec": {
      "display_name": "Python 3",
      "language": "python",
      "name": "python3"
    },
    "language_info": {
      "codemirror_mode": {
        "name": "ipython",
        "version": 3
      },
      "file_extension": ".py",
      "mimetype": "text/x-python",
      "name": "python",
      "nbconvert_exporter": "python",
      "pygments_lexer": "ipython3",
      "version": "3.6.4"
    },
    "colab": {
      "name": "DMWA3.ipynb",
      "provenance": [],
      "collapsed_sections": []
    }
  },
  "cells": [
    {
      "cell_type": "code",
      "metadata": {
        "id": "gw1SdidJ4H4q"
      },
      "source": [
        "# libraries\n",
        "import pandas as pd\n",
        "import numpy as np\n",
        "from sklearn.svm import SVC\n",
        "from sklearn.model_selection import train_test_split\n",
        "from sklearn import metrics\n",
        "from sklearn.metrics import confusion_matrix\n",
        "from sklearn.model_selection import KFold\n",
        "from sklearn.model_selection import cross_val_score\n",
        "from sklearn.model_selection import GridSearchCV\n",
        "import matplotlib.pyplot as plt\n",
        "import seaborn as sns\n",
        "from sklearn.preprocessing import scale\n",
        "\n",
        "letters = pd.read_csv(\"letter-recognition.csv\")"
      ],
      "execution_count": 43,
      "outputs": []
    },
    {
      "cell_type": "code",
      "metadata": {
        "scrolled": true,
        "colab": {
          "base_uri": "https://localhost:8080/",
          "height": 630
        },
        "id": "KxS82uhy4H4u",
        "outputId": "ad8fbe74-2442-4ea4-b195-7d95ba13115f"
      },
      "source": [
        "print(\"Dimensions: \", letters.shape, \"\\n\")\n",
        "print(letters.info())\n",
        "letters.head()"
      ],
      "execution_count": 44,
      "outputs": [
        {
          "output_type": "stream",
          "text": [
            "Dimensions:  (20000, 17) \n",
            "\n",
            "<class 'pandas.core.frame.DataFrame'>\n",
            "RangeIndex: 20000 entries, 0 to 19999\n",
            "Data columns (total 17 columns):\n",
            " #   Column  Non-Null Count  Dtype \n",
            "---  ------  --------------  ----- \n",
            " 0   letter  20000 non-null  object\n",
            " 1   xbox    20000 non-null  int64 \n",
            " 2   ybox    20000 non-null  int64 \n",
            " 3   width   20000 non-null  int64 \n",
            " 4   height  20000 non-null  int64 \n",
            " 5   onpix   20000 non-null  int64 \n",
            " 6   xbar    20000 non-null  int64 \n",
            " 7   ybar    20000 non-null  int64 \n",
            " 8   x2bar   20000 non-null  int64 \n",
            " 9   y2bar   20000 non-null  int64 \n",
            " 10  xybar   20000 non-null  int64 \n",
            " 11  x2ybar  20000 non-null  int64 \n",
            " 12  xy2bar  20000 non-null  int64 \n",
            " 13  xedge   20000 non-null  int64 \n",
            " 14  xedgey  20000 non-null  int64 \n",
            " 15  yedge   20000 non-null  int64 \n",
            " 16  yedgex  20000 non-null  int64 \n",
            "dtypes: int64(16), object(1)\n",
            "memory usage: 2.6+ MB\n",
            "None\n"
          ],
          "name": "stdout"
        },
        {
          "output_type": "execute_result",
          "data": {
            "text/html": [
              "<div>\n",
              "<style scoped>\n",
              "    .dataframe tbody tr th:only-of-type {\n",
              "        vertical-align: middle;\n",
              "    }\n",
              "\n",
              "    .dataframe tbody tr th {\n",
              "        vertical-align: top;\n",
              "    }\n",
              "\n",
              "    .dataframe thead th {\n",
              "        text-align: right;\n",
              "    }\n",
              "</style>\n",
              "<table border=\"1\" class=\"dataframe\">\n",
              "  <thead>\n",
              "    <tr style=\"text-align: right;\">\n",
              "      <th></th>\n",
              "      <th>letter</th>\n",
              "      <th>xbox</th>\n",
              "      <th>ybox</th>\n",
              "      <th>width</th>\n",
              "      <th>height</th>\n",
              "      <th>onpix</th>\n",
              "      <th>xbar</th>\n",
              "      <th>ybar</th>\n",
              "      <th>x2bar</th>\n",
              "      <th>y2bar</th>\n",
              "      <th>xybar</th>\n",
              "      <th>x2ybar</th>\n",
              "      <th>xy2bar</th>\n",
              "      <th>xedge</th>\n",
              "      <th>xedgey</th>\n",
              "      <th>yedge</th>\n",
              "      <th>yedgex</th>\n",
              "    </tr>\n",
              "  </thead>\n",
              "  <tbody>\n",
              "    <tr>\n",
              "      <th>0</th>\n",
              "      <td>T</td>\n",
              "      <td>2</td>\n",
              "      <td>8</td>\n",
              "      <td>3</td>\n",
              "      <td>5</td>\n",
              "      <td>1</td>\n",
              "      <td>8</td>\n",
              "      <td>13</td>\n",
              "      <td>0</td>\n",
              "      <td>6</td>\n",
              "      <td>6</td>\n",
              "      <td>10</td>\n",
              "      <td>8</td>\n",
              "      <td>0</td>\n",
              "      <td>8</td>\n",
              "      <td>0</td>\n",
              "      <td>8</td>\n",
              "    </tr>\n",
              "    <tr>\n",
              "      <th>1</th>\n",
              "      <td>I</td>\n",
              "      <td>5</td>\n",
              "      <td>12</td>\n",
              "      <td>3</td>\n",
              "      <td>7</td>\n",
              "      <td>2</td>\n",
              "      <td>10</td>\n",
              "      <td>5</td>\n",
              "      <td>5</td>\n",
              "      <td>4</td>\n",
              "      <td>13</td>\n",
              "      <td>3</td>\n",
              "      <td>9</td>\n",
              "      <td>2</td>\n",
              "      <td>8</td>\n",
              "      <td>4</td>\n",
              "      <td>10</td>\n",
              "    </tr>\n",
              "    <tr>\n",
              "      <th>2</th>\n",
              "      <td>D</td>\n",
              "      <td>4</td>\n",
              "      <td>11</td>\n",
              "      <td>6</td>\n",
              "      <td>8</td>\n",
              "      <td>6</td>\n",
              "      <td>10</td>\n",
              "      <td>6</td>\n",
              "      <td>2</td>\n",
              "      <td>6</td>\n",
              "      <td>10</td>\n",
              "      <td>3</td>\n",
              "      <td>7</td>\n",
              "      <td>3</td>\n",
              "      <td>7</td>\n",
              "      <td>3</td>\n",
              "      <td>9</td>\n",
              "    </tr>\n",
              "    <tr>\n",
              "      <th>3</th>\n",
              "      <td>N</td>\n",
              "      <td>7</td>\n",
              "      <td>11</td>\n",
              "      <td>6</td>\n",
              "      <td>6</td>\n",
              "      <td>3</td>\n",
              "      <td>5</td>\n",
              "      <td>9</td>\n",
              "      <td>4</td>\n",
              "      <td>6</td>\n",
              "      <td>4</td>\n",
              "      <td>4</td>\n",
              "      <td>10</td>\n",
              "      <td>6</td>\n",
              "      <td>10</td>\n",
              "      <td>2</td>\n",
              "      <td>8</td>\n",
              "    </tr>\n",
              "    <tr>\n",
              "      <th>4</th>\n",
              "      <td>G</td>\n",
              "      <td>2</td>\n",
              "      <td>1</td>\n",
              "      <td>3</td>\n",
              "      <td>1</td>\n",
              "      <td>1</td>\n",
              "      <td>8</td>\n",
              "      <td>6</td>\n",
              "      <td>6</td>\n",
              "      <td>6</td>\n",
              "      <td>6</td>\n",
              "      <td>5</td>\n",
              "      <td>9</td>\n",
              "      <td>1</td>\n",
              "      <td>7</td>\n",
              "      <td>5</td>\n",
              "      <td>10</td>\n",
              "    </tr>\n",
              "  </tbody>\n",
              "</table>\n",
              "</div>"
            ],
            "text/plain": [
              "  letter  xbox   ybox   width   height  ...  xy2bar  xedge   xedgey  yedge   yedgex\n",
              "0      T      2      8       3       5  ...       8       0       8       0       8\n",
              "1      I      5     12       3       7  ...       9       2       8       4      10\n",
              "2      D      4     11       6       8  ...       7       3       7       3       9\n",
              "3      N      7     11       6       6  ...      10       6      10       2       8\n",
              "4      G      2      1       3       1  ...       9       1       7       5      10\n",
              "\n",
              "[5 rows x 17 columns]"
            ]
          },
          "metadata": {
            "tags": []
          },
          "execution_count": 44
        }
      ]
    },
    {
      "cell_type": "code",
      "metadata": {
        "colab": {
          "base_uri": "https://localhost:8080/"
        },
        "id": "I05lF3fO4H4z",
        "outputId": "8091a485-5282-4d19-bcd1-795f052e10a8"
      },
      "source": [
        "letters.columns = ['letter', 'xbox', 'ybox', 'width', 'height', 'onpix', 'xbar', 'ybar', 'x2bar', 'y2bar', 'xybar', 'x2ybar', 'xy2bar', 'xedge', 'xedgey', 'yedge', 'yedgex']\n",
        "print(letters.columns)"
      ],
      "execution_count": 45,
      "outputs": [
        {
          "output_type": "stream",
          "text": [
            "Index(['letter', 'xbox', 'ybox', 'width', 'height', 'onpix', 'xbar', 'ybar',\n",
            "       'x2bar', 'y2bar', 'xybar', 'x2ybar', 'xy2bar', 'xedge', 'xedgey',\n",
            "       'yedge', 'yedgex'],\n",
            "      dtype='object')\n"
          ],
          "name": "stdout"
        }
      ]
    },
    {
      "cell_type": "code",
      "metadata": {
        "colab": {
          "base_uri": "https://localhost:8080/"
        },
        "id": "bpvX5UB_4H40",
        "outputId": "7ce2e557-d06e-45d6-e295-efecdc518379"
      },
      "source": [
        "order = list(np.sort(letters['letter'].unique()))\n",
        "print(order)"
      ],
      "execution_count": 46,
      "outputs": [
        {
          "output_type": "stream",
          "text": [
            "['A', 'B', 'C', 'D', 'E', 'F', 'G', 'H', 'I', 'J', 'K', 'L', 'M', 'N', 'O', 'P', 'Q', 'R', 'S', 'T', 'U', 'V', 'W', 'X', 'Y', 'Z']\n"
          ],
          "name": "stdout"
        }
      ]
    },
    {
      "cell_type": "code",
      "metadata": {
        "colab": {
          "base_uri": "https://localhost:8080/",
          "height": 220
        },
        "id": "61nf6tgl4H41",
        "outputId": "e81cba45-6861-4645-bdda-4a752cf2d7a3"
      },
      "source": [
        "letter_means = letters.groupby('letter').mean()\n",
        "letter_means.head()"
      ],
      "execution_count": 47,
      "outputs": [
        {
          "output_type": "execute_result",
          "data": {
            "text/html": [
              "<div>\n",
              "<style scoped>\n",
              "    .dataframe tbody tr th:only-of-type {\n",
              "        vertical-align: middle;\n",
              "    }\n",
              "\n",
              "    .dataframe tbody tr th {\n",
              "        vertical-align: top;\n",
              "    }\n",
              "\n",
              "    .dataframe thead th {\n",
              "        text-align: right;\n",
              "    }\n",
              "</style>\n",
              "<table border=\"1\" class=\"dataframe\">\n",
              "  <thead>\n",
              "    <tr style=\"text-align: right;\">\n",
              "      <th></th>\n",
              "      <th>xbox</th>\n",
              "      <th>ybox</th>\n",
              "      <th>width</th>\n",
              "      <th>height</th>\n",
              "      <th>onpix</th>\n",
              "      <th>xbar</th>\n",
              "      <th>ybar</th>\n",
              "      <th>x2bar</th>\n",
              "      <th>y2bar</th>\n",
              "      <th>xybar</th>\n",
              "      <th>x2ybar</th>\n",
              "      <th>xy2bar</th>\n",
              "      <th>xedge</th>\n",
              "      <th>xedgey</th>\n",
              "      <th>yedge</th>\n",
              "      <th>yedgex</th>\n",
              "    </tr>\n",
              "    <tr>\n",
              "      <th>letter</th>\n",
              "      <th></th>\n",
              "      <th></th>\n",
              "      <th></th>\n",
              "      <th></th>\n",
              "      <th></th>\n",
              "      <th></th>\n",
              "      <th></th>\n",
              "      <th></th>\n",
              "      <th></th>\n",
              "      <th></th>\n",
              "      <th></th>\n",
              "      <th></th>\n",
              "      <th></th>\n",
              "      <th></th>\n",
              "      <th></th>\n",
              "      <th></th>\n",
              "    </tr>\n",
              "  </thead>\n",
              "  <tbody>\n",
              "    <tr>\n",
              "      <th>A</th>\n",
              "      <td>3.337136</td>\n",
              "      <td>6.975919</td>\n",
              "      <td>5.128010</td>\n",
              "      <td>5.178707</td>\n",
              "      <td>2.991128</td>\n",
              "      <td>8.851711</td>\n",
              "      <td>3.631179</td>\n",
              "      <td>2.755387</td>\n",
              "      <td>2.043093</td>\n",
              "      <td>7.802281</td>\n",
              "      <td>2.338403</td>\n",
              "      <td>8.465146</td>\n",
              "      <td>2.771863</td>\n",
              "      <td>6.321926</td>\n",
              "      <td>2.875792</td>\n",
              "      <td>7.468948</td>\n",
              "    </tr>\n",
              "    <tr>\n",
              "      <th>B</th>\n",
              "      <td>3.985640</td>\n",
              "      <td>6.962141</td>\n",
              "      <td>5.088773</td>\n",
              "      <td>5.169713</td>\n",
              "      <td>4.596606</td>\n",
              "      <td>7.671018</td>\n",
              "      <td>7.062663</td>\n",
              "      <td>5.366841</td>\n",
              "      <td>5.571802</td>\n",
              "      <td>7.954308</td>\n",
              "      <td>5.506527</td>\n",
              "      <td>6.652742</td>\n",
              "      <td>3.117493</td>\n",
              "      <td>7.919060</td>\n",
              "      <td>6.612272</td>\n",
              "      <td>9.100522</td>\n",
              "    </tr>\n",
              "    <tr>\n",
              "      <th>C</th>\n",
              "      <td>4.031250</td>\n",
              "      <td>7.063859</td>\n",
              "      <td>4.701087</td>\n",
              "      <td>5.296196</td>\n",
              "      <td>2.775815</td>\n",
              "      <td>5.437500</td>\n",
              "      <td>7.627717</td>\n",
              "      <td>5.927989</td>\n",
              "      <td>7.177989</td>\n",
              "      <td>8.773098</td>\n",
              "      <td>7.494565</td>\n",
              "      <td>11.947011</td>\n",
              "      <td>1.991848</td>\n",
              "      <td>8.876359</td>\n",
              "      <td>4.080163</td>\n",
              "      <td>8.555707</td>\n",
              "    </tr>\n",
              "    <tr>\n",
              "      <th>D</th>\n",
              "      <td>4.023602</td>\n",
              "      <td>7.244720</td>\n",
              "      <td>5.170186</td>\n",
              "      <td>5.288199</td>\n",
              "      <td>4.026087</td>\n",
              "      <td>7.539130</td>\n",
              "      <td>6.806211</td>\n",
              "      <td>5.921739</td>\n",
              "      <td>6.508075</td>\n",
              "      <td>8.166460</td>\n",
              "      <td>5.111801</td>\n",
              "      <td>5.750311</td>\n",
              "      <td>3.365217</td>\n",
              "      <td>7.813665</td>\n",
              "      <td>3.971429</td>\n",
              "      <td>7.628571</td>\n",
              "    </tr>\n",
              "    <tr>\n",
              "      <th>E</th>\n",
              "      <td>3.727865</td>\n",
              "      <td>6.944010</td>\n",
              "      <td>4.756510</td>\n",
              "      <td>5.201823</td>\n",
              "      <td>3.679688</td>\n",
              "      <td>5.966146</td>\n",
              "      <td>7.352865</td>\n",
              "      <td>4.223958</td>\n",
              "      <td>7.585938</td>\n",
              "      <td>8.507812</td>\n",
              "      <td>6.242188</td>\n",
              "      <td>10.341146</td>\n",
              "      <td>2.127604</td>\n",
              "      <td>8.298177</td>\n",
              "      <td>6.022135</td>\n",
              "      <td>8.506510</td>\n",
              "    </tr>\n",
              "  </tbody>\n",
              "</table>\n",
              "</div>"
            ],
            "text/plain": [
              "            xbox      ybox     width  ...    xedgey     yedge    yedgex\n",
              "letter                                ...                              \n",
              "A       3.337136  6.975919  5.128010  ...  6.321926  2.875792  7.468948\n",
              "B       3.985640  6.962141  5.088773  ...  7.919060  6.612272  9.100522\n",
              "C       4.031250  7.063859  4.701087  ...  8.876359  4.080163  8.555707\n",
              "D       4.023602  7.244720  5.170186  ...  7.813665  3.971429  7.628571\n",
              "E       3.727865  6.944010  4.756510  ...  8.298177  6.022135  8.506510\n",
              "\n",
              "[5 rows x 16 columns]"
            ]
          },
          "metadata": {
            "tags": []
          },
          "execution_count": 47
        }
      ]
    },
    {
      "cell_type": "code",
      "metadata": {
        "colab": {
          "base_uri": "https://localhost:8080/"
        },
        "id": "__mRCQrz4H43",
        "outputId": "7e891ff5-d756-44f8-e9b6-79011b8ef28f"
      },
      "source": [
        "round(letters.drop('letter', axis=1).mean(), 2)"
      ],
      "execution_count": 48,
      "outputs": [
        {
          "output_type": "execute_result",
          "data": {
            "text/plain": [
              "xbox      4.02\n",
              "ybox      7.04\n",
              "width     5.12\n",
              "height    5.37\n",
              "onpix     3.51\n",
              "xbar      6.90\n",
              "ybar      7.50\n",
              "x2bar     4.63\n",
              "y2bar     5.18\n",
              "xybar     8.28\n",
              "x2ybar    6.45\n",
              "xy2bar    7.93\n",
              "xedge     3.05\n",
              "xedgey    8.34\n",
              "yedge     3.69\n",
              "yedgex    7.80\n",
              "dtype: float64"
            ]
          },
          "metadata": {
            "tags": []
          },
          "execution_count": 48
        }
      ]
    },
    {
      "cell_type": "code",
      "metadata": {
        "id": "Ch5yyqph4H45"
      },
      "source": [
        "X = letters.drop(\"letter\", axis = 1)\n",
        "y = letters['letter']"
      ],
      "execution_count": 49,
      "outputs": []
    },
    {
      "cell_type": "code",
      "metadata": {
        "id": "uAyFsxxO4H45"
      },
      "source": [
        "X_scaled = scale(X)\n",
        "X_train, X_test, y_train, y_test = train_test_split(X_scaled, y, test_size = 0.3, random_state = 101)"
      ],
      "execution_count": 50,
      "outputs": []
    },
    {
      "cell_type": "code",
      "metadata": {
        "colab": {
          "base_uri": "https://localhost:8080/"
        },
        "id": "Q17Qt_ZLy9HB",
        "outputId": "f47d38c0-d35e-402c-f8da-6e191bc170d5"
      },
      "source": [
        "print(y_train)"
      ],
      "execution_count": 51,
      "outputs": [
        {
          "output_type": "stream",
          "text": [
            "10593    H\n",
            "18903    N\n",
            "6491     X\n",
            "17136    V\n",
            "19651    Z\n",
            "        ..\n",
            "5695     K\n",
            "8006     P\n",
            "17745    P\n",
            "17931    U\n",
            "13151    M\n",
            "Name: letter, Length: 14000, dtype: object\n"
          ],
          "name": "stdout"
        }
      ]
    },
    {
      "cell_type": "code",
      "metadata": {
        "colab": {
          "base_uri": "https://localhost:8080/"
        },
        "id": "4S8iYAu_9QeL",
        "outputId": "de40c183-b556-4b07-ab03-cd03d8ec2bc4"
      },
      "source": [
        "import random\r\n",
        "print(type(X_train))\r\n",
        "print((y_train.to_numpy()))"
      ],
      "execution_count": 52,
      "outputs": [
        {
          "output_type": "stream",
          "text": [
            "<class 'numpy.ndarray'>\n",
            "['H' 'N' 'X' ... 'P' 'U' 'M']\n"
          ],
          "name": "stdout"
        }
      ]
    },
    {
      "cell_type": "code",
      "metadata": {
        "id": "7_LLXzdVvaGq"
      },
      "source": [
        "import math\r\n",
        "def markov_samp(X_train, Y_train, k = 5, q = 1.2):\r\n",
        "\r\n",
        "    # Init_sampl = np.concatenate((X_train, np.array()), axis = 0)\r\n",
        "    Init_sampl = np.concatenate((np.vstack(X_train), np.vstack(Y_train.to_numpy())), axis = 1)\r\n",
        "    Dtr = random.sample(list(Init_sampl), 8000)\r\n",
        "\r\n",
        "    m = len(Dtr)\r\n",
        "    print(\"M : \" , m)\r\n",
        "    # mplus =np.count_nonzero(np.array(Dtr[16]) == 'A')\r\n",
        "    # mplus = Dtr[16].count('A')\r\n",
        "    mneg = 0\r\n",
        "    mplus = 0\r\n",
        "\r\n",
        "    index = np.random.choice(len(Dtr), 1, replace=False)  \r\n",
        "    Dtra = np.array(Dtr)\r\n",
        "    print(type(Dtra))\r\n",
        "    zt = Dtra[index][0]\r\n",
        "\r\n",
        "    print(\"zt : \", zt)\r\n",
        "    if m%2 == 0:\r\n",
        "        if zt[16] == 'A':\r\n",
        "            mplus += 1;\r\n",
        "        else:\r\n",
        "            mneg += 1\r\n",
        "    samp = []\r\n",
        "\r\n",
        "    model_linear = SVC(kernel='linear')#\r\n",
        "    model_linear.fit(X_train, Y_train)#\r\n",
        "    \r\n",
        "    yzt = model_linear.predict(np.array(zt)[0:16].reshape(1, -1))\r\n",
        "    fxy1 = 1\r\n",
        "    if not yzt==zt[16]:\r\n",
        "        fxy1 = 2 \r\n",
        "    lzt = math.exp(0-fxy1)\r\n",
        "\r\n",
        "    Pd = 0\r\n",
        "    Pdd = 0\r\n",
        "    \r\n",
        "    while(mplus + mneg < m ):\r\n",
        "        zstar = Dtra[np.random.choice(len(Dtr), 1, replace=False)][0]\r\n",
        "        ystar = model_linear.predict(np.array(zstar)[ 0:16].reshape(1, -1)) #\r\n",
        "        fxy = 1\r\n",
        "        if not ystar==zstar[16]:\r\n",
        "            fxy = 2 \r\n",
        "        lzstar = math.exp(0-fxy)\r\n",
        "        P = math.exp(lzt-lzstar)\r\n",
        "        # print(zt)\r\n",
        "        yt = zt[16]\r\n",
        "        zt = zstar\r\n",
        "\r\n",
        "        if P == 1:\r\n",
        "            if zt[16] == yt:\r\n",
        "                r = random.uniform(0.001, 1.0)\r\n",
        "                if r <= P:\r\n",
        "                    samp.append(zstar) #Pdash = e−y∗f0 /e−ytf0\r\n",
        "            else:\r\n",
        "                ct = 1 if yt=='A' else -1\r\n",
        "                cst = 1 if ystar=='A' else -1\r\n",
        "                Pd = math.exp(ct*fxy1-cst*fxy)\r\n",
        "                r = random.uniform(0.001, 1.0)\r\n",
        "                if r <= Pd:\r\n",
        "                    samp.append(zstar) #P\r\n",
        "\r\n",
        "        if len(samp) == k:\r\n",
        "            Pdd = q*P\r\n",
        "            samp.append(zstar) #Pdd\r\n",
        "            \r\n",
        "        ztp1 = zstar\r\n",
        "        if yt == 'A':\r\n",
        "            mplus += 1\r\n",
        "        else:\r\n",
        "            mneg += 1\r\n",
        "\r\n",
        "        if P > 1 or Pd > 1 or Pdd > 1:\r\n",
        "            samp.append(zstar)\r\n",
        "    return samp\r\n"
      ],
      "execution_count": 53,
      "outputs": []
    },
    {
      "cell_type": "code",
      "metadata": {
        "colab": {
          "base_uri": "https://localhost:8080/"
        },
        "id": "q9xnR2e6S6R8",
        "outputId": "e64c592e-b2b7-455e-b32e-a60a30d414c2"
      },
      "source": [
        "nsamp = np.array(markov_samp(X_train, y_train))\r\n",
        "print(nsamp.shape)\r\n",
        "X_train = nsamp[:, 0:16]\r\n",
        "y_train = nsamp[:, 16]\r\n",
        "print(X_train.shape)\r\n",
        "print(y_train.shape)"
      ],
      "execution_count": 54,
      "outputs": [
        {
          "output_type": "stream",
          "text": [
            "M :  8000\n",
            "<class 'numpy.ndarray'>\n",
            "zt :  ['-1.0576982957256178' '-0.91860344630199' '-0.556881230443966'\n",
            " '-1.0491374149880448' '-0.6874761975053775' '0.5441304509324318'\n",
            " '-0.21521994542421233' '-0.23282340548628083' '0.34499438865456755'\n",
            " '0.6903798536167043' '-0.5526406630296021' '-0.9271511127708227'\n",
            " '-0.4484921035696958' '-0.21908162939303566' '-0.26947711190847695'\n",
            " '0.12291106712560491' 'D']\n",
            "(14656, 17)\n",
            "(14656, 16)\n",
            "(14656,)\n"
          ],
          "name": "stdout"
        }
      ]
    },
    {
      "cell_type": "code",
      "metadata": {
        "id": "Czgzdz3sWUFN"
      },
      "source": [
        "# print(y_train)\r\n",
        "Y_train = []\r\n",
        "for i in y_train:\r\n",
        "    # print(i)\r\n",
        "    Y_train.append(ord(i))\r\n",
        "# print(Y_train)"
      ],
      "execution_count": 55,
      "outputs": []
    },
    {
      "cell_type": "code",
      "metadata": {
        "colab": {
          "base_uri": "https://localhost:8080/"
        },
        "id": "TWGtELnRR6b2",
        "outputId": "cc6318c2-7810-4616-f7c9-004793190cf8"
      },
      "source": [
        "print(X_test.shape)"
      ],
      "execution_count": 56,
      "outputs": [
        {
          "output_type": "stream",
          "text": [
            "(6000, 16)\n"
          ],
          "name": "stdout"
        }
      ]
    },
    {
      "cell_type": "code",
      "metadata": {
        "id": "ZGqTVqGr4H46"
      },
      "source": [
        "# linear model\n",
        "\n",
        "model_linear = SVC(kernel='linear')\n",
        "model_linear.fit(X_train, Y_train)\n",
        "\n",
        "# predict\n",
        "y_pred = model_linear.predict(X_test)\n"
      ],
      "execution_count": 57,
      "outputs": []
    },
    {
      "cell_type": "code",
      "metadata": {
        "id": "MXAxhg-sScBh"
      },
      "source": [
        "# print(y_pred)\r\n",
        "Y_test = []\r\n",
        "for i in y_test:\r\n",
        "    Y_test.append(ord(i))\r\n",
        "# print(Y_test)"
      ],
      "execution_count": 58,
      "outputs": []
    },
    {
      "cell_type": "code",
      "metadata": {
        "colab": {
          "base_uri": "https://localhost:8080/"
        },
        "id": "s12I7fMO4H46",
        "outputId": "2f552959-78cf-488c-d89a-9e4023c1829e"
      },
      "source": [
        "# accuracy\n",
        "print(\"Accuracy linear kernel :\", metrics.accuracy_score(y_true=Y_test, y_pred=y_pred), \"\\n\")\n",
        "print(metrics.confusion_matrix(y_true=Y_test, y_pred=y_pred))"
      ],
      "execution_count": 59,
      "outputs": [
        {
          "output_type": "stream",
          "text": [
            "Accuracy linear kernel : 0.8383333333333334 \n",
            "\n",
            "[[197   0   0   0   0   0   0   0   0   1   1   1   0   0   1   0   0   2\n",
            "    0   2   1   0   0   0   3   0]\n",
            " [  0 185   0   4   0   1   4   0   0   0   0   1   0   1   0   0   0  18\n",
            "    2   0   0   1   0   1   0   0]\n",
            " [  5   0 188   0  13   0  10   3   0   0   5   1   0   0   3   0   0   0\n",
            "    0   0   2   0   0   0   0   0]\n",
            " [  1  12   0 209   0   0   2   1   0   2   1   0   0   5   3   0   2   7\n",
            "    0   1   2   0   0   0   0   0]\n",
            " [  0   0   3   0 200   1  12   0   0   0   1   6   0   0   0   0   0   1\n",
            "    0   4   0   0   0   2   0   4]\n",
            " [  0   3   0   2   0 193   1   1   2   0   0   0   0   2   0   6   0   0\n",
            "    4   5   1   0   1   0   4   0]\n",
            " [  0   0  13   5   8   2 168   0   0   0   4   2   1   0   3   0   7   0\n",
            "    4   0   0   1   1   0   0   0]\n",
            " [  0   4   1   8   0   2   4 143   0   0   6   1   1   1   8   0   6  18\n",
            "    0   2   6   5   0   0   1   0]\n",
            " [  0   0   1   3   0   8   1   0 180   5   0   1   0   0   1   0   1   0\n",
            "    8   0   0   0   0   3   0   3]\n",
            " [  1   0   0   4   0   1   0   0   7 193   0   0   0   1   2   0   0   1\n",
            "    4   0   0   0   0   1   0   5]\n",
            " [  0   0   5   4   0   0   4   4   0   0 191   3   0   0   0   0   1  22\n",
            "    0   0   1   0   0  10   0   0]\n",
            " [  1   1   3   2  10   0   7   0   0   0   3 205   0   0   0   0   2   0\n",
            "    0   2   0   0   0   1   0   0]\n",
            " [  0   3   0   0   0   0   0   3   0   0   0   0 220   1   0   0   0   3\n",
            "    0   0   0   0   4   0   0   0]\n",
            " [  1   0   1   4   0   0   0   9   0   0   0   0   2 225   2   1   0   3\n",
            "    0   0   0   1   1   0   1   0]\n",
            " [  2   0   6   9   0   0   2  19   0   1   0   0   3   0 161   1   3   5\n",
            "    0   0   1   0   8   0   0   0]\n",
            " [  0   2   0   2   2  21   5   0   1   0   3   0   0   1   1 212   1   0\n",
            "    0   0   0   1   2   0  11   0]\n",
            " [  2   0   0   0   5   0  11   0   0   1   0   2   0   0   5   1 196   0\n",
            "    7   0   0   0   3   0   0   2]\n",
            " [  2   8   0   2   0   0   7   4   0   0  18   0   0   4   1   0   0 194\n",
            "    0   0   0   0   1   2   0   0]\n",
            " [  0  16   0   0   4   7   5   0   5   2   0   8   0   0   0   0   8   1\n",
            "  144   6   0   0   0   2   2  18]\n",
            " [  0   0   0   1   2   1   2   3   0   0   0   0   0   0   0   1   0   1\n",
            "    7 210   0   0   0   1   3   7]\n",
            " [  5   0   0   0   0   0   0   4   0   0   0   1   1   3   0   0   0   0\n",
            "    0   1 207   0   2   0   0   0]\n",
            " [  2   1   0   0   0   1   1   2   0   0   0   0   0   0   0   0   0   3\n",
            "    0   0   2 190   8   0   1   0]\n",
            " [  0   0   0   0   0   0   1   0   0   0   0   0   4   4   3   0   0   0\n",
            "    0   0   0   0 210   0   0   0]\n",
            " [  0   4   0   5   4   1   2   0   2   1   5   6   0   0   1   0   0   2\n",
            "    2   3   0   0   0 204   1   1]\n",
            " [  3   0   0   0   0   2   0   3   0   0   0   0   1   0   0   0   1   0\n",
            "    0   6   1  13   1   0 206   0]\n",
            " [  0   0   0   0   1   0   0   0   0   7   0   1   0   0   0   0   4   0\n",
            "   14   2   0   0   0   1   0 199]]\n"
          ],
          "name": "stdout"
        }
      ]
    },
    {
      "cell_type": "code",
      "metadata": {
        "id": "Nwim2CnS4H47"
      },
      "source": [
        "non_linear_model = SVC(kernel='rbf')\n",
        "non_linear_model.fit(X_train, Y_train)\n",
        "y_pred = non_linear_model.predict(X_test)"
      ],
      "execution_count": 60,
      "outputs": []
    },
    {
      "cell_type": "code",
      "metadata": {
        "colab": {
          "base_uri": "https://localhost:8080/"
        },
        "id": "BV511QZK4H48",
        "outputId": "5aadb552-2ad2-4004-9509-bf1fbc2f7d67"
      },
      "source": [
        "print(\"Accuracy rbf kernel :\", metrics.accuracy_score(y_true=Y_test, y_pred=y_pred), \"\\n\")\n",
        "print(metrics.confusion_matrix(y_true=Y_test, y_pred=y_pred))"
      ],
      "execution_count": 61,
      "outputs": [
        {
          "output_type": "stream",
          "text": [
            "Accuracy rbf kernel : 0.9111666666666667 \n",
            "\n",
            "[[204   0   0   1   0   0   0   0   0   0   0   0   0   0   0   0   0   1\n",
            "    0   0   0   0   0   0   3   0]\n",
            " [  0 202   0   7   1   0   1   0   0   0   0   0   0   0   0   0   0   6\n",
            "    0   0   0   0   0   1   0   0]\n",
            " [  0   0 209   0   9   0   5   1   0   0   0   0   0   0   5   0   0   0\n",
            "    0   0   1   0   0   0   0   0]\n",
            " [  0   3   0 227   0   0   1   2   0   2   0   0   1   4   1   0   0   5\n",
            "    1   0   0   0   0   0   0   1]\n",
            " [  0   0   0   0 215   1  10   0   0   0   1   0   0   0   0   0   0   1\n",
            "    0   1   0   0   0   2   0   3]\n",
            " [  0   1   0   1   0 208   1   0   1   0   0   0   0   1   0   4   0   0\n",
            "    2   5   0   0   1   0   0   0]\n",
            " [  0   0   3   5   1   1 199   0   0   0   2   1   1   0   3   0   0   1\n",
            "    0   0   0   0   2   0   0   0]\n",
            " [  0   7   1  10   0   1   4 163   0   0   4   0   2   0   5   0   5  13\n",
            "    0   0   1   0   1   0   0   0]\n",
            " [  0   0   2   2   0   8   0   0 187   6   1   0   0   0   0   1   1   0\n",
            "    3   0   0   0   0   2   0   2]\n",
            " [  1   1   0   3   0   3   0   0   4 200   0   1   0   1   3   0   0   0\n",
            "    2   0   0   0   0   1   0   0]\n",
            " [  0   1   2   6   5   0   1   5   0   0 203   0   0   0   0   0   0  18\n",
            "    0   0   0   0   1   3   0   0]\n",
            " [  0   1   3   0   2   0   4   0   0   0   2 221   0   0   0   0   0   1\n",
            "    1   0   0   0   0   2   0   0]\n",
            " [  0   4   0   0   0   0   0   1   0   0   1   0 222   0   0   0   0   2\n",
            "    0   0   0   1   3   0   0   0]\n",
            " [  0   1   0   5   0   0   0   1   0   0   0   0   1 235   4   0   0   3\n",
            "    0   0   0   0   0   0   1   0]\n",
            " [  0   0   1   3   0   0   0   0   0   0   0   0   0   0 201   0   3   3\n",
            "    0   0   1   0   9   0   0   0]\n",
            " [  0   2   0   2   5  15   1   2   0   0   0   0   0   0   1 223   3   1\n",
            "    0   0   0   0   1   0   9   0]\n",
            " [  0   1   0   0   5   0   4   0   0   0   0   0   0   0   5   1 213   0\n",
            "    2   0   0   0   1   0   2   1]\n",
            " [  1   7   0   1   2   0   1   0   0   0   2   1   0   3   0   0   3 222\n",
            "    0   0   0   0   0   0   0   0]\n",
            " [  1   8   0   0   3   8   1   0   0   0   0   2   0   0   0   0   0   1\n",
            "  202   0   0   0   0   2   0   0]\n",
            " [  0   0   0   2   0   2   0   0   0   0   0   0   0   0   0   1   0   0\n",
            "    4 222   0   0   0   3   4   1]\n",
            " [  4   0   0   0   0   0   1   1   0   0   0   0   0   0   2   0   0   0\n",
            "    0   0 215   0   1   0   0   0]\n",
            " [  0   2   0   0   1   0   1   0   0   0   0   0   0   5   0   0   0   3\n",
            "    0   1   0 188   6   0   4   0]\n",
            " [  0   0   0   0   0   0   1   0   0   0   0   0   0   2   1   0   0   0\n",
            "    0   0   2   0 216   0   0   0]\n",
            " [  0   2   0   5   1   0   0   0   0   0   7   1   0   0   1   0   0   1\n",
            "    0   0   1   0   0 225   0   0]\n",
            " [  3   0   0   0   0   0   0   1   0   0   0   0   0   0   0   0   1   0\n",
            "    0   1   1   1   1   0 228   0]\n",
            " [  0   0   0   0   2   0   0   0   0   2   0   0   0   0   0   0   6   0\n",
            "    2   0   0   0   0   0   0 217]]\n"
          ],
          "name": "stdout"
        }
      ]
    },
    {
      "cell_type": "code",
      "metadata": {
        "id": "3gOHknJUWUiN"
      },
      "source": [
        "non_linear_model = SVC(kernel='poly')\n",
        "non_linear_model.fit(X_train, Y_train)\n",
        "y_pred = non_linear_model.predict(X_test)"
      ],
      "execution_count": 62,
      "outputs": []
    },
    {
      "cell_type": "code",
      "metadata": {
        "colab": {
          "base_uri": "https://localhost:8080/"
        },
        "id": "YDo9UJ70WUil",
        "outputId": "18d3ff6a-1f44-4561-e144-2ae2864e35a1"
      },
      "source": [
        "print(\"Accuracy polynomial kernel:\", metrics.accuracy_score(y_true=Y_test, y_pred=y_pred), \"\\n\")\n",
        "print(metrics.confusion_matrix(y_true=Y_test, y_pred=y_pred))"
      ],
      "execution_count": 63,
      "outputs": [
        {
          "output_type": "stream",
          "text": [
            "Accuracy polynomial kernel: 0.8526666666666667 \n",
            "\n",
            "[[195   0   0   0   0   0   0   1   0   0   0   1   1   2   3   0   0   3\n",
            "    0   0   1   0   0   1   1   0]\n",
            " [  0 186   0   4   1   0   1   2   0   0   0   0   0   0  19   0   0   3\n",
            "    0   0   0   0   0   1   1   0]\n",
            " [  0   0 192   0  12   0   4   0   0   0   0   0   0   0  19   0   0   0\n",
            "    0   0   0   0   0   3   0   0]\n",
            " [  1   5   0 213   0   0   0   1   0   1   0   0   0   4  15   0   0   7\n",
            "    1   0   0   0   0   0   0   0]\n",
            " [  0   0   0   0 199   0   9   0   0   0   0   0   0   0   7   0   1   0\n",
            "    0   1   0   0   0  15   0   2]\n",
            " [  0   1   0   3   0 200   0   2   0   0   0   0   1   1   4   3   0   0\n",
            "    2   3   0   0   0   5   0   0]\n",
            " [  0   0   3   4   1   2 172   0   0   0   2   1   1   0  30   0   1   0\n",
            "    0   0   0   0   2   0   0   0]\n",
            " [  0   3   1   8   1   1   3 119   0   1   4   1   1   0  57   1   2   8\n",
            "    0   0   0   0   1   5   0   0]\n",
            " [  0   0   0   2   0   7   1   0 183   5   1   0   0   0   4   1   0   0\n",
            "    6   0   0   0   0   5   0   0]\n",
            " [  1   0   0   4   2   1   0   0   3 187   0   1   0   1   9   0   0   0\n",
            "    5   0   0   0   0   6   0   0]\n",
            " [  0   0   3   4   8   0   4  10   0   0 175   0   0   0   7   0   0  13\n",
            "    0   0   0   0   0  21   0   0]\n",
            " [  0   1   1   0   4   0   3   0   0   0   1 215   0   0   6   0   0   1\n",
            "    1   0   1   0   0   3   0   0]\n",
            " [  0   3   0   0   0   0   0   2   0   0   0   0 220   1   2   0   0   2\n",
            "    0   0   0   0   4   0   0   0]\n",
            " [  0   0   1   2   0   0   0   4   0   0   0   0   1 220  18   1   0   3\n",
            "    0   0   0   0   1   0   0   0]\n",
            " [  0   0   0   2   0   0   0   0   0   0   0   0   0   0 211   0   1   1\n",
            "    0   0   0   1   5   0   0   0]\n",
            " [  0   2   0   4   2  14   3   4   0   0   0   1   0   1   5 219   0   0\n",
            "    0   0   2   0   1   0   7   0]\n",
            " [  0   1   0   0   4   0   3   0   0   0   0   1   0   0  29   0 191   0\n",
            "    1   0   0   1   1   0   1   2]\n",
            " [  0   4   0   2   0   0   5   4   0   0   4   2   0   3  22   0   0 196\n",
            "    0   0   0   0   0   1   0   0]\n",
            " [  5   6   0   1   2   6   1   0   0   0   0   3   0   0  11   0   0   1\n",
            "  180   0   0   0   0  11   0   1]\n",
            " [  0   0   0   0   0   4   1   1   0   0   0   0   0   0   6   0   0   1\n",
            "    5 209   0   0   0   9   3   0]\n",
            " [  5   0   0   0   0   0   0   0   0   0   0   0   0   0  16   0   0   0\n",
            "    0   0 202   0   1   0   0   0]\n",
            " [  0   2   0   0   0   0   1   2   0   0   0   0   0   3   6   0   0   0\n",
            "    0   0   3 192   1   0   1   0]\n",
            " [  0   0   0   0   0   0   1   0   0   0   0   0   0   0   5   0   0   0\n",
            "    0   0   0   1 215   0   0   0]\n",
            " [  0   3   0   4   1   0   0   0   0   1   3   2   0   0  34   0   0   0\n",
            "    1   0   3   0   0 192   0   0]\n",
            " [  3   0   0   0   0   1   0   1   0   0   0   0   0   0   1   0   0   0\n",
            "    0   1   2   4   1   0 223   0]\n",
            " [  1   0   0   0   4   2   0   0   0   0   0   2   0   0   0   0   3   0\n",
            "    5   1   0   0   0   1   0 210]]\n"
          ],
          "name": "stdout"
        }
      ]
    }
  ]
}