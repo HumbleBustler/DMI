{
  "nbformat": 4,
  "nbformat_minor": 0,
  "metadata": {
    "kernelspec": {
      "display_name": "Python 3",
      "language": "python",
      "name": "python3"
    },
    "language_info": {
      "codemirror_mode": {
        "name": "ipython",
        "version": 3
      },
      "file_extension": ".py",
      "mimetype": "text/x-python",
      "name": "python",
      "nbconvert_exporter": "python",
      "pygments_lexer": "ipython3",
      "version": "3.6.4"
    },
    "colab": {
      "name": "DMWA3onAnBAll5Kernel.ipynb",
      "provenance": [],
      "collapsed_sections": []
    }
  },
  "cells": [
    {
      "cell_type": "code",
      "metadata": {
        "id": "gw1SdidJ4H4q"
      },
      "source": [
        "import pandas as pd\n",
        "import numpy as np\n",
        "from sklearn.svm import SVC\n",
        "from sklearn.model_selection import train_test_split\n",
        "from sklearn import metrics\n",
        "from sklearn.metrics import confusion_matrix\n",
        "from sklearn.model_selection import KFold\n",
        "from sklearn.model_selection import cross_val_score\n",
        "from sklearn.model_selection import GridSearchCV\n",
        "import matplotlib.pyplot as plt\n",
        "import seaborn as sns\n",
        "from sklearn.preprocessing import scale\n",
        "\n",
        "letters = pd.read_csv(\"letter-recognition.csv\")"
      ],
      "execution_count": 1,
      "outputs": []
    },
    {
      "cell_type": "code",
      "metadata": {
        "id": "dHQUf5v52hsK"
      },
      "source": [
        "def hellinger_kernel(X, Y):\n",
        "    # X /= (X.sum(axis=1, keepdims=True))\n",
        "    # X = np.sqrt(X)\n",
        "    # X /= np.linalg.norm(X, axis=1, ord=2)\n",
        "    return np.sqrt(np.dot(X, Y.T))"
      ],
      "execution_count": 2,
      "outputs": []
    },
    {
      "cell_type": "code",
      "metadata": {
        "id": "DzRQ9d12A8rQ"
      },
      "source": [
        "def chi_sq_kernel(X, Y):\n",
        "    sx = (X.sum(axis=1, keepdims=True))\n",
        "    sy = ((Y).sum(axis=1, keepdims=True))\n",
        "    print(sx.shape)\n",
        "    print(sy.shape)\n",
        "    return 2*np.dot(X, Y.T)/(sx+sy)"
      ],
      "execution_count": 3,
      "outputs": []
    },
    {
      "cell_type": "code",
      "metadata": {
        "id": "w7o5gc-QA8yl"
      },
      "source": [
        "def intersection_kernel(X, Y):\n",
        "    return np.inner(X, Y)"
      ],
      "execution_count": 4,
      "outputs": []
    },
    {
      "cell_type": "code",
      "metadata": {
        "scrolled": true,
        "colab": {
          "base_uri": "https://localhost:8080/",
          "height": 630
        },
        "id": "KxS82uhy4H4u",
        "outputId": "1a332fe2-43e1-46c1-9d03-57a4b2fea662"
      },
      "source": [
        "print(\"Dimensions: \", letters.shape, \"\\n\")\n",
        "print(letters.info())\n",
        "letters.head()"
      ],
      "execution_count": 5,
      "outputs": [
        {
          "output_type": "stream",
          "text": [
            "Dimensions:  (20000, 17) \n",
            "\n",
            "<class 'pandas.core.frame.DataFrame'>\n",
            "RangeIndex: 20000 entries, 0 to 19999\n",
            "Data columns (total 17 columns):\n",
            " #   Column  Non-Null Count  Dtype \n",
            "---  ------  --------------  ----- \n",
            " 0   letter  20000 non-null  object\n",
            " 1   xbox    20000 non-null  int64 \n",
            " 2   ybox    20000 non-null  int64 \n",
            " 3   width   20000 non-null  int64 \n",
            " 4   height  20000 non-null  int64 \n",
            " 5   onpix   20000 non-null  int64 \n",
            " 6   xbar    20000 non-null  int64 \n",
            " 7   ybar    20000 non-null  int64 \n",
            " 8   x2bar   20000 non-null  int64 \n",
            " 9   y2bar   20000 non-null  int64 \n",
            " 10  xybar   20000 non-null  int64 \n",
            " 11  x2ybar  20000 non-null  int64 \n",
            " 12  xy2bar  20000 non-null  int64 \n",
            " 13  xedge   20000 non-null  int64 \n",
            " 14  xedgey  20000 non-null  int64 \n",
            " 15  yedge   20000 non-null  int64 \n",
            " 16  yedgex  20000 non-null  int64 \n",
            "dtypes: int64(16), object(1)\n",
            "memory usage: 2.6+ MB\n",
            "None\n"
          ],
          "name": "stdout"
        },
        {
          "output_type": "execute_result",
          "data": {
            "text/html": [
              "<div>\n",
              "<style scoped>\n",
              "    .dataframe tbody tr th:only-of-type {\n",
              "        vertical-align: middle;\n",
              "    }\n",
              "\n",
              "    .dataframe tbody tr th {\n",
              "        vertical-align: top;\n",
              "    }\n",
              "\n",
              "    .dataframe thead th {\n",
              "        text-align: right;\n",
              "    }\n",
              "</style>\n",
              "<table border=\"1\" class=\"dataframe\">\n",
              "  <thead>\n",
              "    <tr style=\"text-align: right;\">\n",
              "      <th></th>\n",
              "      <th>letter</th>\n",
              "      <th>xbox</th>\n",
              "      <th>ybox</th>\n",
              "      <th>width</th>\n",
              "      <th>height</th>\n",
              "      <th>onpix</th>\n",
              "      <th>xbar</th>\n",
              "      <th>ybar</th>\n",
              "      <th>x2bar</th>\n",
              "      <th>y2bar</th>\n",
              "      <th>xybar</th>\n",
              "      <th>x2ybar</th>\n",
              "      <th>xy2bar</th>\n",
              "      <th>xedge</th>\n",
              "      <th>xedgey</th>\n",
              "      <th>yedge</th>\n",
              "      <th>yedgex</th>\n",
              "    </tr>\n",
              "  </thead>\n",
              "  <tbody>\n",
              "    <tr>\n",
              "      <th>0</th>\n",
              "      <td>T</td>\n",
              "      <td>2</td>\n",
              "      <td>8</td>\n",
              "      <td>3</td>\n",
              "      <td>5</td>\n",
              "      <td>1</td>\n",
              "      <td>8</td>\n",
              "      <td>13</td>\n",
              "      <td>0</td>\n",
              "      <td>6</td>\n",
              "      <td>6</td>\n",
              "      <td>10</td>\n",
              "      <td>8</td>\n",
              "      <td>0</td>\n",
              "      <td>8</td>\n",
              "      <td>0</td>\n",
              "      <td>8</td>\n",
              "    </tr>\n",
              "    <tr>\n",
              "      <th>1</th>\n",
              "      <td>I</td>\n",
              "      <td>5</td>\n",
              "      <td>12</td>\n",
              "      <td>3</td>\n",
              "      <td>7</td>\n",
              "      <td>2</td>\n",
              "      <td>10</td>\n",
              "      <td>5</td>\n",
              "      <td>5</td>\n",
              "      <td>4</td>\n",
              "      <td>13</td>\n",
              "      <td>3</td>\n",
              "      <td>9</td>\n",
              "      <td>2</td>\n",
              "      <td>8</td>\n",
              "      <td>4</td>\n",
              "      <td>10</td>\n",
              "    </tr>\n",
              "    <tr>\n",
              "      <th>2</th>\n",
              "      <td>D</td>\n",
              "      <td>4</td>\n",
              "      <td>11</td>\n",
              "      <td>6</td>\n",
              "      <td>8</td>\n",
              "      <td>6</td>\n",
              "      <td>10</td>\n",
              "      <td>6</td>\n",
              "      <td>2</td>\n",
              "      <td>6</td>\n",
              "      <td>10</td>\n",
              "      <td>3</td>\n",
              "      <td>7</td>\n",
              "      <td>3</td>\n",
              "      <td>7</td>\n",
              "      <td>3</td>\n",
              "      <td>9</td>\n",
              "    </tr>\n",
              "    <tr>\n",
              "      <th>3</th>\n",
              "      <td>N</td>\n",
              "      <td>7</td>\n",
              "      <td>11</td>\n",
              "      <td>6</td>\n",
              "      <td>6</td>\n",
              "      <td>3</td>\n",
              "      <td>5</td>\n",
              "      <td>9</td>\n",
              "      <td>4</td>\n",
              "      <td>6</td>\n",
              "      <td>4</td>\n",
              "      <td>4</td>\n",
              "      <td>10</td>\n",
              "      <td>6</td>\n",
              "      <td>10</td>\n",
              "      <td>2</td>\n",
              "      <td>8</td>\n",
              "    </tr>\n",
              "    <tr>\n",
              "      <th>4</th>\n",
              "      <td>G</td>\n",
              "      <td>2</td>\n",
              "      <td>1</td>\n",
              "      <td>3</td>\n",
              "      <td>1</td>\n",
              "      <td>1</td>\n",
              "      <td>8</td>\n",
              "      <td>6</td>\n",
              "      <td>6</td>\n",
              "      <td>6</td>\n",
              "      <td>6</td>\n",
              "      <td>5</td>\n",
              "      <td>9</td>\n",
              "      <td>1</td>\n",
              "      <td>7</td>\n",
              "      <td>5</td>\n",
              "      <td>10</td>\n",
              "    </tr>\n",
              "  </tbody>\n",
              "</table>\n",
              "</div>"
            ],
            "text/plain": [
              "  letter  xbox   ybox   width   height  ...  xy2bar  xedge   xedgey  yedge   yedgex\n",
              "0      T      2      8       3       5  ...       8       0       8       0       8\n",
              "1      I      5     12       3       7  ...       9       2       8       4      10\n",
              "2      D      4     11       6       8  ...       7       3       7       3       9\n",
              "3      N      7     11       6       6  ...      10       6      10       2       8\n",
              "4      G      2      1       3       1  ...       9       1       7       5      10\n",
              "\n",
              "[5 rows x 17 columns]"
            ]
          },
          "metadata": {
            "tags": []
          },
          "execution_count": 5
        }
      ]
    },
    {
      "cell_type": "code",
      "metadata": {
        "colab": {
          "base_uri": "https://localhost:8080/"
        },
        "id": "I05lF3fO4H4z",
        "outputId": "7b201cbb-0403-4031-e3ab-14d60f76ea95"
      },
      "source": [
        "letters.columns = ['letter', 'xbox', 'ybox', 'width', 'height', 'onpix', 'xbar', 'ybar', 'x2bar', 'y2bar', 'xybar', 'x2ybar', 'xy2bar', 'xedge', 'xedgey', 'yedge', 'yedgex']\n",
        "print(letters.columns)"
      ],
      "execution_count": 6,
      "outputs": [
        {
          "output_type": "stream",
          "text": [
            "Index(['letter', 'xbox', 'ybox', 'width', 'height', 'onpix', 'xbar', 'ybar',\n",
            "       'x2bar', 'y2bar', 'xybar', 'x2ybar', 'xy2bar', 'xedge', 'xedgey',\n",
            "       'yedge', 'yedgex'],\n",
            "      dtype='object')\n"
          ],
          "name": "stdout"
        }
      ]
    },
    {
      "cell_type": "code",
      "metadata": {
        "id": "TJRXG-w6uH2z"
      },
      "source": [
        "letters = letters[letters['letter'].isin(['A', 'B']) == True] \n",
        "# letters = letters[(letters['letter'].any('A', 'B'))] "
      ],
      "execution_count": 7,
      "outputs": []
    },
    {
      "cell_type": "code",
      "metadata": {
        "colab": {
          "base_uri": "https://localhost:8080/"
        },
        "id": "bpvX5UB_4H40",
        "outputId": "34de1330-e031-4815-9886-7f77bab5f380"
      },
      "source": [
        "order = list(np.sort(letters['letter'].unique()))\n",
        "print(order)"
      ],
      "execution_count": 8,
      "outputs": [
        {
          "output_type": "stream",
          "text": [
            "['A', 'B']\n"
          ],
          "name": "stdout"
        }
      ]
    },
    {
      "cell_type": "code",
      "metadata": {
        "colab": {
          "base_uri": "https://localhost:8080/",
          "height": 133
        },
        "id": "61nf6tgl4H41",
        "outputId": "bb561ea5-d6aa-467b-9e0c-4fb3cadde1e1"
      },
      "source": [
        "letter_means = letters.groupby('letter').mean()\n",
        "letter_means.head()"
      ],
      "execution_count": 9,
      "outputs": [
        {
          "output_type": "execute_result",
          "data": {
            "text/html": [
              "<div>\n",
              "<style scoped>\n",
              "    .dataframe tbody tr th:only-of-type {\n",
              "        vertical-align: middle;\n",
              "    }\n",
              "\n",
              "    .dataframe tbody tr th {\n",
              "        vertical-align: top;\n",
              "    }\n",
              "\n",
              "    .dataframe thead th {\n",
              "        text-align: right;\n",
              "    }\n",
              "</style>\n",
              "<table border=\"1\" class=\"dataframe\">\n",
              "  <thead>\n",
              "    <tr style=\"text-align: right;\">\n",
              "      <th></th>\n",
              "      <th>xbox</th>\n",
              "      <th>ybox</th>\n",
              "      <th>width</th>\n",
              "      <th>height</th>\n",
              "      <th>onpix</th>\n",
              "      <th>xbar</th>\n",
              "      <th>ybar</th>\n",
              "      <th>x2bar</th>\n",
              "      <th>y2bar</th>\n",
              "      <th>xybar</th>\n",
              "      <th>x2ybar</th>\n",
              "      <th>xy2bar</th>\n",
              "      <th>xedge</th>\n",
              "      <th>xedgey</th>\n",
              "      <th>yedge</th>\n",
              "      <th>yedgex</th>\n",
              "    </tr>\n",
              "    <tr>\n",
              "      <th>letter</th>\n",
              "      <th></th>\n",
              "      <th></th>\n",
              "      <th></th>\n",
              "      <th></th>\n",
              "      <th></th>\n",
              "      <th></th>\n",
              "      <th></th>\n",
              "      <th></th>\n",
              "      <th></th>\n",
              "      <th></th>\n",
              "      <th></th>\n",
              "      <th></th>\n",
              "      <th></th>\n",
              "      <th></th>\n",
              "      <th></th>\n",
              "      <th></th>\n",
              "    </tr>\n",
              "  </thead>\n",
              "  <tbody>\n",
              "    <tr>\n",
              "      <th>A</th>\n",
              "      <td>3.337136</td>\n",
              "      <td>6.975919</td>\n",
              "      <td>5.128010</td>\n",
              "      <td>5.178707</td>\n",
              "      <td>2.991128</td>\n",
              "      <td>8.851711</td>\n",
              "      <td>3.631179</td>\n",
              "      <td>2.755387</td>\n",
              "      <td>2.043093</td>\n",
              "      <td>7.802281</td>\n",
              "      <td>2.338403</td>\n",
              "      <td>8.465146</td>\n",
              "      <td>2.771863</td>\n",
              "      <td>6.321926</td>\n",
              "      <td>2.875792</td>\n",
              "      <td>7.468948</td>\n",
              "    </tr>\n",
              "    <tr>\n",
              "      <th>B</th>\n",
              "      <td>3.985640</td>\n",
              "      <td>6.962141</td>\n",
              "      <td>5.088773</td>\n",
              "      <td>5.169713</td>\n",
              "      <td>4.596606</td>\n",
              "      <td>7.671018</td>\n",
              "      <td>7.062663</td>\n",
              "      <td>5.366841</td>\n",
              "      <td>5.571802</td>\n",
              "      <td>7.954308</td>\n",
              "      <td>5.506527</td>\n",
              "      <td>6.652742</td>\n",
              "      <td>3.117493</td>\n",
              "      <td>7.919060</td>\n",
              "      <td>6.612272</td>\n",
              "      <td>9.100522</td>\n",
              "    </tr>\n",
              "  </tbody>\n",
              "</table>\n",
              "</div>"
            ],
            "text/plain": [
              "            xbox      ybox     width  ...    xedgey     yedge    yedgex\n",
              "letter                                ...                              \n",
              "A       3.337136  6.975919  5.128010  ...  6.321926  2.875792  7.468948\n",
              "B       3.985640  6.962141  5.088773  ...  7.919060  6.612272  9.100522\n",
              "\n",
              "[2 rows x 16 columns]"
            ]
          },
          "metadata": {
            "tags": []
          },
          "execution_count": 9
        }
      ]
    },
    {
      "cell_type": "code",
      "metadata": {
        "colab": {
          "base_uri": "https://localhost:8080/"
        },
        "id": "__mRCQrz4H43",
        "outputId": "08134530-cb93-4e5a-cf30-61edb11f8947"
      },
      "source": [
        "round(letters.drop('letter', axis=1).mean(), 2)"
      ],
      "execution_count": 10,
      "outputs": [
        {
          "output_type": "execute_result",
          "data": {
            "text/plain": [
              "xbox      3.66\n",
              "ybox      6.97\n",
              "width     5.11\n",
              "height    5.17\n",
              "onpix     3.78\n",
              "xbar      8.27\n",
              "ybar      5.32\n",
              "x2bar     4.04\n",
              "y2bar     3.78\n",
              "xybar     7.88\n",
              "x2ybar    3.90\n",
              "xy2bar    7.57\n",
              "xedge     2.94\n",
              "xedgey    7.11\n",
              "yedge     4.72\n",
              "yedgex    8.27\n",
              "dtype: float64"
            ]
          },
          "metadata": {
            "tags": []
          },
          "execution_count": 10
        }
      ]
    },
    {
      "cell_type": "code",
      "metadata": {
        "id": "Ch5yyqph4H45"
      },
      "source": [
        "X = letters.drop(\"letter\", axis = 1)\n",
        "y = letters['letter']"
      ],
      "execution_count": 11,
      "outputs": []
    },
    {
      "cell_type": "code",
      "metadata": {
        "id": "uAyFsxxO4H45"
      },
      "source": [
        "X_scaled = scale(X, with_mean=False)\n",
        "X_train, X_test, y_train, y_test = train_test_split(X_scaled, y, test_size = 0.3, random_state = 101)"
      ],
      "execution_count": 12,
      "outputs": []
    },
    {
      "cell_type": "code",
      "metadata": {
        "colab": {
          "base_uri": "https://localhost:8080/"
        },
        "id": "4S8iYAu_9QeL",
        "outputId": "adbaf1ad-0705-4feb-b94e-11f60764cbb2"
      },
      "source": [
        "import random\n",
        "print(\"Number of training samples = \", len(X_train))\n",
        "print(\"Number of testing samples = \", len(X_test))"
      ],
      "execution_count": 13,
      "outputs": [
        {
          "output_type": "stream",
          "text": [
            "Number of training samples =  1088\n",
            "Number of testing samples =  467\n"
          ],
          "name": "stdout"
        }
      ]
    },
    {
      "cell_type": "code",
      "metadata": {
        "id": "Byr6aKkDyirp"
      },
      "source": [
        "# Linear SVM model\n",
        "\n",
        "model_linear = SVC(kernel='linear')\n",
        "model_linear.fit(X_train, y_train)\n",
        "y_pred = model_linear.predict(X_test)"
      ],
      "execution_count": 14,
      "outputs": []
    },
    {
      "cell_type": "code",
      "metadata": {
        "colab": {
          "base_uri": "https://localhost:8080/"
        },
        "id": "ipIZlDJ8yir2",
        "outputId": "541f0f16-a4e5-4140-d4eb-33df8f5b0967"
      },
      "source": [
        "print(\"Accuracy linear kernel without Markov Sampling : \", metrics.accuracy_score(y_true=y_test, y_pred=y_pred), \"\\n\")\n",
        "print(metrics.confusion_matrix(y_true=y_test, y_pred=y_pred))"
      ],
      "execution_count": 15,
      "outputs": [
        {
          "output_type": "stream",
          "text": [
            "Accuracy linear kernel without Markov Sampling :  0.9914346895074947 \n",
            "\n",
            "[[225   1]\n",
            " [  3 238]]\n"
          ],
          "name": "stdout"
        }
      ]
    },
    {
      "cell_type": "code",
      "metadata": {
        "id": "MZD6oKjTyir4"
      },
      "source": [
        "# RBF SVM model\n",
        "non_linear_model = SVC(kernel='rbf')\n",
        "non_linear_model.fit(X_train, y_train)\n",
        "y_pred = non_linear_model.predict(X_test)"
      ],
      "execution_count": 16,
      "outputs": []
    },
    {
      "cell_type": "code",
      "metadata": {
        "colab": {
          "base_uri": "https://localhost:8080/"
        },
        "id": "goAaPxYwyir6",
        "outputId": "b1486b26-fbec-499c-98e1-64d359167aa5"
      },
      "source": [
        "print(\"Accuracy rbf kernel without Markov Sampling : \", metrics.accuracy_score(y_true=y_test, y_pred=y_pred), \"\\n\")\n",
        "print(metrics.confusion_matrix(y_true=y_test, y_pred=y_pred))"
      ],
      "execution_count": 17,
      "outputs": [
        {
          "output_type": "stream",
          "text": [
            "Accuracy rbf kernel without Markov Sampling :  0.9978586723768736 \n",
            "\n",
            "[[225   1]\n",
            " [  0 241]]\n"
          ],
          "name": "stdout"
        }
      ]
    },
    {
      "cell_type": "code",
      "metadata": {
        "id": "cuQluDnEyir8"
      },
      "source": [
        "# Polynomial SVM model\n",
        "non_linear_model = SVC(kernel='poly')\n",
        "non_linear_model.fit(X_train, y_train)\n",
        "y_pred = non_linear_model.predict(X_test)"
      ],
      "execution_count": 18,
      "outputs": []
    },
    {
      "cell_type": "code",
      "metadata": {
        "colab": {
          "base_uri": "https://localhost:8080/"
        },
        "id": "LQt9X9Vnyir-",
        "outputId": "6d9898a1-b12a-45f8-f639-f1aa24623e70"
      },
      "source": [
        "print(\"Accuracy polynomial kernel without Markov Sampling : \", metrics.accuracy_score(y_true=y_test, y_pred=y_pred), \"\\n\")\n",
        "print(metrics.confusion_matrix(y_true=y_test, y_pred=y_pred))"
      ],
      "execution_count": 19,
      "outputs": [
        {
          "output_type": "stream",
          "text": [
            "Accuracy polynomial kernel without Markov Sampling :  0.9978586723768736 \n",
            "\n",
            "[[225   1]\n",
            " [  0 241]]\n"
          ],
          "name": "stdout"
        }
      ]
    },
    {
      "cell_type": "code",
      "metadata": {
        "id": "ubcBoMg63juC"
      },
      "source": [
        "# Hellinger SVM model\n",
        "\n",
        "model_hell = SVC(kernel=hellinger_kernel)\n",
        "model_hell.fit(X_train, y_train)\n",
        "y_pred = model_hell.predict(X_test)\n"
      ],
      "execution_count": 20,
      "outputs": []
    },
    {
      "cell_type": "code",
      "metadata": {
        "colab": {
          "base_uri": "https://localhost:8080/"
        },
        "id": "vxt6nT0Z3juE",
        "outputId": "30d29b32-3a4a-4111-ac0f-68b2c7fcd1fe"
      },
      "source": [
        "print(\"Accuracy Hellinger kernel without Markov Sampling : \", metrics.accuracy_score(y_true=y_test, y_pred=y_pred), \"\\n\")\n",
        "print(metrics.confusion_matrix(y_true=y_test, y_pred=y_pred))"
      ],
      "execution_count": 21,
      "outputs": [
        {
          "output_type": "stream",
          "text": [
            "Accuracy Hellinger kernel without Markov Sampling :  0.987152034261242 \n",
            "\n",
            "[[222   4]\n",
            " [  2 239]]\n"
          ],
          "name": "stdout"
        }
      ]
    },
    {
      "cell_type": "code",
      "metadata": {
        "colab": {
          "base_uri": "https://localhost:8080/"
        },
        "id": "OsbEn2UaBT0v",
        "outputId": "375b7a8e-f889-4f24-d35b-16c106253303"
      },
      "source": [
        "# Chi Squred SVM model\n",
        "\n",
        "from sklearn.linear_model import SGDClassifier\n",
        "from sklearn.kernel_approximation import AdditiveChi2Sampler\n",
        "\n",
        "chi2sampler = AdditiveChi2Sampler(sample_steps=2)\n",
        "X_transformed = chi2sampler.fit_transform(X_train, y_train)\n",
        "clf = SGDClassifier(max_iter=100, random_state=0, tol=1e-3)\n",
        "clf.fit(X_transformed, y_train)\n",
        "\n",
        "print(\"Accuracy Chi Squared kernel without Markov Sampling : \", end = '')\n",
        "clf.score(X_transformed, y_train)"
      ],
      "execution_count": 22,
      "outputs": [
        {
          "output_type": "stream",
          "text": [
            "Accuracy Chi Squared kernel without Markov Sampling : "
          ],
          "name": "stdout"
        },
        {
          "output_type": "execute_result",
          "data": {
            "text/plain": [
              "0.9944852941176471"
            ]
          },
          "metadata": {
            "tags": []
          },
          "execution_count": 22
        }
      ]
    },
    {
      "cell_type": "code",
      "metadata": {
        "id": "f-0tTNacC0zh"
      },
      "source": [
        "# Intersection SVM model\n",
        "\n",
        "model_hell = SVC(kernel=intersection_kernel)\n",
        "model_hell.fit(X_train, y_train)\n",
        "y_pred = model_hell.predict(X_test)\n"
      ],
      "execution_count": 23,
      "outputs": []
    },
    {
      "cell_type": "code",
      "metadata": {
        "id": "wV0XrOp2C0zo",
        "colab": {
          "base_uri": "https://localhost:8080/"
        },
        "outputId": "abb0a80c-41b8-4950-a5cc-db143fd0550f"
      },
      "source": [
        "# accuracy\n",
        "print(\"Accuracy Intersection kernel without Markov Sampling : \", metrics.accuracy_score(y_true=y_test, y_pred=y_pred), \"\\n\")\n",
        "print(metrics.confusion_matrix(y_true=y_test, y_pred=y_pred))"
      ],
      "execution_count": 24,
      "outputs": [
        {
          "output_type": "stream",
          "text": [
            "Accuracy Intersection kernel without Markov Sampling :  0.9914346895074947 \n",
            "\n",
            "[[225   1]\n",
            " [  3 238]]\n"
          ],
          "name": "stdout"
        }
      ]
    },
    {
      "cell_type": "code",
      "metadata": {
        "id": "7_LLXzdVvaGq"
      },
      "source": [
        "import math\n",
        "def markov_samp(X_train, Y_train, k = 5, q = 1.2):\n",
        "\n",
        "#Taking N1 as 700\n",
        "    # Init_sampl = np.concatenate((X_train, np.array()), axis = 0)\n",
        "    Init_sampl = np.concatenate((np.vstack(X_train), np.vstack(Y_train.to_numpy())), axis = 1)\n",
        "    Dtr = random.sample(list(Init_sampl), 800)\n",
        "\n",
        "    m = len(Dtr)\n",
        "    print(\"M : \" , m)\n",
        "    # mplus =np.count_nonzero(np.array(Dtr[16]) == 'A')\n",
        "    # mplus = Dtr[16].count('A')\n",
        "#Initializing mneg and mpos as 0\n",
        "    mneg = 0\n",
        "    mplus = 0\n",
        "\n",
        "#Choosing first zt random sample from chosen training samples\n",
        "    index = np.random.choice(len(Dtr), 1, replace=False)  \n",
        "    Dtra = np.array(Dtr)\n",
        "    print(type(Dtra))\n",
        "    zt = Dtra[index][0]\n",
        "\n",
        "    print(\"zt : \", zt)\n",
        "    if m%2 == 0:\n",
        "        if zt[16] == 'A':\n",
        "            mplus += 1;\n",
        "        else:\n",
        "            mneg += 1\n",
        "\n",
        "#Initializing empty sample holder\n",
        "    samp = []\n",
        "\n",
        "#Training SVM for choosing Markov CHain Samples\n",
        "    model_linear = SVC(kernel='linear')#\n",
        "    model_linear.fit(X_train, Y_train)#\n",
        "    \n",
        "    yzt = model_linear.predict(np.array(zt)[0:16].reshape(1, -1))\n",
        "#Calculating loss for zt sample\n",
        "    fxy1 = 1\n",
        "    if not yzt==zt[16]:\n",
        "        fxy1 = 2 \n",
        "    lzt = math.exp(0-fxy1)\n",
        "\n",
        "    Pd = 0\n",
        "    Pdd = 0\n",
        "\n",
        "#Loop for Markov sampling    \n",
        "    while(mplus < m/2 or mneg < m/2 ):\n",
        "    #Choosing zstar sample \n",
        "        zstar = Dtra[np.random.choice(len(Dtr), 1, replace=False)][0]\n",
        "        ystar = model_linear.predict(np.array(zstar)[ 0:16].reshape(1, -1)) #\n",
        "    #Calculating loss for zstar and P ratio\n",
        "        fxy = 1\n",
        "        if not ystar==zstar[16]:\n",
        "            fxy = 2 \n",
        "        lzstar = math.exp(0-fxy)\n",
        "        P = math.exp(lzt-lzstar)\n",
        "        # print(zt)\n",
        "        yt = zt[16]\n",
        "        zt = zstar\n",
        "\n",
        "    #Accept/Reject\n",
        "        if P == 1:\n",
        "            if zt[16] == yt:\n",
        "                r = random.uniform(0.001, 1.0)\n",
        "                if r <= P:\n",
        "                    samp.append(zstar) #Pdash = e−y∗f0 /e−ytf0\n",
        "            else:\n",
        "                ct = 1 if yt=='A' else -1\n",
        "                cst = 1 if ystar=='A' else -1\n",
        "                Pd = math.exp(ct*fxy1-cst*fxy)\n",
        "                r = random.uniform(0.001, 1.0)\n",
        "                if r <= Pd:\n",
        "                    samp.append(zstar) #P\n",
        "\n",
        "        if len(samp) == k:\n",
        "            Pdd = q*P\n",
        "            samp.append(zstar) #Pdd\n",
        "\n",
        "    #Updating zt and mplus and mneg            \n",
        "        ztp1 = zstar\n",
        "        if yt == 'A':\n",
        "            mplus += 1\n",
        "        else:\n",
        "            mneg += 1\n",
        "\n",
        "        if P > 1 or Pd > 1 or Pdd > 1:\n",
        "            samp.append(zstar)\n",
        "    return samp\n"
      ],
      "execution_count": 25,
      "outputs": []
    },
    {
      "cell_type": "code",
      "metadata": {
        "id": "q9xnR2e6S6R8",
        "colab": {
          "base_uri": "https://localhost:8080/"
        },
        "outputId": "5f4b378d-c851-414d-9b2b-5803b724b8d8"
      },
      "source": [
        "nsamp = np.array(markov_samp(X_train, y_train))\n",
        "\n",
        "X_train = nsamp[:, 0:16]\n",
        "y_train = nsamp[:, 16]\n",
        "print(\"Shape of Markov Sample features : \", X_train.shape)\n",
        "print(\"Shape of Markov Sample labels : \", y_train.shape)"
      ],
      "execution_count": 26,
      "outputs": [
        {
          "output_type": "stream",
          "text": [
            "M :  800\n",
            "<class 'numpy.ndarray'>\n",
            "zt :  ['2.3397874294413348' '1.4833209661452773' '2.8806959611043217'\n",
            " '1.8228415078652038' '1.8531181991492494' '4.040776535347255'\n",
            " '3.1160548445974845' '2.278778335741113' '2.830418084375805'\n",
            " '4.116003554693887' '2.7652018417477167' '4.306385225019712'\n",
            " '1.2364099785677056' '5.939937945779338' '2.4188414979771236'\n",
            " '6.194548585975666' 'B']\n",
            "Shape of Markov Sample features :  (1466, 16)\n",
            "Shape of Markov Sample labels :  (1466,)\n"
          ],
          "name": "stdout"
        }
      ]
    },
    {
      "cell_type": "code",
      "metadata": {
        "id": "Czgzdz3sWUFN"
      },
      "source": [
        "# print(y_train)\n",
        "#Converting label to ASCII in list for sklearn as sampling returned ndarray\n",
        "Y_train = []\n",
        "for i in y_train:\n",
        "    Y_train.append(ord(i))\n",
        "# print(Y_train)"
      ],
      "execution_count": 27,
      "outputs": []
    },
    {
      "cell_type": "code",
      "metadata": {
        "id": "TWGtELnRR6b2",
        "colab": {
          "base_uri": "https://localhost:8080/"
        },
        "outputId": "f6cb8047-3a70-4db9-f26e-9b1f4e173709"
      },
      "source": [
        "print(\"\", X_test.shape)"
      ],
      "execution_count": 28,
      "outputs": [
        {
          "output_type": "stream",
          "text": [
            " (467, 16)\n"
          ],
          "name": "stdout"
        }
      ]
    },
    {
      "cell_type": "code",
      "metadata": {
        "id": "MXAxhg-sScBh"
      },
      "source": [
        "# print(y_pred)\n",
        "#Converting label to ASCII in list for sklearn as training is done on ASCII\n",
        "Y_test = []\n",
        "for i in y_test:\n",
        "    Y_test.append(ord(i))\n",
        "# print(Y_test)"
      ],
      "execution_count": 29,
      "outputs": []
    },
    {
      "cell_type": "code",
      "metadata": {
        "id": "ZGqTVqGr4H46"
      },
      "source": [
        "# Linear SVM model\n",
        "\n",
        "model_linear = SVC(kernel='linear')\n",
        "model_linear.fit(X_train, Y_train)\n",
        "y_pred = model_linear.predict(X_test)\n"
      ],
      "execution_count": 30,
      "outputs": []
    },
    {
      "cell_type": "code",
      "metadata": {
        "id": "s12I7fMO4H46",
        "colab": {
          "base_uri": "https://localhost:8080/"
        },
        "outputId": "4488f580-678a-4a74-f5a8-9e76360ee6d1"
      },
      "source": [
        "# accuracy\n",
        "print(\"Accuracy Linear kernel with Markov Sampling : \", metrics.accuracy_score(y_true=Y_test, y_pred=y_pred), \"\\n\")\n",
        "print(metrics.confusion_matrix(y_true=Y_test, y_pred=y_pred))"
      ],
      "execution_count": 31,
      "outputs": [
        {
          "output_type": "stream",
          "text": [
            "Accuracy Linear kernel with Markov Sampling :  0.9914346895074947 \n",
            "\n",
            "[[224   2]\n",
            " [  2 239]]\n"
          ],
          "name": "stdout"
        }
      ]
    },
    {
      "cell_type": "code",
      "metadata": {
        "id": "Nwim2CnS4H47"
      },
      "source": [
        "# RBF SVM model\n",
        "non_linear_model = SVC(kernel='rbf')\n",
        "non_linear_model.fit(X_train, Y_train)\n",
        "y_pred = non_linear_model.predict(X_test)"
      ],
      "execution_count": 32,
      "outputs": []
    },
    {
      "cell_type": "code",
      "metadata": {
        "id": "BV511QZK4H48",
        "colab": {
          "base_uri": "https://localhost:8080/"
        },
        "outputId": "da49e0e1-0568-4945-90f4-fc163f2fa5c6"
      },
      "source": [
        "print(\"Accuracy rbf kernel with Markov Sampling : \", metrics.accuracy_score(y_true=Y_test, y_pred=y_pred), \"\\n\")\n",
        "print(metrics.confusion_matrix(y_true=Y_test, y_pred=y_pred))"
      ],
      "execution_count": 33,
      "outputs": [
        {
          "output_type": "stream",
          "text": [
            "Accuracy rbf kernel with Markov Sampling :  0.9935760171306209 \n",
            "\n",
            "[[224   2]\n",
            " [  1 240]]\n"
          ],
          "name": "stdout"
        }
      ]
    },
    {
      "cell_type": "code",
      "metadata": {
        "id": "3gOHknJUWUiN"
      },
      "source": [
        "#Polynomial SVM model\n",
        "non_linear_model = SVC(kernel='poly')\n",
        "non_linear_model.fit(X_train, Y_train)\n",
        "y_pred = non_linear_model.predict(X_test)"
      ],
      "execution_count": 34,
      "outputs": []
    },
    {
      "cell_type": "code",
      "metadata": {
        "id": "YDo9UJ70WUil",
        "colab": {
          "base_uri": "https://localhost:8080/"
        },
        "outputId": "b2e36aec-6467-45a1-b276-aeaa6c9a2ce5"
      },
      "source": [
        "print(\"Accuracy polynomial kernel with Markov Sampling : \", metrics.accuracy_score(y_true=Y_test, y_pred=y_pred), \"\\n\")\n",
        "print(metrics.confusion_matrix(y_true=Y_test, y_pred=y_pred))"
      ],
      "execution_count": 35,
      "outputs": [
        {
          "output_type": "stream",
          "text": [
            "Accuracy polynomial kernel with Markov Sampling :  0.9914346895074947 \n",
            "\n",
            "[[222   4]\n",
            " [  0 241]]\n"
          ],
          "name": "stdout"
        }
      ]
    },
    {
      "cell_type": "code",
      "metadata": {
        "id": "XpT6k0GnAG_a"
      },
      "source": [
        "# Hellinger SVM model\n",
        "\n",
        "model_hell = SVC(kernel=hellinger_kernel)\n",
        "model_hell.fit(X_train, Y_train)\n",
        "y_pred = model_hell.predict(X_test)\n"
      ],
      "execution_count": 36,
      "outputs": []
    },
    {
      "cell_type": "code",
      "metadata": {
        "id": "tzDeYBewAG_k",
        "colab": {
          "base_uri": "https://localhost:8080/"
        },
        "outputId": "3d4f1d46-7f9c-410a-af03-92550065b32c"
      },
      "source": [
        "print(\"Accuracy Hellinger kernel with Markov Sampling : \", metrics.accuracy_score(y_true=Y_test, y_pred=y_pred), \"\\n\")\n",
        "print(metrics.confusion_matrix(y_true=Y_test, y_pred=y_pred))"
      ],
      "execution_count": 37,
      "outputs": [
        {
          "output_type": "stream",
          "text": [
            "Accuracy Hellinger kernel with Markov Sampling :  0.9828693790149893 \n",
            "\n",
            "[[220   6]\n",
            " [  2 239]]\n"
          ],
          "name": "stdout"
        }
      ]
    },
    {
      "cell_type": "code",
      "metadata": {
        "colab": {
          "base_uri": "https://localhost:8080/"
        },
        "id": "pUXQc-WLLmTv",
        "outputId": "7b547d8a-2107-4504-ac85-a8e52f1137ee"
      },
      "source": [
        "# Chi Squared SVM model\n",
        "chi2sampler = AdditiveChi2Sampler(sample_steps=2)\n",
        "X_transformed = chi2sampler.fit_transform(X_train.astype(np.float), pd.Series(y_train))\n",
        "clf = SGDClassifier(max_iter=100, random_state=0, tol=1e-3)\n",
        "clf.fit(X_transformed, pd.Series(y_train))\n",
        "\n",
        "print(\"Accuracy Chi Squared kernel without Markov Sampling : \", end = '')\n",
        "clf.score(X_transformed, pd.Series(y_train))"
      ],
      "execution_count": 38,
      "outputs": [
        {
          "output_type": "stream",
          "text": [
            "Accuracy Chi Squared kernel without Markov Sampling : "
          ],
          "name": "stdout"
        },
        {
          "output_type": "execute_result",
          "data": {
            "text/plain": [
              "0.9945429740791268"
            ]
          },
          "metadata": {
            "tags": []
          },
          "execution_count": 38
        }
      ]
    },
    {
      "cell_type": "code",
      "metadata": {
        "id": "dj02GdnWLmT9"
      },
      "source": [
        "# Intersection SVM model\n",
        "\n",
        "model_hell = SVC(kernel=intersection_kernel)\n",
        "model_hell.fit(X_train, Y_train)\n",
        "y_pred = model_hell.predict(X_test)"
      ],
      "execution_count": 39,
      "outputs": []
    },
    {
      "cell_type": "code",
      "metadata": {
        "colab": {
          "base_uri": "https://localhost:8080/"
        },
        "id": "IEuAMYE6LmT-",
        "outputId": "02fbc50f-adfc-41f2-825a-0e2754d747ec"
      },
      "source": [
        "print(\"Accuracy Intersection kernel with Markov Sampling : \", metrics.accuracy_score(y_true=Y_test, y_pred=y_pred), \"\\n\")\n",
        "print(metrics.confusion_matrix(y_true=Y_test, y_pred=y_pred))"
      ],
      "execution_count": 40,
      "outputs": [
        {
          "output_type": "stream",
          "text": [
            "Accuracy Intersection kernel with Markov Sampling :  0.9914346895074947 \n",
            "\n",
            "[[224   2]\n",
            " [  2 239]]\n"
          ],
          "name": "stdout"
        }
      ]
    }
  ]
}